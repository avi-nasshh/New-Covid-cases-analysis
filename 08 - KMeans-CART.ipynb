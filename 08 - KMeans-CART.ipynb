{
 "cells": [
  {
   "cell_type": "code",
   "execution_count": 1,
   "id": "aa062a52",
   "metadata": {},
   "outputs": [],
   "source": [
    "import numpy as np\n",
    "import pandas as pd\n",
    "import matplotlib.pyplot as plt\n",
    "import seaborn as sns\n",
    "%matplotlib inline\n",
    "import sys\n",
    "import random\n",
    "from pprint import pprint\n",
    "import copy\n",
    "from copy import deepcopy"
   ]
  },
  {
   "cell_type": "code",
   "execution_count": 2,
   "id": "9007d8a9",
   "metadata": {},
   "outputs": [],
   "source": [
    "def train_test_split(df, train_size):\n",
    "    df = df.sample(frac = 1, random_state = 42)\n",
    "    if type(train_size) == float:\n",
    "        train_index = int(len(df)*train_size)\n",
    "    train = df[0:train_index]\n",
    "    test = df[train_index:]\n",
    "    return train, test"
   ]
  },
  {
   "cell_type": "code",
   "execution_count": 3,
   "id": "de7d1be0",
   "metadata": {},
   "outputs": [],
   "source": [
    "def give_mean(data):\n",
    "    tar_col = data[:,-1]\n",
    "    mean = np.mean(tar_col)\n",
    "    return mean"
   ]
  },
  {
   "cell_type": "code",
   "execution_count": 4,
   "id": "378e113b",
   "metadata": {},
   "outputs": [],
   "source": [
    "def get_potential_splits(data):\n",
    "    _, num_cols = data.shape\n",
    "    data = data[:,:num_cols-1]\n",
    "    _, num_cols = data.shape\n",
    "    potential_splits = {}\n",
    "    for i in range(num_cols):\n",
    "        potential_splits[i] = []\n",
    "        values = data[:,i]\n",
    "        values = np.unique(values)\n",
    "\n",
    "        for j in range(1,len(values)):\n",
    "            potential_split = (values[j] + values[j-1])/2 \n",
    "            potential_splits[i].append(potential_split)\n",
    "    return potential_splits"
   ]
  },
  {
   "cell_type": "code",
   "execution_count": 5,
   "id": "0e06d925",
   "metadata": {},
   "outputs": [],
   "source": [
    "def split_data(data, split_feature, split_value):\n",
    "    cond = data[:,split_feature] <= split_value\n",
    "    data_below = data[cond]\n",
    "    data_above = data[~cond]\n",
    "    return data_below, data_above"
   ]
  },
  {
   "cell_type": "code",
   "execution_count": 6,
   "id": "914a72a2",
   "metadata": {},
   "outputs": [],
   "source": [
    "def cal_rss(data):\n",
    "    tar_col = data[:,-1]\n",
    "    rss = np.sum((tar_col - np.mean(tar_col))**2)\n",
    "    return rss"
   ]
  },
  {
   "cell_type": "code",
   "execution_count": 7,
   "id": "c7e76b7f",
   "metadata": {},
   "outputs": [],
   "source": [
    "def calculate_total_rss(data_below, data_above):\n",
    "    total_rss = cal_rss(data_below)+ cal_rss(data_above)\n",
    "    return total_rss"
   ]
  },
  {
   "cell_type": "code",
   "execution_count": 8,
   "id": "899c8e3b",
   "metadata": {},
   "outputs": [],
   "source": [
    "def get_best_split(data, potential_splits):\n",
    "    total_rss = sys.maxsize\n",
    "    best_split_feature = None\n",
    "    best_split_value = None\n",
    "    for i in potential_splits:\n",
    "        for j in potential_splits[i]:\n",
    "            data_below, data_above = split_data(data, i, j)\n",
    "            current_total_rss = calculate_total_rss(data_below, data_above)\n",
    "            if current_total_rss <= total_rss:\n",
    "                total_rss = current_total_rss\n",
    "                best_split_feature = i\n",
    "                best_split_value = j\n",
    "                \n",
    "    return best_split_feature, best_split_value  "
   ]
  },
  {
   "cell_type": "code",
   "execution_count": 9,
   "id": "9a36e703",
   "metadata": {},
   "outputs": [],
   "source": [
    "def decision_tree_algo(df, max_depth, min_size, counter = 0):\n",
    "    data = df.values\n",
    "    if (len(data) < min_size) or (counter == max_depth):\n",
    "        return give_mean(data)\n",
    "    else:\n",
    "        counter += 1\n",
    "        potential_splits = get_potential_splits(data)\n",
    "        split_feature, split_value = get_best_split(data, potential_splits)\n",
    "        data_below, data_above = split_data(data, split_feature, split_value)\n",
    "        \n",
    "        feature_name = features[split_feature]\n",
    "        que = \"{} <= {}\".format(feature_name, split_value)\n",
    "        sub_tree = {que : []}\n",
    "        yes_ans = decision_tree_algo(pd.DataFrame(data_below),max_depth, min_size, counter)\n",
    "        no_ans = decision_tree_algo(pd.DataFrame(data_above), max_depth, min_size, counter)\n",
    "        if yes_ans == no_ans:\n",
    "            sub_tree = yes_ans\n",
    "        else:\n",
    "            sub_tree[que].append(yes_ans)\n",
    "            sub_tree[que].append(no_ans)\n",
    "        return sub_tree"
   ]
  },
  {
   "cell_type": "code",
   "execution_count": 11,
   "id": "cefa16ab",
   "metadata": {},
   "outputs": [],
   "source": [
    "def predict_example(example, tree):\n",
    "    que = list(tree.keys())[0]\n",
    "    feature_name, comparison_operator, value = que.split(\" \")\n",
    "    if example[feature_name] <= float(value):\n",
    "        ans = tree[que][0]\n",
    "    else: \n",
    "        ans = tree[que][1]\n",
    "        \n",
    "    if type(ans) != dict:\n",
    "        return ans\n",
    "    else:\n",
    "        residual_tree = ans\n",
    "        return predict_example(example, residual_tree)"
   ]
  },
  {
   "cell_type": "code",
   "execution_count": 12,
   "id": "b6aa3b53",
   "metadata": {},
   "outputs": [],
   "source": [
    "def calculate_r_squared(df, tree):\n",
    "    values = df.new_cases\n",
    "    n = len(df)\n",
    "    mean = values.mean()\n",
    "    predictions = df.apply(predict_example, args = (tree,), axis = 1)\n",
    "    ss_res = sum((values - predictions)**2)\n",
    "    ss_tot = sum((values - mean)**2)\n",
    "    r_squared = 1 - ss_res / ss_tot\n",
    "    return r_squared"
   ]
  },
  {
   "cell_type": "code",
   "execution_count": 13,
   "id": "7f5de283",
   "metadata": {},
   "outputs": [],
   "source": [
    "def create_plot(df, tree, title):\n",
    "    predictions = df.apply(predict_example, args = (tree,), axis = 1)\n",
    "    actual = df.new_cases\n",
    "    plot_df = pd.DataFrame({\"actual\":actual, \"predictions\":predictions})\n",
    "    plot_df.sort_index().plot(figsize = (18, 5), title = title)\n",
    "    return"
   ]
  },
  {
   "cell_type": "code",
   "execution_count": 14,
   "id": "fb311aaa",
   "metadata": {},
   "outputs": [],
   "source": [
    "def euclidean_distance(x1, x2):\n",
    "    return np.sqrt(np.sum((x1 - x2) ** 2))\n",
    "\n",
    "def manhattan_distance(x1, x2):\n",
    "    return np.sum(np.abs(x1-x2))"
   ]
  },
  {
   "cell_type": "code",
   "execution_count": 15,
   "id": "19d23973",
   "metadata": {},
   "outputs": [],
   "source": [
    "np.random.seed(42)\n",
    "\n",
    "class KMeans:\n",
    "    def __init__(self, K=3, max_iters=100):\n",
    "        self.K = K\n",
    "        self.max_iters = max_iters\n",
    "        self.clusters = [[] for _ in range(self.K)]\n",
    "        self.centroids = []\n",
    "        \n",
    "    def predict(self, X):\n",
    "        self.X = X\n",
    "        self.n_samples, self.n_features = X.shape\n",
    "        random_sample_idxs = np.random.choice(self.n_samples, self.K, replace=False)\n",
    "        self.centroids = [self.X[idx] for idx in random_sample_idxs]\n",
    "        for _ in range(self.max_iters):\n",
    "            self.clusters = self._create_clusters(self.centroids)\n",
    "            centroids_old = self.centroids\n",
    "            self.centroids = self._get_centroids(self.clusters)\n",
    "            if self._is_converged(centroids_old, self.centroids):\n",
    "                break\n",
    "        return self._get_cluster_labels(self.clusters)\n",
    "\n",
    "    def _get_cluster_labels(self, clusters):\n",
    "        labels = np.empty(self.n_samples)\n",
    "        for cluster_idx, cluster in enumerate(clusters):\n",
    "            for sample_index in cluster:\n",
    "                labels[sample_index] = cluster_idx\n",
    "        return labels\n",
    "\n",
    "    def _create_clusters(self, centroids):\n",
    "        clusters = [[] for _ in range(self.K)]\n",
    "        for idx, sample in enumerate(self.X):\n",
    "            centroid_idx = self._closest_centroid(sample, centroids)\n",
    "            clusters[centroid_idx].append(idx)  \n",
    "        return clusters\n",
    "\n",
    "    def _closest_centroid(self, sample, centroids):\n",
    "        distances = [manhattan_distance(sample, point) for point in centroids]\n",
    "        closest_index = np.argmin(distances)\n",
    "        return closest_index\n",
    "\n",
    "    def _get_centroids(self, clusters):\n",
    "        centroids = np.zeros((self.K, self.n_features))\n",
    "        for cluster_idx, cluster in enumerate(clusters):\n",
    "            cluster_mean = np.mean(self.X[cluster], axis=0)\n",
    "            centroids[cluster_idx] = cluster_mean\n",
    "        return centroids\n",
    "\n",
    "    def _is_converged(self, centroids_old, centroids):\n",
    "        distances = [manhattan_distance(centroids_old[i], centroids[i]) for i in range(self.K)]\n",
    "        return sum(distances) == 0\n",
    "\n",
    "if __name__ == \"__main__\":\n",
    "    df = pd.read_csv(\"df.csv\")\n",
    "    df = df.drop(columns = [\"Unnamed: 0\"])\n",
    "    df.head()"
   ]
  },
  {
   "cell_type": "code",
   "execution_count": 16,
   "id": "33ee9e62",
   "metadata": {},
   "outputs": [],
   "source": [
    "train, test = train_test_split(df, 0.8)"
   ]
  },
  {
   "cell_type": "code",
   "execution_count": 17,
   "id": "7bec1ba5",
   "metadata": {},
   "outputs": [],
   "source": [
    "features = df.columns"
   ]
  },
  {
   "cell_type": "code",
   "execution_count": 18,
   "id": "d4076bf8",
   "metadata": {},
   "outputs": [],
   "source": [
    "data = train.drop(columns = ['new_cases']).values\n",
    "X = data\n",
    "k = KMeans(K=3, max_iters=15)\n",
    "y_pred = k.predict(X)\n",
    "clusters = k.clusters\n",
    "cluster_dfs = []\n",
    "for cluster in clusters:\n",
    "    temp = copy.deepcopy(df.loc[cluster])\n",
    "    cluster_dfs.append(temp)"
   ]
  },
  {
   "cell_type": "code",
   "execution_count": 19,
   "id": "cc146163",
   "metadata": {},
   "outputs": [],
   "source": [
    "def find_best_fit(df):\n",
    "    grid_search = {\"max_depth\": [], \"min_samples\": [], \"r_squared_train\": []}\n",
    "    for max_depth in range(2,11):\n",
    "        for min_samples in range(2,40,5):\n",
    "            tree = decision_tree_algo(df, max_depth = max_depth, min_size = min_samples)\n",
    "            r_squared_train = calculate_r_squared(df, tree)\n",
    "            grid_search[\"max_depth\"].append(max_depth)\n",
    "            grid_search[\"min_samples\"].append(min_samples)\n",
    "            grid_search[\"r_squared_train\"].append(r_squared_train)\n",
    "    grid_search = pd.DataFrame(grid_search)\n",
    "    return grid_search.sort_values(\"r_squared_train\", ascending = False).head()"
   ]
  },
  {
   "cell_type": "code",
   "execution_count": 20,
   "id": "497ec5f5",
   "metadata": {},
   "outputs": [],
   "source": [
    "best_fit = []\n",
    "for i in range(len(cluster_dfs)):\n",
    "    grid = find_best_fit(cluster_dfs[i])\n",
    "    best_fit.append(grid)"
   ]
  },
  {
   "cell_type": "code",
   "execution_count": 21,
   "id": "e3ab4548",
   "metadata": {},
   "outputs": [
    {
     "name": "stdout",
     "output_type": "stream",
     "text": [
      "64    10\n",
      "Name: max_depth, dtype: int64\n",
      "64    10\n",
      "Name: max_depth, dtype: int64\n",
      "64    10\n",
      "Name: max_depth, dtype: int64\n"
     ]
    }
   ],
   "source": [
    "for i in range(len(best_fit)):\n",
    "    print(best_fit[i].max_depth.head(1))"
   ]
  },
  {
   "cell_type": "code",
   "execution_count": 22,
   "id": "c898d2f6",
   "metadata": {},
   "outputs": [
    {
     "name": "stdout",
     "output_type": "stream",
     "text": [
      "64    2\n",
      "Name: min_samples, dtype: int64\n",
      "64    2\n",
      "Name: min_samples, dtype: int64\n",
      "64    2\n",
      "Name: min_samples, dtype: int64\n"
     ]
    }
   ],
   "source": [
    "for i in range(len(best_fit)):\n",
    "    print(best_fit[i].min_samples.head(1))"
   ]
  },
  {
   "cell_type": "code",
   "execution_count": 23,
   "id": "a9670982",
   "metadata": {},
   "outputs": [],
   "source": [
    "random_forest = []\n",
    "for i in range(len(cluster_dfs)):\n",
    "    tree = decision_tree_algo(cluster_dfs[i], 10,2)\n",
    "    random_forest.append(tree)"
   ]
  },
  {
   "cell_type": "code",
   "execution_count": 26,
   "id": "b522a405",
   "metadata": {},
   "outputs": [
    {
     "name": "stdout",
     "output_type": "stream",
     "text": [
      "-0.07113999180537633\n"
     ]
    }
   ],
   "source": [
    "predictions = []\n",
    "for idx in test.index:\n",
    "    sample = test.loc[idx].values[:-1]\n",
    "    sample_in_df = test.loc[idx]\n",
    "    sampleCluster = np.argmin(np.sum((k.centroids - sample)**2, axis = 1))\n",
    "    tree_instance = random_forest[sampleCluster]\n",
    "    predictions.append(predict_example(sample_in_df, tree_instance))\n",
    "\n",
    "predictions = pd.Series(data = predictions, index = test.index)\n",
    "predictions\n",
    "values = test.new_cases\n",
    "mean = values.mean()\n",
    "x = sum((values - predictions)**2)\n",
    "y = sum((values - mean)**2)\n",
    "r_squared = 1 - x / y\n",
    "print(r_squared)"
   ]
  },
  {
   "cell_type": "code",
   "execution_count": 27,
   "id": "4686c8fc",
   "metadata": {},
   "outputs": [
    {
     "data": {
      "image/png": "[encoded data removed]",
      "text/plain": [
       "<Figure size 1296x360 with 1 Axes>"
      ]
     },
     "metadata": {
      "needs_background": "light"
     },
     "output_type": "display_data"
    }
   ],
   "source": [
    "create_plot(train, tree, \"Training Example\")"
   ]
  },
  {
   "cell_type": "code",
   "execution_count": 28,
   "id": "5efde61d",
   "metadata": {},
   "outputs": [
    {
     "data": {
      "image/png": "[encoded data removed]",
      "text/plain": [
       "<Figure size 1296x360 with 1 Axes>"
      ]
     },
     "metadata": {
      "needs_background": "light"
     },
     "output_type": "display_data"
    }
   ],
   "source": [
    "create_plot(test, tree, \"Test Example\")"
   ]
  },
  {
   "cell_type": "code",
   "execution_count": null,
   "id": "1face6a9",
   "metadata": {},
   "outputs": [],
   "source": []
  }
 ],
 "metadata": {
  "kernelspec": {
   "display_name": "Python 3",
   "language": "python",
   "name": "python3"
  },
  "language_info": {
   "codemirror_mode": {
    "name": "ipython",
    "version": 3
   },
   "file_extension": ".py",
   "mimetype": "text/x-python",
   "name": "python",
   "nbconvert_exporter": "python",
   "pygments_lexer": "ipython3",
   "version": "3.8.8"
  }
 },
 "nbformat": 4,
 "nbformat_minor": 5
}
