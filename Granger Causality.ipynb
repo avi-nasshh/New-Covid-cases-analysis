{
 "cells": [
  {
   "cell_type": "code",
   "execution_count": 1,
   "id": "2f506223",
   "metadata": {},
   "outputs": [],
   "source": [
    "import pandas as pd"
   ]
  },
  {
   "cell_type": "code",
   "execution_count": 2,
   "id": "8962f140",
   "metadata": {},
   "outputs": [],
   "source": [
    "df = pd.read_csv('file2.csv')"
   ]
  },
  {
   "cell_type": "code",
   "execution_count": 3,
   "id": "2ab48f83",
   "metadata": {
    "scrolled": true
   },
   "outputs": [
    {
     "data": {
      "text/html": [
       "<div>\n",
       "<style scoped>\n",
       "    .dataframe tbody tr th:only-of-type {\n",
       "        vertical-align: middle;\n",
       "    }\n",
       "\n",
       "    .dataframe tbody tr th {\n",
       "        vertical-align: top;\n",
       "    }\n",
       "\n",
       "    .dataframe thead th {\n",
       "        text-align: right;\n",
       "    }\n",
       "</style>\n",
       "<table border=\"1\" class=\"dataframe\">\n",
       "  <thead>\n",
       "    <tr style=\"text-align: right;\">\n",
       "      <th></th>\n",
       "      <th>retail_and_recreation</th>\n",
       "      <th>residential</th>\n",
       "      <th>transit_stations</th>\n",
       "      <th>parks</th>\n",
       "      <th>workplaces</th>\n",
       "      <th>total_cases</th>\n",
       "      <th>new_cases</th>\n",
       "      <th>new_cases_smoothed</th>\n",
       "      <th>total_deaths</th>\n",
       "      <th>new_deaths</th>\n",
       "      <th>...</th>\n",
       "      <th>reproduction_rate</th>\n",
       "      <th>new_tests</th>\n",
       "      <th>total_tests</th>\n",
       "      <th>total_tests_per_thousand</th>\n",
       "      <th>new_tests_per_thousand</th>\n",
       "      <th>new_tests_smoothed</th>\n",
       "      <th>new_tests_smoothed_per_thousand</th>\n",
       "      <th>positive_rate</th>\n",
       "      <th>tests_per_case</th>\n",
       "      <th>stringency_index</th>\n",
       "    </tr>\n",
       "  </thead>\n",
       "  <tbody>\n",
       "    <tr>\n",
       "      <th>0</th>\n",
       "      <td>-13.000</td>\n",
       "      <td>4.143</td>\n",
       "      <td>-10.286</td>\n",
       "      <td>-5.857</td>\n",
       "      <td>-7.143</td>\n",
       "      <td>244.0</td>\n",
       "      <td>50.0</td>\n",
       "      <td>23.143</td>\n",
       "      <td>5.0</td>\n",
       "      <td>1.0</td>\n",
       "      <td>...</td>\n",
       "      <td>2.07</td>\n",
       "      <td>1060.0</td>\n",
       "      <td>14376.0</td>\n",
       "      <td>0.010</td>\n",
       "      <td>0.001</td>\n",
       "      <td>1125.0</td>\n",
       "      <td>0.001</td>\n",
       "      <td>0.021</td>\n",
       "      <td>48.6</td>\n",
       "      <td>70.83</td>\n",
       "    </tr>\n",
       "    <tr>\n",
       "      <th>1</th>\n",
       "      <td>-16.286</td>\n",
       "      <td>4.714</td>\n",
       "      <td>-12.714</td>\n",
       "      <td>-8.286</td>\n",
       "      <td>-8.857</td>\n",
       "      <td>330.0</td>\n",
       "      <td>86.0</td>\n",
       "      <td>32.571</td>\n",
       "      <td>4.0</td>\n",
       "      <td>-1.0</td>\n",
       "      <td>...</td>\n",
       "      <td>2.12</td>\n",
       "      <td>1325.0</td>\n",
       "      <td>15701.0</td>\n",
       "      <td>0.011</td>\n",
       "      <td>0.001</td>\n",
       "      <td>1125.0</td>\n",
       "      <td>0.001</td>\n",
       "      <td>0.029</td>\n",
       "      <td>34.5</td>\n",
       "      <td>76.39</td>\n",
       "    </tr>\n",
       "    <tr>\n",
       "      <th>2</th>\n",
       "      <td>-25.857</td>\n",
       "      <td>7.286</td>\n",
       "      <td>-21.714</td>\n",
       "      <td>-15.714</td>\n",
       "      <td>-16.143</td>\n",
       "      <td>396.0</td>\n",
       "      <td>66.0</td>\n",
       "      <td>40.429</td>\n",
       "      <td>7.0</td>\n",
       "      <td>3.0</td>\n",
       "      <td>...</td>\n",
       "      <td>2.12</td>\n",
       "      <td>1298.0</td>\n",
       "      <td>16999.0</td>\n",
       "      <td>0.012</td>\n",
       "      <td>0.001</td>\n",
       "      <td>1121.0</td>\n",
       "      <td>0.001</td>\n",
       "      <td>0.036</td>\n",
       "      <td>27.7</td>\n",
       "      <td>100.00</td>\n",
       "    </tr>\n",
       "    <tr>\n",
       "      <th>3</th>\n",
       "      <td>-32.429</td>\n",
       "      <td>9.714</td>\n",
       "      <td>-28.286</td>\n",
       "      <td>-20.571</td>\n",
       "      <td>-22.714</td>\n",
       "      <td>499.0</td>\n",
       "      <td>103.0</td>\n",
       "      <td>54.286</td>\n",
       "      <td>10.0</td>\n",
       "      <td>3.0</td>\n",
       "      <td>...</td>\n",
       "      <td>2.11</td>\n",
       "      <td>3708.0</td>\n",
       "      <td>20707.0</td>\n",
       "      <td>0.015</td>\n",
       "      <td>0.003</td>\n",
       "      <td>1462.0</td>\n",
       "      <td>0.001</td>\n",
       "      <td>0.037</td>\n",
       "      <td>26.9</td>\n",
       "      <td>86.57</td>\n",
       "    </tr>\n",
       "    <tr>\n",
       "      <th>4</th>\n",
       "      <td>-40.571</td>\n",
       "      <td>12.857</td>\n",
       "      <td>-36.143</td>\n",
       "      <td>-26.571</td>\n",
       "      <td>-30.857</td>\n",
       "      <td>536.0</td>\n",
       "      <td>37.0</td>\n",
       "      <td>56.286</td>\n",
       "      <td>10.0</td>\n",
       "      <td>0.0</td>\n",
       "      <td>...</td>\n",
       "      <td>2.09</td>\n",
       "      <td>157.0</td>\n",
       "      <td>20864.0</td>\n",
       "      <td>0.015</td>\n",
       "      <td>0.000</td>\n",
       "      <td>1295.0</td>\n",
       "      <td>0.001</td>\n",
       "      <td>0.043</td>\n",
       "      <td>23.0</td>\n",
       "      <td>86.57</td>\n",
       "    </tr>\n",
       "  </tbody>\n",
       "</table>\n",
       "<p>5 rows × 27 columns</p>\n",
       "</div>"
      ],
      "text/plain": [
       "   retail_and_recreation  residential  transit_stations   parks  workplaces  \\\n",
       "0                -13.000        4.143           -10.286  -5.857      -7.143   \n",
       "1                -16.286        4.714           -12.714  -8.286      -8.857   \n",
       "2                -25.857        7.286           -21.714 -15.714     -16.143   \n",
       "3                -32.429        9.714           -28.286 -20.571     -22.714   \n",
       "4                -40.571       12.857           -36.143 -26.571     -30.857   \n",
       "\n",
       "   total_cases  new_cases  new_cases_smoothed  total_deaths  new_deaths  ...  \\\n",
       "0        244.0       50.0              23.143           5.0         1.0  ...   \n",
       "1        330.0       86.0              32.571           4.0        -1.0  ...   \n",
       "2        396.0       66.0              40.429           7.0         3.0  ...   \n",
       "3        499.0      103.0              54.286          10.0         3.0  ...   \n",
       "4        536.0       37.0              56.286          10.0         0.0  ...   \n",
       "\n",
       "   reproduction_rate  new_tests  total_tests  total_tests_per_thousand  \\\n",
       "0               2.07     1060.0      14376.0                     0.010   \n",
       "1               2.12     1325.0      15701.0                     0.011   \n",
       "2               2.12     1298.0      16999.0                     0.012   \n",
       "3               2.11     3708.0      20707.0                     0.015   \n",
       "4               2.09      157.0      20864.0                     0.015   \n",
       "\n",
       "   new_tests_per_thousand  new_tests_smoothed  \\\n",
       "0                   0.001              1125.0   \n",
       "1                   0.001              1125.0   \n",
       "2                   0.001              1121.0   \n",
       "3                   0.003              1462.0   \n",
       "4                   0.000              1295.0   \n",
       "\n",
       "   new_tests_smoothed_per_thousand  positive_rate  tests_per_case  \\\n",
       "0                            0.001          0.021            48.6   \n",
       "1                            0.001          0.029            34.5   \n",
       "2                            0.001          0.036            27.7   \n",
       "3                            0.001          0.037            26.9   \n",
       "4                            0.001          0.043            23.0   \n",
       "\n",
       "   stringency_index  \n",
       "0             70.83  \n",
       "1             76.39  \n",
       "2            100.00  \n",
       "3             86.57  \n",
       "4             86.57  \n",
       "\n",
       "[5 rows x 27 columns]"
      ]
     },
     "execution_count": 3,
     "metadata": {},
     "output_type": "execute_result"
    }
   ],
   "source": [
    "df.head()"
   ]
  },
  {
   "cell_type": "code",
   "execution_count": 5,
   "id": "59b6ba1d",
   "metadata": {},
   "outputs": [],
   "source": [
    "mobility = pd.read_csv('02 - changes-visitors-covid.csv')"
   ]
  },
  {
   "cell_type": "code",
   "execution_count": null,
   "id": "46b73357",
   "metadata": {},
   "outputs": [],
   "source": []
  },
  {
   "cell_type": "code",
   "execution_count": 4,
   "id": "c913b9ab",
   "metadata": {},
   "outputs": [
    {
     "data": {
      "text/plain": [
       "Index(['retail_and_recreation', 'residential', 'transit_stations', 'parks',\n",
       "       'workplaces', 'total_cases', 'new_cases', 'new_cases_smoothed',\n",
       "       'total_deaths', 'new_deaths', 'new_deaths_smoothed',\n",
       "       'total_cases_per_million', 'new_cases_per_million',\n",
       "       'new_cases_smoothed_per_million', 'total_deaths_per_million',\n",
       "       'new_deaths_per_million', 'new_deaths_smoothed_per_million',\n",
       "       'reproduction_rate', 'new_tests', 'total_tests',\n",
       "       'total_tests_per_thousand', 'new_tests_per_thousand',\n",
       "       'new_tests_smoothed', 'new_tests_smoothed_per_thousand',\n",
       "       'positive_rate', 'tests_per_case', 'stringency_index'],\n",
       "      dtype='object')"
      ]
     },
     "execution_count": 4,
     "metadata": {},
     "output_type": "execute_result"
    }
   ],
   "source": [
    "df.columns"
   ]
  },
  {
   "cell_type": "code",
   "execution_count": 9,
   "id": "56778c8d",
   "metadata": {},
   "outputs": [],
   "source": [
    "from statsmodels.tsa.stattools import adfuller"
   ]
  },
  {
   "cell_type": "code",
   "execution_count": 11,
   "id": "8b3b59fd",
   "metadata": {},
   "outputs": [],
   "source": [
    "mobility.dropna(inplace = True)"
   ]
  },
  {
   "cell_type": "code",
   "execution_count": 12,
   "id": "cf0beb59",
   "metadata": {},
   "outputs": [
    {
     "name": "stdout",
     "output_type": "stream",
     "text": [
      "Test Statistics: -17.89683668948096\n",
      "p-value: 2.9634627534261815e-30\n",
      "critical_values: {'1%': -3.430459158560713, '5%': -2.8615882460178774, '10%': -2.566795679729052}\n",
      "Series is stationary\n"
     ]
    }
   ],
   "source": [
    "result = adfuller(mobility['grocery_and_pharmacy'])\n",
    "print(f'Test Statistics: {result[0]}')\n",
    "print(f'p-value: {result[1]}')\n",
    "print(f'critical_values: {result[4]}')\n",
    "if result[1] > 0.05:\n",
    "    print(\"Series is not stationary\")\n",
    "else:\n",
    "    print(\"Series is stationary\")"
   ]
  },
  {
   "cell_type": "code",
   "execution_count": 6,
   "id": "c2e2e71e",
   "metadata": {},
   "outputs": [
    {
     "name": "stdout",
     "output_type": "stream",
     "text": [
      "Test Statistics: -4.515947542572706\n",
      "p-value: 0.0001839963932292958\n",
      "critical_values: {'1%': -3.4465195891135845, '5%': -2.8686676281678634, '10%': -2.5705668101226085}\n",
      "Series is stationary\n"
     ]
    }
   ],
   "source": [
    "result = adfuller(df['new_cases'])\n",
    "print(f'Test Statistics: {result[0]}')\n",
    "print(f'p-value: {result[1]}')\n",
    "print(f'critical_values: {result[4]}')\n",
    "if result[1] > 0.05:\n",
    "    print(\"Series is not stationary\")\n",
    "else:\n",
    "    print(\"Series is stationary\")"
   ]
  },
  {
   "cell_type": "code",
   "execution_count": 7,
   "id": "266bb906",
   "metadata": {},
   "outputs": [
    {
     "name": "stdout",
     "output_type": "stream",
     "text": [
      "Test Statistics: -2.94376754652925\n",
      "p-value: 0.04049003790143018\n",
      "critical_values: {'1%': -3.446845912589748, '5%': -2.8688110853002007, '10%': -2.5706432834592747}\n",
      "Series is stationary\n"
     ]
    }
   ],
   "source": [
    "result = adfuller(df['retail_and_recreation'])\n",
    "print(f'Test Statistics: {result[0]}')\n",
    "print(f'p-value: {result[1]}')\n",
    "print(f'critical_values: {result[4]}')\n",
    "if result[1] > 0.05:\n",
    "    print(\"Series is not stationary\")\n",
    "else:\n",
    "    print(\"Series is stationary\")"
   ]
  },
  {
   "cell_type": "code",
   "execution_count": 8,
   "id": "4b4086e0",
   "metadata": {},
   "outputs": [
    {
     "name": "stdout",
     "output_type": "stream",
     "text": [
      "Test Statistics: -2.7735251246591885\n",
      "p-value: 0.06215616142765537\n",
      "critical_values: {'1%': -3.4465596717208813, '5%': -2.8686852499495843, '10%': -2.570576203741901}\n",
      "Series is not stationary\n"
     ]
    }
   ],
   "source": [
    "result = adfuller(df['residential'])\n",
    "print(f'Test Statistics: {result[0]}')\n",
    "print(f'p-value: {result[1]}')\n",
    "print(f'critical_values: {result[4]}')\n",
    "if result[1] > 0.05:\n",
    "    print(\"Series is not stationary\")\n",
    "else:\n",
    "    print(\"Series is stationary\")"
   ]
  },
  {
   "cell_type": "code",
   "execution_count": 9,
   "id": "fbf93835",
   "metadata": {},
   "outputs": [
    {
     "name": "stdout",
     "output_type": "stream",
     "text": [
      "(417,)\n"
     ]
    },
    {
     "data": {
      "text/plain": [
       "1    0.571\n",
       "2    2.572\n",
       "3    2.428\n",
       "4    3.143\n",
       "5    3.714\n",
       "Name: residential, dtype: float64"
      ]
     },
     "execution_count": 9,
     "metadata": {},
     "output_type": "execute_result"
    }
   ],
   "source": [
    "df_residential = df['residential']\n",
    "df_resi_transformed = df_residential.diff().dropna()\n",
    "df_residential = df_residential.iloc[1:]\n",
    "print(df_residential.shape)\n",
    "df_resi_transformed.shape\n",
    "df_resi_transformed.head()"
   ]
  },
  {
   "cell_type": "code",
   "execution_count": 10,
   "id": "71068c92",
   "metadata": {},
   "outputs": [
    {
     "name": "stdout",
     "output_type": "stream",
     "text": [
      "Test Statistics: -4.758404073304512\n",
      "p-value: 6.527742137523874e-05\n",
      "critical_values: {'1%': -3.4465596717208813, '5%': -2.8686852499495843, '10%': -2.570576203741901}\n",
      "Series is stationary\n"
     ]
    }
   ],
   "source": [
    "result = adfuller(df_resi_transformed)\n",
    "print(f'Test Statistics: {result[0]}')\n",
    "print(f'p-value: {result[1]}')\n",
    "print(f'critical_values: {result[4]}')\n",
    "if result[1] > 0.05:\n",
    "    print(\"Series is not stationary\")\n",
    "else:\n",
    "    print(\"Series is stationary\")"
   ]
  },
  {
   "cell_type": "code",
   "execution_count": 11,
   "id": "76407c98",
   "metadata": {},
   "outputs": [
    {
     "name": "stdout",
     "output_type": "stream",
     "text": [
      "Test Statistics: -2.4847409209202413\n",
      "p-value: 0.11923130438256269\n",
      "critical_values: {'1%': -3.4465596717208813, '5%': -2.8686852499495843, '10%': -2.570576203741901}\n",
      "Series is not stationary\n"
     ]
    }
   ],
   "source": [
    "result = adfuller(df['transit_stations'])\n",
    "print(f'Test Statistics: {result[0]}')\n",
    "print(f'p-value: {result[1]}')\n",
    "print(f'critical_values: {result[4]}')\n",
    "if result[1] > 0.05:\n",
    "    print(\"Series is not stationary\")\n",
    "else:\n",
    "    print(\"Series is stationary\")"
   ]
  },
  {
   "cell_type": "code",
   "execution_count": 12,
   "id": "9478fdea",
   "metadata": {},
   "outputs": [
    {
     "name": "stdout",
     "output_type": "stream",
     "text": [
      "(417,)\n"
     ]
    },
    {
     "data": {
      "text/plain": [
       "1   -2.428\n",
       "2   -9.000\n",
       "3   -6.572\n",
       "4   -7.857\n",
       "5   -9.000\n",
       "Name: transit_stations, dtype: float64"
      ]
     },
     "execution_count": 12,
     "metadata": {},
     "output_type": "execute_result"
    }
   ],
   "source": [
    "df_transit_stations = df['transit_stations']\n",
    "df_trans_transformed = df_transit_stations.diff().dropna()\n",
    "df_transit_stations = df_transit_stations.iloc[1:]\n",
    "print(df_transit_stations.shape)\n",
    "df_trans_transformed.shape\n",
    "df_trans_transformed.head()"
   ]
  },
  {
   "cell_type": "code",
   "execution_count": 13,
   "id": "00b4c030",
   "metadata": {},
   "outputs": [
    {
     "name": "stdout",
     "output_type": "stream",
     "text": [
      "Test Statistics: -4.7773857447773205\n",
      "p-value: 6.0070296325719055e-05\n",
      "critical_values: {'1%': -3.44664043608676, '5%': -2.868720756230461, '10%': -2.5705951311145965}\n",
      "Series is stationary\n"
     ]
    }
   ],
   "source": [
    "result = adfuller(df_trans_transformed)\n",
    "print(f'Test Statistics: {result[0]}')\n",
    "print(f'p-value: {result[1]}')\n",
    "print(f'critical_values: {result[4]}')\n",
    "if result[1] > 0.05:\n",
    "    print(\"Series is not stationary\")\n",
    "else:\n",
    "    print(\"Series is stationary\")"
   ]
  },
  {
   "cell_type": "code",
   "execution_count": 14,
   "id": "e4f7f719",
   "metadata": {
    "scrolled": true
   },
   "outputs": [
    {
     "name": "stdout",
     "output_type": "stream",
     "text": [
      "Test Statistics: -2.054331784807044\n",
      "p-value: 0.2632698207270502\n",
      "critical_values: {'1%': -3.446845912589748, '5%': -2.8688110853002007, '10%': -2.5706432834592747}\n",
      "Series is not stationary\n"
     ]
    }
   ],
   "source": [
    "result = adfuller(df['parks'])\n",
    "print(f'Test Statistics: {result[0]}')\n",
    "print(f'p-value: {result[1]}')\n",
    "print(f'critical_values: {result[4]}')\n",
    "if result[1] > 0.05:\n",
    "    print(\"Series is not stationary\")\n",
    "else:\n",
    "    print(\"Series is stationary\")"
   ]
  },
  {
   "cell_type": "code",
   "execution_count": 15,
   "id": "60d053a4",
   "metadata": {},
   "outputs": [
    {
     "name": "stdout",
     "output_type": "stream",
     "text": [
      "(417,)\n"
     ]
    },
    {
     "data": {
      "text/plain": [
       "1   -2.429\n",
       "2   -7.428\n",
       "3   -4.857\n",
       "4   -6.000\n",
       "5   -6.715\n",
       "Name: parks, dtype: float64"
      ]
     },
     "execution_count": 15,
     "metadata": {},
     "output_type": "execute_result"
    }
   ],
   "source": [
    "df_parks = df['parks']\n",
    "df_parks_transformed = df_parks.diff().dropna()\n",
    "df_parks = df_parks.iloc[1:]\n",
    "print(df_parks.shape)\n",
    "df_parks_transformed.shape\n",
    "df_parks_transformed.head()"
   ]
  },
  {
   "cell_type": "code",
   "execution_count": 16,
   "id": "acaad834",
   "metadata": {},
   "outputs": [
    {
     "name": "stdout",
     "output_type": "stream",
     "text": [
      "Test Statistics: -3.2270371962513087\n",
      "p-value: 0.018472040665597236\n",
      "critical_values: {'1%': -3.446845912589748, '5%': -2.8688110853002007, '10%': -2.5706432834592747}\n",
      "Series is stationary\n"
     ]
    }
   ],
   "source": [
    "result = adfuller(df_parks_transformed)\n",
    "print(f'Test Statistics: {result[0]}')\n",
    "print(f'p-value: {result[1]}')\n",
    "print(f'critical_values: {result[4]}')\n",
    "if result[1] > 0.05:\n",
    "    print(\"Series is not stationary\")\n",
    "else:\n",
    "    print(\"Series is stationary\")"
   ]
  },
  {
   "cell_type": "code",
   "execution_count": 17,
   "id": "4a413c3f",
   "metadata": {},
   "outputs": [
    {
     "name": "stdout",
     "output_type": "stream",
     "text": [
      "Test Statistics: -2.9548690338095276\n",
      "p-value: 0.03932945023889882\n",
      "critical_values: {'1%': -3.4467631030732506, '5%': -2.868774682311516, '10%': -2.570623877774392}\n",
      "Series is stationary\n"
     ]
    }
   ],
   "source": [
    "result = adfuller(df['workplaces'])\n",
    "print(f'Test Statistics: {result[0]}')\n",
    "print(f'p-value: {result[1]}')\n",
    "print(f'critical_values: {result[4]}')\n",
    "if result[1] > 0.05:\n",
    "    print(\"Series is not stationary\")\n",
    "else:\n",
    "    print(\"Series is stationary\")"
   ]
  },
  {
   "cell_type": "code",
   "execution_count": 18,
   "id": "813abfb5",
   "metadata": {},
   "outputs": [],
   "source": [
    "new_cases_retail_and_recreation = pd.DataFrame(df[['new_cases', 'retail_and_recreation']], columns = ['new_cases', 'retail_and_recreation'] )"
   ]
  },
  {
   "cell_type": "code",
   "execution_count": 19,
   "id": "0eb262be",
   "metadata": {},
   "outputs": [
    {
     "data": {
      "text/html": [
       "<div>\n",
       "<style scoped>\n",
       "    .dataframe tbody tr th:only-of-type {\n",
       "        vertical-align: middle;\n",
       "    }\n",
       "\n",
       "    .dataframe tbody tr th {\n",
       "        vertical-align: top;\n",
       "    }\n",
       "\n",
       "    .dataframe thead th {\n",
       "        text-align: right;\n",
       "    }\n",
       "</style>\n",
       "<table border=\"1\" class=\"dataframe\">\n",
       "  <thead>\n",
       "    <tr style=\"text-align: right;\">\n",
       "      <th></th>\n",
       "      <th>new_cases</th>\n",
       "      <th>retail_and_recreation</th>\n",
       "    </tr>\n",
       "  </thead>\n",
       "  <tbody>\n",
       "    <tr>\n",
       "      <th>0</th>\n",
       "      <td>50.0</td>\n",
       "      <td>-13.000</td>\n",
       "    </tr>\n",
       "    <tr>\n",
       "      <th>1</th>\n",
       "      <td>86.0</td>\n",
       "      <td>-16.286</td>\n",
       "    </tr>\n",
       "    <tr>\n",
       "      <th>2</th>\n",
       "      <td>66.0</td>\n",
       "      <td>-25.857</td>\n",
       "    </tr>\n",
       "    <tr>\n",
       "      <th>3</th>\n",
       "      <td>103.0</td>\n",
       "      <td>-32.429</td>\n",
       "    </tr>\n",
       "    <tr>\n",
       "      <th>4</th>\n",
       "      <td>37.0</td>\n",
       "      <td>-40.571</td>\n",
       "    </tr>\n",
       "  </tbody>\n",
       "</table>\n",
       "</div>"
      ],
      "text/plain": [
       "   new_cases  retail_and_recreation\n",
       "0       50.0                -13.000\n",
       "1       86.0                -16.286\n",
       "2       66.0                -25.857\n",
       "3      103.0                -32.429\n",
       "4       37.0                -40.571"
      ]
     },
     "execution_count": 19,
     "metadata": {},
     "output_type": "execute_result"
    }
   ],
   "source": [
    "new_cases_retail_and_recreation.head()"
   ]
  },
  {
   "cell_type": "code",
   "execution_count": 20,
   "id": "443826f2",
   "metadata": {},
   "outputs": [],
   "source": [
    "new_cases_retail_and_recreation.dropna(axis=0,inplace = True)"
   ]
  },
  {
   "cell_type": "code",
   "execution_count": 21,
   "id": "02563c38",
   "metadata": {},
   "outputs": [
    {
     "data": {
      "text/html": [
       "<div>\n",
       "<style scoped>\n",
       "    .dataframe tbody tr th:only-of-type {\n",
       "        vertical-align: middle;\n",
       "    }\n",
       "\n",
       "    .dataframe tbody tr th {\n",
       "        vertical-align: top;\n",
       "    }\n",
       "\n",
       "    .dataframe thead th {\n",
       "        text-align: right;\n",
       "    }\n",
       "</style>\n",
       "<table border=\"1\" class=\"dataframe\">\n",
       "  <thead>\n",
       "    <tr style=\"text-align: right;\">\n",
       "      <th></th>\n",
       "      <th>new_cases</th>\n",
       "      <th>retail_and_recreation</th>\n",
       "    </tr>\n",
       "  </thead>\n",
       "  <tbody>\n",
       "    <tr>\n",
       "      <th>0</th>\n",
       "      <td>50.0</td>\n",
       "      <td>-13.000</td>\n",
       "    </tr>\n",
       "    <tr>\n",
       "      <th>1</th>\n",
       "      <td>86.0</td>\n",
       "      <td>-16.286</td>\n",
       "    </tr>\n",
       "    <tr>\n",
       "      <th>2</th>\n",
       "      <td>66.0</td>\n",
       "      <td>-25.857</td>\n",
       "    </tr>\n",
       "    <tr>\n",
       "      <th>3</th>\n",
       "      <td>103.0</td>\n",
       "      <td>-32.429</td>\n",
       "    </tr>\n",
       "    <tr>\n",
       "      <th>4</th>\n",
       "      <td>37.0</td>\n",
       "      <td>-40.571</td>\n",
       "    </tr>\n",
       "  </tbody>\n",
       "</table>\n",
       "</div>"
      ],
      "text/plain": [
       "   new_cases  retail_and_recreation\n",
       "0       50.0                -13.000\n",
       "1       86.0                -16.286\n",
       "2       66.0                -25.857\n",
       "3      103.0                -32.429\n",
       "4       37.0                -40.571"
      ]
     },
     "execution_count": 21,
     "metadata": {},
     "output_type": "execute_result"
    }
   ],
   "source": [
    "new_cases_retail_and_recreation.head()"
   ]
  },
  {
   "cell_type": "code",
   "execution_count": 17,
   "id": "47b7a9cb",
   "metadata": {},
   "outputs": [],
   "source": [
    "from statsmodels.tsa.stattools import grangercausalitytests"
   ]
  },
  {
   "cell_type": "code",
   "execution_count": 43,
   "id": "e80064b4",
   "metadata": {
    "scrolled": true
   },
   "outputs": [
    {
     "name": "stdout",
     "output_type": "stream",
     "text": [
      "\n",
      "Granger Causality\n",
      "number of lags (no zero) 1\n",
      "ssr based F test:         F=4.4467  , p=0.0356  , df_denom=414, df_num=1\n",
      "ssr based chi2 test:   chi2=4.4789  , p=0.0343  , df=1\n",
      "likelihood ratio test: chi2=4.4550  , p=0.0348  , df=1\n",
      "parameter F test:         F=4.4467  , p=0.0356  , df_denom=414, df_num=1\n"
     ]
    }
   ],
   "source": [
    "# retail_and_recreation granger cause new_cases\n",
    "gc = grangercausalitytests(new_cases_retail_and_recreation, 1)"
   ]
  },
  {
   "cell_type": "code",
   "execution_count": null,
   "id": "9e626bd1",
   "metadata": {},
   "outputs": [],
   "source": []
  },
  {
   "cell_type": "code",
   "execution_count": null,
   "id": "acfadd04",
   "metadata": {},
   "outputs": [],
   "source": []
  },
  {
   "cell_type": "code",
   "execution_count": 68,
   "id": "6c121cb2",
   "metadata": {
    "scrolled": false
   },
   "outputs": [
    {
     "data": {
      "text/plain": [
       "1      0.571\n",
       "2      2.572\n",
       "3      2.428\n",
       "4      3.143\n",
       "5      3.714\n",
       "       ...  \n",
       "413   -0.142\n",
       "414   -0.286\n",
       "415   -0.429\n",
       "416    0.000\n",
       "417   -0.428\n",
       "Name: residential, Length: 417, dtype: float64"
      ]
     },
     "execution_count": 68,
     "metadata": {},
     "output_type": "execute_result"
    }
   ],
   "source": [
    "df_resi_transformed"
   ]
  },
  {
   "cell_type": "code",
   "execution_count": 72,
   "id": "f65a8b50",
   "metadata": {
    "scrolled": true
   },
   "outputs": [
    {
     "data": {
      "text/plain": [
       "pandas.core.series.Series"
      ]
     },
     "execution_count": 72,
     "metadata": {},
     "output_type": "execute_result"
    }
   ],
   "source": [
    "type(df['new_cases'])"
   ]
  },
  {
   "cell_type": "code",
   "execution_count": 25,
   "id": "cdb53f68",
   "metadata": {},
   "outputs": [],
   "source": [
    "new_cases_residential = pd.concat([df['new_cases'], df_resi_transformed],axis=1)"
   ]
  },
  {
   "cell_type": "code",
   "execution_count": 27,
   "id": "fadb245c",
   "metadata": {},
   "outputs": [],
   "source": [
    "new_cases_residential.dropna(axis = 0, inplace = True)"
   ]
  },
  {
   "cell_type": "code",
   "execution_count": 32,
   "id": "d9d96697",
   "metadata": {},
   "outputs": [
    {
     "name": "stdout",
     "output_type": "stream",
     "text": [
      "\n",
      "Granger Causality\n",
      "number of lags (no zero) 1\n",
      "ssr based F test:         F=1.2852  , p=0.2576  , df_denom=413, df_num=1\n",
      "ssr based chi2 test:   chi2=1.2945  , p=0.2552  , df=1\n",
      "likelihood ratio test: chi2=1.2925  , p=0.2556  , df=1\n",
      "parameter F test:         F=1.2852  , p=0.2576  , df_denom=413, df_num=1\n",
      "\n",
      "Granger Causality\n",
      "number of lags (no zero) 2\n",
      "ssr based F test:         F=0.9089  , p=0.4038  , df_denom=410, df_num=2\n",
      "ssr based chi2 test:   chi2=1.8400  , p=0.3985  , df=2\n",
      "likelihood ratio test: chi2=1.8359  , p=0.3993  , df=2\n",
      "parameter F test:         F=0.9089  , p=0.4038  , df_denom=410, df_num=2\n",
      "\n",
      "Granger Causality\n",
      "number of lags (no zero) 3\n",
      "ssr based F test:         F=0.6936  , p=0.5563  , df_denom=407, df_num=3\n",
      "ssr based chi2 test:   chi2=2.1167  , p=0.5485  , df=3\n",
      "likelihood ratio test: chi2=2.1113  , p=0.5496  , df=3\n",
      "parameter F test:         F=0.6936  , p=0.5563  , df_denom=407, df_num=3\n",
      "\n",
      "Granger Causality\n",
      "number of lags (no zero) 4\n",
      "ssr based F test:         F=0.4206  , p=0.7938  , df_denom=404, df_num=4\n",
      "ssr based chi2 test:   chi2=1.7201  , p=0.7871  , df=4\n",
      "likelihood ratio test: chi2=1.7165  , p=0.7877  , df=4\n",
      "parameter F test:         F=0.4206  , p=0.7938  , df_denom=404, df_num=4\n",
      "\n",
      "Granger Causality\n",
      "number of lags (no zero) 5\n",
      "ssr based F test:         F=0.3326  , p=0.8932  , df_denom=401, df_num=5\n",
      "ssr based chi2 test:   chi2=1.7084  , p=0.8878  , df=5\n",
      "likelihood ratio test: chi2=1.7049  , p=0.8883  , df=5\n",
      "parameter F test:         F=0.3326  , p=0.8932  , df_denom=401, df_num=5\n",
      "\n",
      "Granger Causality\n",
      "number of lags (no zero) 6\n",
      "ssr based F test:         F=0.2868  , p=0.9431  , df_denom=398, df_num=6\n",
      "ssr based chi2 test:   chi2=1.7767  , p=0.9390  , df=6\n",
      "likelihood ratio test: chi2=1.7729  , p=0.9394  , df=6\n",
      "parameter F test:         F=0.2868  , p=0.9431  , df_denom=398, df_num=6\n",
      "\n",
      "Granger Causality\n",
      "number of lags (no zero) 7\n",
      "ssr based F test:         F=0.6177  , p=0.7414  , df_denom=395, df_num=7\n",
      "ssr based chi2 test:   chi2=4.4877  , p=0.7222  , df=7\n",
      "likelihood ratio test: chi2=4.4634  , p=0.7251  , df=7\n",
      "parameter F test:         F=0.6177  , p=0.7414  , df_denom=395, df_num=7\n",
      "\n",
      "Granger Causality\n",
      "number of lags (no zero) 8\n",
      "ssr based F test:         F=1.0760  , p=0.3789  , df_denom=392, df_num=8\n",
      "ssr based chi2 test:   chi2=8.9817  , p=0.3438  , df=8\n",
      "likelihood ratio test: chi2=8.8845  , p=0.3521  , df=8\n",
      "parameter F test:         F=1.0760  , p=0.3789  , df_denom=392, df_num=8\n",
      "\n",
      "Granger Causality\n",
      "number of lags (no zero) 9\n",
      "ssr based F test:         F=1.1726  , p=0.3111  , df_denom=389, df_num=9\n",
      "ssr based chi2 test:   chi2=11.0686 , p=0.2710  , df=9\n",
      "likelihood ratio test: chi2=10.9212 , p=0.2812  , df=9\n",
      "parameter F test:         F=1.1726  , p=0.3111  , df_denom=389, df_num=9\n",
      "\n",
      "Granger Causality\n",
      "number of lags (no zero) 10\n",
      "ssr based F test:         F=1.0376  , p=0.4108  , df_denom=386, df_num=10\n",
      "ssr based chi2 test:   chi2=10.9405 , p=0.3622  , df=10\n",
      "likelihood ratio test: chi2=10.7960 , p=0.3736  , df=10\n",
      "parameter F test:         F=1.0376  , p=0.4108  , df_denom=386, df_num=10\n",
      "\n",
      "Granger Causality\n",
      "number of lags (no zero) 11\n",
      "ssr based F test:         F=1.0992  , p=0.3604  , df_denom=383, df_num=11\n",
      "ssr based chi2 test:   chi2=12.8170 , p=0.3055  , df=11\n",
      "likelihood ratio test: chi2=12.6189 , p=0.3190  , df=11\n",
      "parameter F test:         F=1.0992  , p=0.3604  , df_denom=383, df_num=11\n",
      "\n",
      "Granger Causality\n",
      "number of lags (no zero) 12\n",
      "ssr based F test:         F=1.0874  , p=0.3692  , df_denom=380, df_num=12\n",
      "ssr based chi2 test:   chi2=13.9077 , p=0.3066  , df=12\n",
      "likelihood ratio test: chi2=13.6742 , p=0.3220  , df=12\n",
      "parameter F test:         F=1.0874  , p=0.3692  , df_denom=380, df_num=12\n",
      "\n",
      "Granger Causality\n",
      "number of lags (no zero) 13\n",
      "ssr based F test:         F=1.1269  , p=0.3343  , df_denom=377, df_num=13\n",
      "ssr based chi2 test:   chi2=15.6984 , p=0.2658  , df=13\n",
      "likelihood ratio test: chi2=15.4011 , p=0.2830  , df=13\n",
      "parameter F test:         F=1.1269  , p=0.3343  , df_denom=377, df_num=13\n",
      "\n",
      "Granger Causality\n",
      "number of lags (no zero) 14\n",
      "ssr based F test:         F=1.1429  , p=0.3185  , df_denom=374, df_num=14\n",
      "ssr based chi2 test:   chi2=17.2406 , p=0.2436  , df=14\n",
      "likelihood ratio test: chi2=16.8820 , p=0.2625  , df=14\n",
      "parameter F test:         F=1.1429  , p=0.3185  , df_denom=374, df_num=14\n",
      "\n",
      "Granger Causality\n",
      "number of lags (no zero) 15\n",
      "ssr based F test:         F=1.1549  , p=0.3056  , df_denom=371, df_num=15\n",
      "ssr based chi2 test:   chi2=18.7703 , p=0.2243  , df=15\n",
      "likelihood ratio test: chi2=18.3452 , p=0.2450  , df=15\n",
      "parameter F test:         F=1.1549  , p=0.3056  , df_denom=371, df_num=15\n",
      "\n",
      "Granger Causality\n",
      "number of lags (no zero) 16\n",
      "ssr based F test:         F=1.1332  , p=0.3220  , df_denom=368, df_num=16\n",
      "ssr based chi2 test:   chi2=19.7573 , p=0.2314  , df=16\n",
      "likelihood ratio test: chi2=19.2860 , p=0.2541  , df=16\n",
      "parameter F test:         F=1.1332  , p=0.3220  , df_denom=368, df_num=16\n",
      "\n",
      "Granger Causality\n",
      "number of lags (no zero) 17\n",
      "ssr based F test:         F=1.0872  , p=0.3642  , df_denom=365, df_num=17\n",
      "ssr based chi2 test:   chi2=20.2552 , p=0.2614  , df=17\n",
      "likelihood ratio test: chi2=19.7590 , p=0.2867  , df=17\n",
      "parameter F test:         F=1.0872  , p=0.3642  , df_denom=365, df_num=17\n",
      "\n",
      "Granger Causality\n",
      "number of lags (no zero) 18\n",
      "ssr based F test:         F=1.0454  , p=0.4076  , df_denom=362, df_num=18\n",
      "ssr based chi2 test:   chi2=20.7397 , p=0.2927  , df=18\n",
      "likelihood ratio test: chi2=20.2186 , p=0.3206  , df=18\n",
      "parameter F test:         F=1.0454  , p=0.4076  , df_denom=362, df_num=18\n",
      "\n",
      "Granger Causality\n",
      "number of lags (no zero) 19\n",
      "ssr based F test:         F=1.1537  , p=0.2955  , df_denom=359, df_num=19\n",
      "ssr based chi2 test:   chi2=24.3018 , p=0.1848  , df=19\n",
      "likelihood ratio test: chi2=23.5887 , p=0.2124  , df=19\n",
      "parameter F test:         F=1.1537  , p=0.2955  , df_denom=359, df_num=19\n",
      "\n",
      "Granger Causality\n",
      "number of lags (no zero) 20\n",
      "ssr based F test:         F=1.1844  , p=0.2646  , df_denom=356, df_num=20\n",
      "ssr based chi2 test:   chi2=26.4166 , p=0.1525  , df=20\n",
      "likelihood ratio test: chi2=25.5749 , p=0.1803  , df=20\n",
      "parameter F test:         F=1.1844  , p=0.2646  , df_denom=356, df_num=20\n",
      "\n",
      "Granger Causality\n",
      "number of lags (no zero) 21\n",
      "ssr based F test:         F=1.4412  , p=0.0959  , df_denom=353, df_num=21\n",
      "ssr based chi2 test:   chi2=33.9521 , p=0.0367  , df=21\n",
      "likelihood ratio test: chi2=32.5748 , p=0.0511  , df=21\n",
      "parameter F test:         F=1.4412  , p=0.0959  , df_denom=353, df_num=21\n",
      "\n",
      "Granger Causality\n",
      "number of lags (no zero) 22\n",
      "ssr based F test:         F=1.5220  , p=0.0636  , df_denom=350, df_num=22\n",
      "ssr based chi2 test:   chi2=37.7900 , p=0.0193  , df=22\n",
      "likelihood ratio test: chi2=36.0899 , p=0.0297  , df=22\n",
      "parameter F test:         F=1.5220  , p=0.0636  , df_denom=350, df_num=22\n",
      "\n",
      "Granger Causality\n",
      "number of lags (no zero) 23\n",
      "ssr based F test:         F=1.5095  , p=0.0641  , df_denom=347, df_num=23\n",
      "ssr based chi2 test:   chi2=39.4209 , p=0.0178  , df=23\n",
      "likelihood ratio test: chi2=37.5712 , p=0.0283  , df=23\n",
      "parameter F test:         F=1.5095  , p=0.0641  , df_denom=347, df_num=23\n",
      "\n",
      "Granger Causality\n",
      "number of lags (no zero) 24\n",
      "ssr based F test:         F=1.4158  , p=0.0954  , df_denom=344, df_num=24\n",
      "ssr based chi2 test:   chi2=38.8199 , p=0.0285  , df=24\n",
      "likelihood ratio test: chi2=37.0202 , p=0.0436  , df=24\n",
      "parameter F test:         F=1.4158  , p=0.0954  , df_denom=344, df_num=24\n",
      "\n",
      "Granger Causality\n",
      "number of lags (no zero) 25\n",
      "ssr based F test:         F=1.7454  , p=0.0162  , df_denom=341, df_num=25\n",
      "ssr based chi2 test:   chi2=50.1603 , p=0.0020  , df=25\n",
      "likelihood ratio test: chi2=47.2010 , p=0.0046  , df=25\n",
      "parameter F test:         F=1.7454  , p=0.0162  , df_denom=341, df_num=25\n"
     ]
    }
   ],
   "source": [
    "# residential granger caused new_cases\n",
    "gc = grangercausalitytests(new_cases_residential, 25)"
   ]
  },
  {
   "cell_type": "code",
   "execution_count": 33,
   "id": "65b25b81",
   "metadata": {},
   "outputs": [],
   "source": [
    "new_cases_transit_stations = pd.concat([df['new_cases'], df_trans_transformed],axis=1)\n",
    "new_cases_transit_stations.dropna(axis=0,inplace = True)"
   ]
  },
  {
   "cell_type": "code",
   "execution_count": 44,
   "id": "abd3d03c",
   "metadata": {},
   "outputs": [
    {
     "name": "stdout",
     "output_type": "stream",
     "text": [
      "\n",
      "Granger Causality\n",
      "number of lags (no zero) 1\n",
      "ssr based F test:         F=1.8570  , p=0.1737  , df_denom=413, df_num=1\n",
      "ssr based chi2 test:   chi2=1.8705  , p=0.1714  , df=1\n",
      "likelihood ratio test: chi2=1.8663  , p=0.1719  , df=1\n",
      "parameter F test:         F=1.8570  , p=0.1737  , df_denom=413, df_num=1\n",
      "\n",
      "Granger Causality\n",
      "number of lags (no zero) 2\n",
      "ssr based F test:         F=1.0088  , p=0.3655  , df_denom=410, df_num=2\n",
      "ssr based chi2 test:   chi2=2.0423  , p=0.3602  , df=2\n",
      "likelihood ratio test: chi2=2.0373  , p=0.3611  , df=2\n",
      "parameter F test:         F=1.0088  , p=0.3655  , df_denom=410, df_num=2\n",
      "\n",
      "Granger Causality\n",
      "number of lags (no zero) 3\n",
      "ssr based F test:         F=0.7421  , p=0.5274  , df_denom=407, df_num=3\n",
      "ssr based chi2 test:   chi2=2.2647  , p=0.5193  , df=3\n",
      "likelihood ratio test: chi2=2.2586  , p=0.5205  , df=3\n",
      "parameter F test:         F=0.7421  , p=0.5274  , df_denom=407, df_num=3\n",
      "\n",
      "Granger Causality\n",
      "number of lags (no zero) 4\n",
      "ssr based F test:         F=0.4849  , p=0.7468  , df_denom=404, df_num=4\n",
      "ssr based chi2 test:   chi2=1.9830  , p=0.7389  , df=4\n",
      "likelihood ratio test: chi2=1.9782  , p=0.7398  , df=4\n",
      "parameter F test:         F=0.4849  , p=0.7468  , df_denom=404, df_num=4\n",
      "\n",
      "Granger Causality\n",
      "number of lags (no zero) 5\n",
      "ssr based F test:         F=0.3947  , p=0.8524  , df_denom=401, df_num=5\n",
      "ssr based chi2 test:   chi2=2.0278  , p=0.8453  , df=5\n",
      "likelihood ratio test: chi2=2.0228  , p=0.8460  , df=5\n",
      "parameter F test:         F=0.3947  , p=0.8524  , df_denom=401, df_num=5\n",
      "\n",
      "Granger Causality\n",
      "number of lags (no zero) 6\n",
      "ssr based F test:         F=0.3516  , p=0.9089  , df_denom=398, df_num=6\n",
      "ssr based chi2 test:   chi2=2.1783  , p=0.9026  , df=6\n",
      "likelihood ratio test: chi2=2.1725  , p=0.9032  , df=6\n",
      "parameter F test:         F=0.3516  , p=0.9089  , df_denom=398, df_num=6\n",
      "\n",
      "Granger Causality\n",
      "number of lags (no zero) 7\n",
      "ssr based F test:         F=1.0776  , p=0.3769  , df_denom=395, df_num=7\n",
      "ssr based chi2 test:   chi2=7.8296  , p=0.3479  , df=7\n",
      "likelihood ratio test: chi2=7.7558  , p=0.3546  , df=7\n",
      "parameter F test:         F=1.0776  , p=0.3769  , df_denom=395, df_num=7\n",
      "\n",
      "Granger Causality\n",
      "number of lags (no zero) 8\n",
      "ssr based F test:         F=0.5770  , p=0.7969  , df_denom=392, df_num=8\n",
      "ssr based chi2 test:   chi2=4.8159  , p=0.7771  , df=8\n",
      "likelihood ratio test: chi2=4.7878  , p=0.7800  , df=8\n",
      "parameter F test:         F=0.5770  , p=0.7969  , df_denom=392, df_num=8\n",
      "\n",
      "Granger Causality\n",
      "number of lags (no zero) 9\n",
      "ssr based F test:         F=0.5117  , p=0.8662  , df_denom=389, df_num=9\n",
      "ssr based chi2 test:   chi2=4.8302  , p=0.8489  , df=9\n",
      "likelihood ratio test: chi2=4.8018  , p=0.8512  , df=9\n",
      "parameter F test:         F=0.5117  , p=0.8662  , df_denom=389, df_num=9\n",
      "\n",
      "Granger Causality\n",
      "number of lags (no zero) 10\n",
      "ssr based F test:         F=0.4392  , p=0.9269  , df_denom=386, df_num=10\n",
      "ssr based chi2 test:   chi2=4.6306  , p=0.9144  , df=10\n",
      "likelihood ratio test: chi2=4.6045  , p=0.9160  , df=10\n",
      "parameter F test:         F=0.4392  , p=0.9269  , df_denom=386, df_num=10\n",
      "\n",
      "Granger Causality\n",
      "number of lags (no zero) 11\n",
      "ssr based F test:         F=0.5299  , p=0.8830  , df_denom=383, df_num=11\n",
      "ssr based chi2 test:   chi2=6.1790  , p=0.8612  , df=11\n",
      "likelihood ratio test: chi2=6.1324  , p=0.8644  , df=11\n",
      "parameter F test:         F=0.5299  , p=0.8830  , df_denom=383, df_num=11\n",
      "\n",
      "Granger Causality\n",
      "number of lags (no zero) 12\n",
      "ssr based F test:         F=0.5131  , p=0.9063  , df_denom=380, df_num=12\n",
      "ssr based chi2 test:   chi2=6.5627  , p=0.8851  , df=12\n",
      "likelihood ratio test: chi2=6.5101  , p=0.8882  , df=12\n",
      "parameter F test:         F=0.5131  , p=0.9063  , df_denom=380, df_num=12\n",
      "\n",
      "Granger Causality\n",
      "number of lags (no zero) 13\n",
      "ssr based F test:         F=0.6314  , p=0.8278  , df_denom=377, df_num=13\n",
      "ssr based chi2 test:   chi2=8.7957  , p=0.7882  , df=13\n",
      "likelihood ratio test: chi2=8.7014  , p=0.7951  , df=13\n",
      "parameter F test:         F=0.6314  , p=0.8278  , df_denom=377, df_num=13\n",
      "\n",
      "Granger Causality\n",
      "number of lags (no zero) 14\n",
      "ssr based F test:         F=0.6476  , p=0.8245  , df_denom=374, df_num=14\n",
      "ssr based chi2 test:   chi2=9.7696  , p=0.7788  , df=14\n",
      "likelihood ratio test: chi2=9.6530  , p=0.7871  , df=14\n",
      "parameter F test:         F=0.6476  , p=0.8245  , df_denom=374, df_num=14\n",
      "\n",
      "Granger Causality\n",
      "number of lags (no zero) 15\n",
      "ssr based F test:         F=0.7178  , p=0.7667  , df_denom=371, df_num=15\n",
      "ssr based chi2 test:   chi2=11.6666 , p=0.7041  , df=15\n",
      "likelihood ratio test: chi2=11.5005 , p=0.7164  , df=15\n",
      "parameter F test:         F=0.7178  , p=0.7667  , df_denom=371, df_num=15\n",
      "\n",
      "Granger Causality\n",
      "number of lags (no zero) 16\n",
      "ssr based F test:         F=0.7039  , p=0.7904  , df_denom=368, df_num=16\n",
      "ssr based chi2 test:   chi2=12.2724 , p=0.7250  , df=16\n",
      "likelihood ratio test: chi2=12.0883 , p=0.7379  , df=16\n",
      "parameter F test:         F=0.7039  , p=0.7904  , df_denom=368, df_num=16\n",
      "\n",
      "Granger Causality\n",
      "number of lags (no zero) 17\n",
      "ssr based F test:         F=0.6818  , p=0.8213  , df_denom=365, df_num=17\n",
      "ssr based chi2 test:   chi2=12.7014 , p=0.7559  , df=17\n",
      "likelihood ratio test: chi2=12.5039 , p=0.7687  , df=17\n",
      "parameter F test:         F=0.6818  , p=0.8213  , df_denom=365, df_num=17\n",
      "\n",
      "Granger Causality\n",
      "number of lags (no zero) 18\n",
      "ssr based F test:         F=0.6537  , p=0.8557  , df_denom=362, df_num=18\n",
      "ssr based chi2 test:   chi2=12.9693 , p=0.7934  , df=18\n",
      "likelihood ratio test: chi2=12.7630 , p=0.8055  , df=18\n",
      "parameter F test:         F=0.6537  , p=0.8557  , df_denom=362, df_num=18\n",
      "\n",
      "Granger Causality\n",
      "number of lags (no zero) 19\n",
      "ssr based F test:         F=0.7395  , p=0.7775  , df_denom=359, df_num=19\n",
      "ssr based chi2 test:   chi2=15.5769 , p=0.6853  , df=19\n",
      "likelihood ratio test: chi2=15.2798 , p=0.7047  , df=19\n",
      "parameter F test:         F=0.7395  , p=0.7775  , df_denom=359, df_num=19\n",
      "\n",
      "Granger Causality\n",
      "number of lags (no zero) 20\n",
      "ssr based F test:         F=0.7032  , p=0.8234  , df_denom=356, df_num=20\n",
      "ssr based chi2 test:   chi2=15.6835 , p=0.7361  , df=20\n",
      "likelihood ratio test: chi2=15.3816 , p=0.7542  , df=20\n",
      "parameter F test:         F=0.7032  , p=0.8234  , df_denom=356, df_num=20\n",
      "\n",
      "Granger Causality\n",
      "number of lags (no zero) 21\n",
      "ssr based F test:         F=0.9592  , p=0.5143  , df_denom=353, df_num=21\n",
      "ssr based chi2 test:   chi2=22.5957 , p=0.3659  , df=21\n",
      "likelihood ratio test: chi2=21.9746 , p=0.4010  , df=21\n",
      "parameter F test:         F=0.9592  , p=0.5143  , df_denom=353, df_num=21\n",
      "\n",
      "Granger Causality\n",
      "number of lags (no zero) 22\n",
      "ssr based F test:         F=0.9961  , p=0.4685  , df_denom=350, df_num=22\n",
      "ssr based chi2 test:   chi2=24.7321 , p=0.3101  , df=22\n",
      "likelihood ratio test: chi2=23.9887 , p=0.3478  , df=22\n",
      "parameter F test:         F=0.9961  , p=0.4685  , df_denom=350, df_num=22\n",
      "\n",
      "Granger Causality\n",
      "number of lags (no zero) 23\n",
      "ssr based F test:         F=0.9473  , p=0.5346  , df_denom=347, df_num=23\n",
      "ssr based chi2 test:   chi2=24.7386 , p=0.3639  , df=23\n",
      "likelihood ratio test: chi2=23.9930 , p=0.4042  , df=23\n",
      "parameter F test:         F=0.9473  , p=0.5346  , df_denom=347, df_num=23\n",
      "\n",
      "Granger Causality\n",
      "number of lags (no zero) 24\n",
      "ssr based F test:         F=0.9394  , p=0.5478  , df_denom=344, df_num=24\n",
      "ssr based chi2 test:   chi2=25.7562 , p=0.3657  , df=24\n",
      "likelihood ratio test: chi2=24.9473 , p=0.4086  , df=24\n",
      "parameter F test:         F=0.9394  , p=0.5478  , df_denom=344, df_num=24\n",
      "\n",
      "Granger Causality\n",
      "number of lags (no zero) 25\n",
      "ssr based F test:         F=1.2779  , p=0.1713  , df_denom=341, df_num=25\n",
      "ssr based chi2 test:   chi2=36.7269 , p=0.0613  , df=25\n",
      "likelihood ratio test: chi2=35.1069 , p=0.0863  , df=25\n",
      "parameter F test:         F=1.2779  , p=0.1713  , df_denom=341, df_num=25\n",
      "\n",
      "Granger Causality\n",
      "number of lags (no zero) 26\n",
      "ssr based F test:         F=1.2881  , p=0.1606  , df_denom=338, df_num=26\n",
      "ssr based chi2 test:   chi2=38.7435 , p=0.0516  , df=26\n",
      "likelihood ratio test: chi2=36.9421 , p=0.0757  , df=26\n",
      "parameter F test:         F=1.2881  , p=0.1606  , df_denom=338, df_num=26\n",
      "\n",
      "Granger Causality\n",
      "number of lags (no zero) 27\n",
      "ssr based F test:         F=1.3645  , p=0.1102  , df_denom=335, df_num=27\n",
      "ssr based chi2 test:   chi2=42.8904 , p=0.0268  , df=27\n",
      "likelihood ratio test: chi2=40.6917 , p=0.0441  , df=27\n",
      "parameter F test:         F=1.3645  , p=0.1102  , df_denom=335, df_num=27\n",
      "\n",
      "Granger Causality\n",
      "number of lags (no zero) 28\n",
      "ssr based F test:         F=1.3819  , p=0.0982  , df_denom=332, df_num=28\n",
      "ssr based chi2 test:   chi2=45.3376 , p=0.0204  , df=28\n",
      "likelihood ratio test: chi2=42.8845 , p=0.0357  , df=28\n",
      "parameter F test:         F=1.3819  , p=0.0982  , df_denom=332, df_num=28\n",
      "\n",
      "Granger Causality\n",
      "number of lags (no zero) 29\n"
     ]
    },
    {
     "name": "stdout",
     "output_type": "stream",
     "text": [
      "ssr based F test:         F=1.4112  , p=0.0819  , df_denom=329, df_num=29\n",
      "ssr based chi2 test:   chi2=48.2624 , p=0.0138  , df=29\n",
      "likelihood ratio test: chi2=45.4885 , p=0.0264  , df=29\n",
      "parameter F test:         F=1.4112  , p=0.0819  , df_denom=329, df_num=29\n",
      "\n",
      "Granger Causality\n",
      "number of lags (no zero) 30\n",
      "ssr based F test:         F=1.4217  , p=0.0748  , df_denom=326, df_num=30\n",
      "ssr based chi2 test:   chi2=50.6330 , p=0.0106  , df=30\n",
      "likelihood ratio test: chi2=47.5840 , p=0.0218  , df=30\n",
      "parameter F test:         F=1.4217  , p=0.0748  , df_denom=326, df_num=30\n",
      "\n",
      "Granger Causality\n",
      "number of lags (no zero) 31\n",
      "ssr based F test:         F=1.5331  , p=0.0381  , df_denom=323, df_num=31\n",
      "ssr based chi2 test:   chi2=56.7975 , p=0.0032  , df=31\n",
      "likelihood ratio test: chi2=52.9882 , p=0.0082  , df=31\n",
      "parameter F test:         F=1.5331  , p=0.0381  , df_denom=323, df_num=31\n"
     ]
    }
   ],
   "source": [
    "# transit_stations granger caused new_cases\n",
    "gc = grangercausalitytests(new_cases_transit_stations, 31)"
   ]
  },
  {
   "cell_type": "code",
   "execution_count": 37,
   "id": "36e79d28",
   "metadata": {},
   "outputs": [],
   "source": [
    "new_cases_parks=pd.concat([df['new_cases'], df_parks_transformed],axis=1)\n",
    "new_cases_parks.dropna(axis=0,inplace = True)"
   ]
  },
  {
   "cell_type": "code",
   "execution_count": 39,
   "id": "ecee760d",
   "metadata": {},
   "outputs": [
    {
     "name": "stdout",
     "output_type": "stream",
     "text": [
      "\n",
      "Granger Causality\n",
      "number of lags (no zero) 1\n",
      "ssr based F test:         F=4.5070  , p=0.0343  , df_denom=413, df_num=1\n",
      "ssr based chi2 test:   chi2=4.5398  , p=0.0331  , df=1\n",
      "likelihood ratio test: chi2=4.5152  , p=0.0336  , df=1\n",
      "parameter F test:         F=4.5070  , p=0.0343  , df_denom=413, df_num=1\n"
     ]
    }
   ],
   "source": [
    "# parks is granger caused by new_cases\n",
    "gc = grangercausalitytests(new_cases_parks, 1)"
   ]
  },
  {
   "cell_type": "code",
   "execution_count": 40,
   "id": "2770d849",
   "metadata": {},
   "outputs": [],
   "source": [
    "new_cases_workplaces = pd.DataFrame(df[['new_cases', 'workplaces']], columns = ['new_cases', 'workplaces'] )\n",
    "new_cases_workplaces.dropna(axis=0,inplace = True)"
   ]
  },
  {
   "cell_type": "code",
   "execution_count": 42,
   "id": "b15fec9b",
   "metadata": {},
   "outputs": [
    {
     "name": "stdout",
     "output_type": "stream",
     "text": [
      "\n",
      "Granger Causality\n",
      "number of lags (no zero) 1\n",
      "ssr based F test:         F=5.4478  , p=0.0201  , df_denom=414, df_num=1\n",
      "ssr based chi2 test:   chi2=5.4873  , p=0.0192  , df=1\n",
      "likelihood ratio test: chi2=5.4515  , p=0.0196  , df=1\n",
      "parameter F test:         F=5.4478  , p=0.0201  , df_denom=414, df_num=1\n"
     ]
    }
   ],
   "source": [
    "# workplaces granger caused new_cases\n",
    "gc = grangercausalitytests(new_cases_workplaces, 1)"
   ]
  },
  {
   "cell_type": "code",
   "execution_count": 15,
   "id": "6e951564",
   "metadata": {},
   "outputs": [],
   "source": [
    "new_cases_grocery_and_pha = pd.DataFrame(df['new_cases'],mobility['grocery_and_pharmacy'], columns = ['new_cases', 'grocery_and_pharmacy'] )\n",
    "new_cases_grocery_and_pha.dropna(axis=0,inplace = True)"
   ]
  },
  {
   "cell_type": "code",
   "execution_count": 20,
   "id": "6419c47a",
   "metadata": {},
   "outputs": [],
   "source": [
    "df = pd.read_csv('new_df.csv')"
   ]
  },
  {
   "cell_type": "code",
   "execution_count": 21,
   "id": "09227f1c",
   "metadata": {},
   "outputs": [],
   "source": [
    "new_cases_grocery_and_pha = pd.DataFrame(df[['new_cases', 'grocery_and_pharmacy']], columns = ['new_cases', 'grocery_and_pharmacy'] )\n",
    "new_cases_grocery_and_pha.dropna(axis=0,inplace = True)"
   ]
  },
  {
   "cell_type": "code",
   "execution_count": null,
   "id": "2d072463",
   "metadata": {},
   "outputs": [],
   "source": []
  },
  {
   "cell_type": "code",
   "execution_count": 23,
   "id": "abf01b7b",
   "metadata": {},
   "outputs": [
    {
     "name": "stdout",
     "output_type": "stream",
     "text": [
      "\n",
      "Granger Causality\n",
      "number of lags (no zero) 1\n",
      "ssr based F test:         F=8.3405  , p=0.0041  , df_denom=415, df_num=1\n",
      "ssr based chi2 test:   chi2=8.4008  , p=0.0038  , df=1\n",
      "likelihood ratio test: chi2=8.3175  , p=0.0039  , df=1\n",
      "parameter F test:         F=8.3405  , p=0.0041  , df_denom=415, df_num=1\n"
     ]
    }
   ],
   "source": [
    "# workplaces granger caused new_cases\n",
    "gc = grangercausalitytests(new_cases_grocery_and_pha, 1)"
   ]
  },
  {
   "cell_type": "code",
   "execution_count": null,
   "id": "e28605f2",
   "metadata": {},
   "outputs": [],
   "source": []
  }
 ],
 "metadata": {
  "kernelspec": {
   "display_name": "Python 3 (ipykernel)",
   "language": "python",
   "name": "python3"
  },
  "language_info": {
   "codemirror_mode": {
    "name": "ipython",
    "version": 3
   },
   "file_extension": ".py",
   "mimetype": "text/x-python",
   "name": "python",
   "nbconvert_exporter": "python",
   "pygments_lexer": "ipython3",
   "version": "3.9.13"
  }
 },
 "nbformat": 4,
 "nbformat_minor": 5
}
