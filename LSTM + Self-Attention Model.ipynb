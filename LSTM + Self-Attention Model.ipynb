{
 "cells": [
  {
   "cell_type": "code",
   "execution_count": 2,
   "id": "c6e756bb",
   "metadata": {},
   "outputs": [],
   "source": [
    "import pandas as pd"
   ]
  },
  {
   "cell_type": "code",
   "execution_count": 3,
   "id": "932a99c4",
   "metadata": {},
   "outputs": [],
   "source": [
    "df = pd.read_csv('new_df.csv')"
   ]
  },
  {
   "cell_type": "code",
   "execution_count": 4,
   "id": "32f62ef1",
   "metadata": {
    "scrolled": false
   },
   "outputs": [
    {
     "data": {
      "text/html": [
       "<div>\n",
       "<style scoped>\n",
       "    .dataframe tbody tr th:only-of-type {\n",
       "        vertical-align: middle;\n",
       "    }\n",
       "\n",
       "    .dataframe tbody tr th {\n",
       "        vertical-align: top;\n",
       "    }\n",
       "\n",
       "    .dataframe thead th {\n",
       "        text-align: right;\n",
       "    }\n",
       "</style>\n",
       "<table border=\"1\" class=\"dataframe\">\n",
       "  <thead>\n",
       "    <tr style=\"text-align: right;\">\n",
       "      <th></th>\n",
       "      <th>retail_and_recreation</th>\n",
       "      <th>grocery_and_pharmacy</th>\n",
       "      <th>residential</th>\n",
       "      <th>transit_stations</th>\n",
       "      <th>parks</th>\n",
       "      <th>workplaces</th>\n",
       "      <th>new_cases</th>\n",
       "      <th>total_deaths</th>\n",
       "      <th>new_deaths</th>\n",
       "      <th>new_deaths_smoothed</th>\n",
       "      <th>total_deaths_per_million</th>\n",
       "      <th>new_deaths_per_million</th>\n",
       "      <th>new_deaths_smoothed_per_million</th>\n",
       "      <th>new_tests</th>\n",
       "      <th>total_tests</th>\n",
       "      <th>total_tests_per_thousand</th>\n",
       "      <th>new_tests_per_thousand</th>\n",
       "      <th>new_tests_smoothed</th>\n",
       "      <th>new_tests_smoothed_per_thousand</th>\n",
       "      <th>positive_rate</th>\n",
       "    </tr>\n",
       "  </thead>\n",
       "  <tbody>\n",
       "    <tr>\n",
       "      <th>0</th>\n",
       "      <td>-13.000</td>\n",
       "      <td>0.143</td>\n",
       "      <td>4.143</td>\n",
       "      <td>-10.286</td>\n",
       "      <td>-5.857</td>\n",
       "      <td>-7.143</td>\n",
       "      <td>50.0</td>\n",
       "      <td>5.0</td>\n",
       "      <td>1.0</td>\n",
       "      <td>0.429</td>\n",
       "      <td>0.004</td>\n",
       "      <td>0.001</td>\n",
       "      <td>0.000</td>\n",
       "      <td>1060.0</td>\n",
       "      <td>14376.0</td>\n",
       "      <td>0.010</td>\n",
       "      <td>0.001</td>\n",
       "      <td>1125.0</td>\n",
       "      <td>0.001</td>\n",
       "      <td>0.021</td>\n",
       "    </tr>\n",
       "    <tr>\n",
       "      <th>1</th>\n",
       "      <td>-16.286</td>\n",
       "      <td>0.000</td>\n",
       "      <td>4.714</td>\n",
       "      <td>-12.714</td>\n",
       "      <td>-8.286</td>\n",
       "      <td>-8.857</td>\n",
       "      <td>86.0</td>\n",
       "      <td>4.0</td>\n",
       "      <td>-1.0</td>\n",
       "      <td>0.286</td>\n",
       "      <td>0.003</td>\n",
       "      <td>-0.001</td>\n",
       "      <td>0.000</td>\n",
       "      <td>1325.0</td>\n",
       "      <td>15701.0</td>\n",
       "      <td>0.011</td>\n",
       "      <td>0.001</td>\n",
       "      <td>1125.0</td>\n",
       "      <td>0.001</td>\n",
       "      <td>0.029</td>\n",
       "    </tr>\n",
       "    <tr>\n",
       "      <th>2</th>\n",
       "      <td>-25.857</td>\n",
       "      <td>-10.714</td>\n",
       "      <td>7.286</td>\n",
       "      <td>-21.714</td>\n",
       "      <td>-15.714</td>\n",
       "      <td>-16.143</td>\n",
       "      <td>66.0</td>\n",
       "      <td>7.0</td>\n",
       "      <td>3.0</td>\n",
       "      <td>0.714</td>\n",
       "      <td>0.005</td>\n",
       "      <td>0.002</td>\n",
       "      <td>0.001</td>\n",
       "      <td>1298.0</td>\n",
       "      <td>16999.0</td>\n",
       "      <td>0.012</td>\n",
       "      <td>0.001</td>\n",
       "      <td>1121.0</td>\n",
       "      <td>0.001</td>\n",
       "      <td>0.036</td>\n",
       "    </tr>\n",
       "    <tr>\n",
       "      <th>3</th>\n",
       "      <td>-32.429</td>\n",
       "      <td>-14.857</td>\n",
       "      <td>9.714</td>\n",
       "      <td>-28.286</td>\n",
       "      <td>-20.571</td>\n",
       "      <td>-22.714</td>\n",
       "      <td>103.0</td>\n",
       "      <td>10.0</td>\n",
       "      <td>3.0</td>\n",
       "      <td>1.143</td>\n",
       "      <td>0.007</td>\n",
       "      <td>0.002</td>\n",
       "      <td>0.001</td>\n",
       "      <td>3708.0</td>\n",
       "      <td>20707.0</td>\n",
       "      <td>0.015</td>\n",
       "      <td>0.003</td>\n",
       "      <td>1462.0</td>\n",
       "      <td>0.001</td>\n",
       "      <td>0.037</td>\n",
       "    </tr>\n",
       "    <tr>\n",
       "      <th>4</th>\n",
       "      <td>-40.571</td>\n",
       "      <td>-21.714</td>\n",
       "      <td>12.857</td>\n",
       "      <td>-36.143</td>\n",
       "      <td>-26.571</td>\n",
       "      <td>-30.857</td>\n",
       "      <td>37.0</td>\n",
       "      <td>10.0</td>\n",
       "      <td>0.0</td>\n",
       "      <td>1.000</td>\n",
       "      <td>0.007</td>\n",
       "      <td>0.000</td>\n",
       "      <td>0.001</td>\n",
       "      <td>157.0</td>\n",
       "      <td>20864.0</td>\n",
       "      <td>0.015</td>\n",
       "      <td>0.000</td>\n",
       "      <td>1295.0</td>\n",
       "      <td>0.001</td>\n",
       "      <td>0.043</td>\n",
       "    </tr>\n",
       "  </tbody>\n",
       "</table>\n",
       "</div>"
      ],
      "text/plain": [
       "   retail_and_recreation  grocery_and_pharmacy  residential  transit_stations  \\\n",
       "0                -13.000                 0.143        4.143           -10.286   \n",
       "1                -16.286                 0.000        4.714           -12.714   \n",
       "2                -25.857               -10.714        7.286           -21.714   \n",
       "3                -32.429               -14.857        9.714           -28.286   \n",
       "4                -40.571               -21.714       12.857           -36.143   \n",
       "\n",
       "    parks  workplaces  new_cases  total_deaths  new_deaths  \\\n",
       "0  -5.857      -7.143       50.0           5.0         1.0   \n",
       "1  -8.286      -8.857       86.0           4.0        -1.0   \n",
       "2 -15.714     -16.143       66.0           7.0         3.0   \n",
       "3 -20.571     -22.714      103.0          10.0         3.0   \n",
       "4 -26.571     -30.857       37.0          10.0         0.0   \n",
       "\n",
       "   new_deaths_smoothed  total_deaths_per_million  new_deaths_per_million  \\\n",
       "0                0.429                     0.004                   0.001   \n",
       "1                0.286                     0.003                  -0.001   \n",
       "2                0.714                     0.005                   0.002   \n",
       "3                1.143                     0.007                   0.002   \n",
       "4                1.000                     0.007                   0.000   \n",
       "\n",
       "   new_deaths_smoothed_per_million  new_tests  total_tests  \\\n",
       "0                            0.000     1060.0      14376.0   \n",
       "1                            0.000     1325.0      15701.0   \n",
       "2                            0.001     1298.0      16999.0   \n",
       "3                            0.001     3708.0      20707.0   \n",
       "4                            0.001      157.0      20864.0   \n",
       "\n",
       "   total_tests_per_thousand  new_tests_per_thousand  new_tests_smoothed  \\\n",
       "0                     0.010                   0.001              1125.0   \n",
       "1                     0.011                   0.001              1125.0   \n",
       "2                     0.012                   0.001              1121.0   \n",
       "3                     0.015                   0.003              1462.0   \n",
       "4                     0.015                   0.000              1295.0   \n",
       "\n",
       "   new_tests_smoothed_per_thousand  positive_rate  \n",
       "0                            0.001          0.021  \n",
       "1                            0.001          0.029  \n",
       "2                            0.001          0.036  \n",
       "3                            0.001          0.037  \n",
       "4                            0.001          0.043  "
      ]
     },
     "execution_count": 4,
     "metadata": {},
     "output_type": "execute_result"
    }
   ],
   "source": [
    "df.head()"
   ]
  },
  {
   "cell_type": "code",
   "execution_count": 5,
   "id": "8ce27154",
   "metadata": {
    "scrolled": false
   },
   "outputs": [
    {
     "data": {
      "text/plain": [
       "<AxesSubplot:ylabel='Density'>"
      ]
     },
     "execution_count": 5,
     "metadata": {},
     "output_type": "execute_result"
    },
    {
     "data": {
      "image/png": "[encoded data removed]",
      "text/plain": [
       "<Figure size 432x288 with 1 Axes>"
      ]
     },
     "metadata": {
      "needs_background": "light"
     },
     "output_type": "display_data"
    }
   ],
   "source": [
    "df['new_cases'].plot(kind = 'kde')"
   ]
  },
  {
   "cell_type": "code",
   "execution_count": 6,
   "id": "6e299402",
   "metadata": {},
   "outputs": [],
   "source": [
    "from scipy import stats"
   ]
  },
  {
   "cell_type": "code",
   "execution_count": 7,
   "id": "66c198b5",
   "metadata": {},
   "outputs": [],
   "source": [
    "columns = df.drop(columns = ['new_cases']).columns"
   ]
  },
  {
   "cell_type": "code",
   "execution_count": 8,
   "id": "48a23887",
   "metadata": {},
   "outputs": [
    {
     "data": {
      "text/plain": [
       "Index(['retail_and_recreation', 'grocery_and_pharmacy', 'residential',\n",
       "       'transit_stations', 'parks', 'workplaces', 'total_deaths', 'new_deaths',\n",
       "       'new_deaths_smoothed', 'total_deaths_per_million',\n",
       "       'new_deaths_per_million', 'new_deaths_smoothed_per_million',\n",
       "       'new_tests', 'total_tests', 'total_tests_per_thousand',\n",
       "       'new_tests_per_thousand', 'new_tests_smoothed',\n",
       "       'new_tests_smoothed_per_thousand', 'positive_rate'],\n",
       "      dtype='object')"
      ]
     },
     "execution_count": 8,
     "metadata": {},
     "output_type": "execute_result"
    }
   ],
   "source": [
    "columns"
   ]
  },
  {
   "cell_type": "code",
   "execution_count": 9,
   "id": "28a1b8de",
   "metadata": {},
   "outputs": [],
   "source": [
    "from sklearn.preprocessing import PowerTransformer"
   ]
  },
  {
   "cell_type": "code",
   "execution_count": 10,
   "id": "3bcf31fb",
   "metadata": {},
   "outputs": [],
   "source": [
    "data = df.drop(columns = ['new_cases']).values"
   ]
  },
  {
   "cell_type": "code",
   "execution_count": 11,
   "id": "ed6cdcd7",
   "metadata": {},
   "outputs": [],
   "source": [
    "pt = PowerTransformer(method = 'yeo-johnson', standardize = False, copy = False)"
   ]
  },
  {
   "cell_type": "code",
   "execution_count": 12,
   "id": "a320bbdb",
   "metadata": {},
   "outputs": [
    {
     "data": {
      "text/plain": [
       "PowerTransformer(copy=False, standardize=False)"
      ]
     },
     "execution_count": 12,
     "metadata": {},
     "output_type": "execute_result"
    }
   ],
   "source": [
    "pt.fit(data)"
   ]
  },
  {
   "cell_type": "code",
   "execution_count": 13,
   "id": "b4f0ed7b",
   "metadata": {
    "scrolled": true
   },
   "outputs": [
    {
     "data": {
      "text/plain": [
       "array([[-2.54450715e+00,  1.44620658e-01,  1.26732211e+00, ...,\n",
       "         1.25909652e+02,  9.99733182e-04,  1.83714516e-02],\n",
       "       [-2.73984830e+00,  0.00000000e+00,  1.32783232e+00, ...,\n",
       "         1.25909652e+02,  9.99733182e-04,  2.41601470e-02],\n",
       "       [-3.14440717e+00, -8.15404174e+00,  1.52548978e+00, ...,\n",
       "         1.25627455e+02,  9.99733182e-04,  2.87626416e-02],\n",
       "       ...,\n",
       "       [-3.90106878e+00, -1.68373191e+01,  1.98486430e+00, ...,\n",
       "         1.37843873e+04,  1.14856724e+00,  5.31478411e-02],\n",
       "       [-3.88660335e+00, -1.60813305e+01,  1.97873968e+00, ...,\n",
       "         1.36396701e+04,  1.13322804e+00,  5.21498216e-02],\n",
       "       [-3.86550457e+00, -1.47198981e+01,  1.97032698e+00, ...,\n",
       "         1.35608702e+04,  1.12460207e+00,  5.04038679e-02]])"
      ]
     },
     "execution_count": 13,
     "metadata": {},
     "output_type": "execute_result"
    }
   ],
   "source": [
    "pt.transform(data)"
   ]
  },
  {
   "cell_type": "code",
   "execution_count": 14,
   "id": "fd31b114",
   "metadata": {},
   "outputs": [],
   "source": [
    "df_new = pd.DataFrame(data, columns = columns)"
   ]
  },
  {
   "cell_type": "code",
   "execution_count": 15,
   "id": "7ece34d7",
   "metadata": {},
   "outputs": [],
   "source": [
    "data = df['new_cases'].values"
   ]
  },
  {
   "cell_type": "code",
   "execution_count": 16,
   "id": "b7ff14e9",
   "metadata": {},
   "outputs": [
    {
     "data": {
      "text/plain": [
       "(419,)"
      ]
     },
     "execution_count": 16,
     "metadata": {},
     "output_type": "execute_result"
    }
   ],
   "source": [
    "data.shape"
   ]
  },
  {
   "cell_type": "code",
   "execution_count": 17,
   "id": "1ac0f5c3",
   "metadata": {
    "scrolled": true
   },
   "outputs": [
    {
     "data": {
      "text/plain": [
       "array([[ 6.03738583],\n",
       "       [ 7.29855984],\n",
       "       [ 6.66451548],\n",
       "       [ 7.75168365],\n",
       "       [ 5.39922412],\n",
       "       [ 8.17119772],\n",
       "       [ 4.55482471],\n",
       "       [12.65152741],\n",
       "       [12.5885163 ],\n",
       "       [15.92419991],\n",
       "       [12.77497134],\n",
       "       [13.23788645],\n",
       "       [14.34616546],\n",
       "       [14.6476751 ],\n",
       "       [14.53205749],\n",
       "       [14.09712892],\n",
       "       [16.12759849],\n",
       "       [15.33507628],\n",
       "       [14.47086245],\n",
       "       [15.62274633],\n",
       "       [14.86685841],\n",
       "       [16.53204049],\n",
       "       [17.99563683],\n",
       "       [16.79110836],\n",
       "       [17.63902206],\n",
       "       [17.24213005],\n",
       "       [17.11114573],\n",
       "       [17.94600383],\n",
       "       [17.59948432],\n",
       "       [17.76376137],\n",
       "       [19.12089462],\n",
       "       [19.2185364 ],\n",
       "       [19.91315959],\n",
       "       [21.68448073],\n",
       "       [20.19077172],\n",
       "       [21.1901708 ],\n",
       "       [20.85015248],\n",
       "       [20.81878989],\n",
       "       [20.44528505],\n",
       "       [22.24295695],\n",
       "       [21.21983647],\n",
       "       [21.09585599],\n",
       "       [21.44684718],\n",
       "       [21.69828549],\n",
       "       [21.48110453],\n",
       "       [22.865794  ],\n",
       "       [23.07959303],\n",
       "       [22.58738276],\n",
       "       [24.22675196],\n",
       "       [23.62793276],\n",
       "       [24.27598751],\n",
       "       [24.6238536 ],\n",
       "       [24.67969885],\n",
       "       [25.10888877],\n",
       "       [24.4810092 ],\n",
       "       [23.92633428],\n",
       "       [25.26258553],\n",
       "       [25.26850141],\n",
       "       [25.92057192],\n",
       "       [26.09814041],\n",
       "       [26.43018742],\n",
       "       [25.6485288 ],\n",
       "       [26.45858025],\n",
       "       [27.02820818],\n",
       "       [27.19986385],\n",
       "       [26.91769868],\n",
       "       [27.55638863],\n",
       "       [27.8228957 ],\n",
       "       [26.1783146 ],\n",
       "       [27.4153526 ],\n",
       "       [27.56972716],\n",
       "       [27.86343862],\n",
       "       [28.18095963],\n",
       "       [28.4545265 ],\n",
       "       [28.20689062],\n",
       "       [27.70070478],\n",
       "       [27.89035918],\n",
       "       [28.98222486],\n",
       "       [29.35335418],\n",
       "       [29.8201771 ],\n",
       "       [30.24374892],\n",
       "       [29.97289972],\n",
       "       [30.02179965],\n",
       "       [30.50353962],\n",
       "       [30.9260549 ],\n",
       "       [31.08653341],\n",
       "       [31.60601908],\n",
       "       [32.13559188],\n",
       "       [31.96401966],\n",
       "       [31.59394201],\n",
       "       [31.64175653],\n",
       "       [31.84749629],\n",
       "       [32.50750182],\n",
       "       [33.16790281],\n",
       "       [33.85402895],\n",
       "       [33.66020274],\n",
       "       [32.98852967],\n",
       "       [33.16174846],\n",
       "       [33.86327139],\n",
       "       [34.36858807],\n",
       "       [34.55109571],\n",
       "       [34.9855415 ],\n",
       "       [35.02139859],\n",
       "       [34.95470672],\n",
       "       [35.2175215 ],\n",
       "       [36.08524161],\n",
       "       [36.65899277],\n",
       "       [36.72607946],\n",
       "       [37.52725572],\n",
       "       [37.90792578],\n",
       "       [37.17064059],\n",
       "       [37.31057981],\n",
       "       [38.99894948],\n",
       "       [39.68271629],\n",
       "       [39.60964674],\n",
       "       [39.55276059],\n",
       "       [39.80609501],\n",
       "       [38.74822412],\n",
       "       [40.09773571],\n",
       "       [39.86319705],\n",
       "       [40.30749102],\n",
       "       [41.70258228],\n",
       "       [40.64441093],\n",
       "       [40.34054217],\n",
       "       [40.17841114],\n",
       "       [40.25940803],\n",
       "       [40.90470219],\n",
       "       [41.90255511],\n",
       "       [41.74839462],\n",
       "       [42.18401896],\n",
       "       [41.82980262],\n",
       "       [40.4498665 ],\n",
       "       [41.65909289],\n",
       "       [42.56661055],\n",
       "       [42.20701929],\n",
       "       [42.23369865],\n",
       "       [42.12872924],\n",
       "       [41.14013056],\n",
       "       [40.6924608 ],\n",
       "       [42.20985396],\n",
       "       [42.94782331],\n",
       "       [42.83893599],\n",
       "       [42.97643625],\n",
       "       [42.8868694 ],\n",
       "       [41.72838297],\n",
       "       [41.66096665],\n",
       "       [41.06042327],\n",
       "       [45.01550353],\n",
       "       [43.9707683 ],\n",
       "       [43.86765852],\n",
       "       [44.16264468],\n",
       "       [44.13088891],\n",
       "       [42.98273898],\n",
       "       [44.11108079],\n",
       "       [44.7988013 ],\n",
       "       [44.7329706 ],\n",
       "       [45.10393745],\n",
       "       [45.59144651],\n",
       "       [45.61079742],\n",
       "       [43.78090607],\n",
       "       [45.48553104],\n",
       "       [46.1601528 ],\n",
       "       [46.24884297],\n",
       "       [46.35876363],\n",
       "       [46.01065944],\n",
       "       [45.75434301],\n",
       "       [44.78983332],\n",
       "       [45.53333444],\n",
       "       [46.39352251],\n",
       "       [46.23507875],\n",
       "       [45.89598948],\n",
       "       [45.81427738],\n",
       "       [45.16636404],\n",
       "       [43.68521513],\n",
       "       [44.73370121],\n",
       "       [45.11292478],\n",
       "       [45.05890632],\n",
       "       [44.97673327],\n",
       "       [45.35788143],\n",
       "       [44.58957121],\n",
       "       [43.07592217],\n",
       "       [44.37872048],\n",
       "       [45.14987229],\n",
       "       [44.50480766],\n",
       "       [44.25338912],\n",
       "       [43.78353185],\n",
       "       [43.60011391],\n",
       "       [41.70647149],\n",
       "       [43.27716926],\n",
       "       [44.13242115],\n",
       "       [43.06299121],\n",
       "       [43.44326629],\n",
       "       [43.59225162],\n",
       "       [42.52787112],\n",
       "       [40.74723117],\n",
       "       [42.05023118],\n",
       "       [42.66888767],\n",
       "       [42.0293532 ],\n",
       "       [41.8525659 ],\n",
       "       [41.8000531 ],\n",
       "       [40.81114396],\n",
       "       [39.20708598],\n",
       "       [40.52625191],\n",
       "       [40.83075255],\n",
       "       [40.5814616 ],\n",
       "       [40.40983634],\n",
       "       [39.83313068],\n",
       "       [38.8860901 ],\n",
       "       [37.01618433],\n",
       "       [38.6344276 ],\n",
       "       [39.7877916 ],\n",
       "       [39.55967664],\n",
       "       [39.48844678],\n",
       "       [39.24038153],\n",
       "       [38.90253684],\n",
       "       [37.44015346],\n",
       "       [39.10310745],\n",
       "       [39.84790035],\n",
       "       [39.36936619],\n",
       "       [39.87447443],\n",
       "       [38.98991504],\n",
       "       [39.03481941],\n",
       "       [37.38646561],\n",
       "       [38.71283703],\n",
       "       [39.41998572],\n",
       "       [38.83262099],\n",
       "       [38.79370125],\n",
       "       [38.05311376],\n",
       "       [35.52479506],\n",
       "       [35.14311449],\n",
       "       [37.50930709],\n",
       "       [38.97064358],\n",
       "       [39.03070897],\n",
       "       [39.09902178],\n",
       "       [38.89817981],\n",
       "       [38.66804111],\n",
       "       [37.36418786],\n",
       "       [38.73195189],\n",
       "       [38.75464616],\n",
       "       [38.46873837],\n",
       "       [38.10044995],\n",
       "       [38.20379739],\n",
       "       [37.54405578],\n",
       "       [35.67788576],\n",
       "       [37.04762788],\n",
       "       [36.79802537],\n",
       "       [37.04551887],\n",
       "       [37.05886896],\n",
       "       [36.90777714],\n",
       "       [36.16317126],\n",
       "       [34.38704827],\n",
       "       [35.93127404],\n",
       "       [35.7847829 ],\n",
       "       [35.20190146],\n",
       "       [34.53829566],\n",
       "       [32.92355932],\n",
       "       [34.33095801],\n",
       "       [33.58251699],\n",
       "       [33.20849283],\n",
       "       [33.94986047],\n",
       "       [34.40426752],\n",
       "       [33.68909752],\n",
       "       [32.00151555],\n",
       "       [33.56283571],\n",
       "       [33.80992973],\n",
       "       [33.26855683],\n",
       "       [32.99618573],\n",
       "       [31.67815701],\n",
       "       [32.17923621],\n",
       "       [30.71147651],\n",
       "       [32.37709779],\n",
       "       [32.83801911],\n",
       "       [ 0.        ],\n",
       "       [32.1845358 ],\n",
       "       [37.19932801],\n",
       "       [30.74332268],\n",
       "       [30.68618614],\n",
       "       [31.41746219],\n",
       "       [32.30150989],\n",
       "       [31.43837412],\n",
       "       [ 0.        ],\n",
       "       [37.10907643],\n",
       "       [30.65770636],\n",
       "       [28.82102474],\n",
       "       [30.50353962],\n",
       "       [30.93643725],\n",
       "       [30.33055992],\n",
       "       [30.12873483],\n",
       "       [30.12211806],\n",
       "       [29.45686362],\n",
       "       [27.30601679],\n",
       "       [29.47111611],\n",
       "       [30.16927444],\n",
       "       [29.83434685],\n",
       "       [29.69212158],\n",
       "       [29.98154852],\n",
       "       [29.15368763],\n",
       "       [26.66025528],\n",
       "       [28.87835718],\n",
       "       [28.30285272],\n",
       "       [31.72713476],\n",
       "       [29.08965018],\n",
       "       [29.06944205],\n",
       "       [28.16796442],\n",
       "       [26.32225854],\n",
       "       [27.92997151],\n",
       "       [28.99189918],\n",
       "       [28.72406545],\n",
       "       [28.33015614],\n",
       "       [28.52851803],\n",
       "       [28.39832312],\n",
       "       [26.665924  ],\n",
       "       [27.94697814],\n",
       "       [29.00478158],\n",
       "       [26.80567531],\n",
       "       [28.57599118],\n",
       "       [28.60468686],\n",
       "       [28.29295546],\n",
       "       [26.67371202],\n",
       "       [28.27020651],\n",
       "       [28.98222486],\n",
       "       [29.14841302],\n",
       "       [29.56068436],\n",
       "       [29.69608934],\n",
       "       [29.6637999 ],\n",
       "       [27.64868536],\n",
       "       [29.43339876],\n",
       "       [30.84606527],\n",
       "       [30.77549853],\n",
       "       [30.73625532],\n",
       "       [30.85217596],\n",
       "       [30.29352346],\n",
       "       [28.65621108],\n",
       "       [30.0485338 ],\n",
       "       [31.1336306 ],\n",
       "       [30.88962416],\n",
       "       [31.49757519],\n",
       "       [31.686936  ],\n",
       "       [31.62490861],\n",
       "       [33.19623124],\n",
       "       [33.34203218],\n",
       "       [33.86422702],\n",
       "       [34.00277514],\n",
       "       [34.30325278],\n",
       "       [33.73921983],\n",
       "       [35.06986226],\n",
       "       [36.87449307],\n",
       "       [37.75552864],\n",
       "       [38.02165749],\n",
       "       [38.62489216],\n",
       "       [39.29769769],\n",
       "       [40.42822224],\n",
       "       [41.36744647],\n",
       "       [41.8596322 ],\n",
       "       [41.92945704],\n",
       "       [42.71362561],\n",
       "       [40.89288144],\n",
       "       [40.42891548],\n",
       "       [43.31552951],\n",
       "       [44.50257591],\n",
       "       [45.41909345],\n",
       "       [45.88619318],\n",
       "       [46.98685881],\n",
       "       [46.2954475 ],\n",
       "       [48.17995054],\n",
       "       [49.17923207],\n",
       "       [49.62375993],\n",
       "       [50.71394911],\n",
       "       [51.28854435],\n",
       "       [52.44616527],\n",
       "       [51.93935483],\n",
       "       [53.48237032],\n",
       "       [54.50659195],\n",
       "       [55.48043336],\n",
       "       [56.43554129],\n",
       "       [57.80201807],\n",
       "       [58.39946633],\n",
       "       [57.69240974],\n",
       "       [59.37912242],\n",
       "       [60.22495959],\n",
       "       [60.98124922],\n",
       "       [61.53323537],\n",
       "       [61.64665627],\n",
       "       [61.77459355],\n",
       "       [60.57589904],\n",
       "       [62.07841252],\n",
       "       [62.76220987],\n",
       "       [63.02457354],\n",
       "       [63.57068655],\n",
       "       [63.23646905],\n",
       "       [62.34698805],\n",
       "       [61.94083611],\n",
       "       [62.86542529],\n",
       "       [63.93054492],\n",
       "       [63.99040466],\n",
       "       [63.5387882 ],\n",
       "       [63.61979797],\n",
       "       [62.2883812 ],\n",
       "       [60.86027106],\n",
       "       [61.5971638 ],\n",
       "       [62.14658264],\n",
       "       [61.38996685],\n",
       "       [60.70287431],\n",
       "       [60.07727431],\n",
       "       [58.09078203],\n",
       "       [58.5082114 ],\n",
       "       [57.71136274],\n",
       "       [57.59989134],\n",
       "       [56.76082942],\n",
       "       [55.75977589],\n",
       "       [54.24339517],\n",
       "       [54.99388477],\n",
       "       [55.13260189],\n",
       "       [53.6108021 ],\n",
       "       [52.78098184],\n",
       "       [52.21111022],\n",
       "       [51.27764293],\n",
       "       [49.24197309],\n",
       "       [49.69286479]])"
      ]
     },
     "execution_count": 17,
     "metadata": {},
     "output_type": "execute_result"
    }
   ],
   "source": [
    "pt_labels = PowerTransformer(method = 'yeo-johnson', standardize = False, copy = False)\n",
    "pt_labels.fit(data.reshape(-1,1))\n",
    "pt_labels.transform(data.reshape(-1,1))"
   ]
  },
  {
   "cell_type": "code",
   "execution_count": 18,
   "id": "f2e45be9",
   "metadata": {},
   "outputs": [
    {
     "data": {
      "text/plain": [
       "array([  2.02782008,   1.16466568,  -0.32768987,   1.59377117,\n",
       "         0.93013662,   2.07814207,   0.47541978,   0.18803031,\n",
       "         0.16651291,   0.51287991,  -1.96715107,  -1.98245658,\n",
       "         0.60597102,   0.34976404,   0.34595009,   0.34094274,\n",
       "         0.62255149,   0.46609116, -12.12153122])"
      ]
     },
     "execution_count": 18,
     "metadata": {},
     "output_type": "execute_result"
    }
   ],
   "source": [
    "pt.lambdas_"
   ]
  },
  {
   "cell_type": "code",
   "execution_count": 19,
   "id": "30c6a16f",
   "metadata": {},
   "outputs": [],
   "source": [
    "df_new['new_cases'] = data"
   ]
  },
  {
   "cell_type": "code",
   "execution_count": 20,
   "id": "4c9f9eed",
   "metadata": {},
   "outputs": [
    {
     "data": {
      "text/plain": [
       "<AxesSubplot:ylabel='Density'>"
      ]
     },
     "execution_count": 20,
     "metadata": {},
     "output_type": "execute_result"
    },
    {
     "data": {
      "image/png": "[encoded data removed]",
      "text/plain": [
       "<Figure size 432x288 with 1 Axes>"
      ]
     },
     "metadata": {
      "needs_background": "light"
     },
     "output_type": "display_data"
    }
   ],
   "source": [
    "df_new['new_cases'].plot(kind = 'kde') "
   ]
  },
  {
   "cell_type": "code",
   "execution_count": 21,
   "id": "56472df5",
   "metadata": {},
   "outputs": [],
   "source": [
    "df_new.to_csv('boxcox_df.csv', index = False)"
   ]
  },
  {
   "cell_type": "code",
   "execution_count": 22,
   "id": "768df237",
   "metadata": {},
   "outputs": [
    {
     "name": "stdout",
     "output_type": "stream",
     "text": [
      "<class 'pandas.core.frame.DataFrame'>\n",
      "RangeIndex: 419 entries, 0 to 418\n",
      "Data columns (total 20 columns):\n",
      " #   Column                           Non-Null Count  Dtype  \n",
      "---  ------                           --------------  -----  \n",
      " 0   retail_and_recreation            419 non-null    float64\n",
      " 1   grocery_and_pharmacy             419 non-null    float64\n",
      " 2   residential                      419 non-null    float64\n",
      " 3   transit_stations                 419 non-null    float64\n",
      " 4   parks                            419 non-null    float64\n",
      " 5   workplaces                       419 non-null    float64\n",
      " 6   total_deaths                     419 non-null    float64\n",
      " 7   new_deaths                       419 non-null    float64\n",
      " 8   new_deaths_smoothed              419 non-null    float64\n",
      " 9   total_deaths_per_million         419 non-null    float64\n",
      " 10  new_deaths_per_million           419 non-null    float64\n",
      " 11  new_deaths_smoothed_per_million  419 non-null    float64\n",
      " 12  new_tests                        419 non-null    float64\n",
      " 13  total_tests                      419 non-null    float64\n",
      " 14  total_tests_per_thousand         419 non-null    float64\n",
      " 15  new_tests_per_thousand           419 non-null    float64\n",
      " 16  new_tests_smoothed               419 non-null    float64\n",
      " 17  new_tests_smoothed_per_thousand  419 non-null    float64\n",
      " 18  positive_rate                    419 non-null    float64\n",
      " 19  new_cases                        419 non-null    float64\n",
      "dtypes: float64(20)\n",
      "memory usage: 65.6 KB\n"
     ]
    }
   ],
   "source": [
    "df_new.info()"
   ]
  },
  {
   "cell_type": "markdown",
   "id": "8c8ba3bb",
   "metadata": {},
   "source": [
    "# Few Short Learning"
   ]
  },
  {
   "cell_type": "code",
   "execution_count": 44,
   "id": "e45e11f8",
   "metadata": {},
   "outputs": [],
   "source": [
    "import numpy as np\n",
    "import pandas as pd\n",
    "import matplotlib.pyplot as plt\n",
    "#import seaborn as sns\n",
    "%matplotlib inline\n",
    "import sys\n",
    "import random\n",
    "from pprint import pprint"
   ]
  },
  {
   "cell_type": "code",
   "execution_count": 45,
   "id": "74094e68",
   "metadata": {},
   "outputs": [],
   "source": [
    "df = pd.read_csv('boxcox_df.csv')"
   ]
  },
  {
   "cell_type": "code",
   "execution_count": 46,
   "id": "be208015",
   "metadata": {},
   "outputs": [
    {
     "name": "stdout",
     "output_type": "stream",
     "text": [
      "<class 'pandas.core.frame.DataFrame'>\n",
      "RangeIndex: 419 entries, 0 to 418\n",
      "Data columns (total 20 columns):\n",
      " #   Column                           Non-Null Count  Dtype  \n",
      "---  ------                           --------------  -----  \n",
      " 0   retail_and_recreation            419 non-null    float64\n",
      " 1   grocery_and_pharmacy             419 non-null    float64\n",
      " 2   residential                      419 non-null    float64\n",
      " 3   transit_stations                 419 non-null    float64\n",
      " 4   parks                            419 non-null    float64\n",
      " 5   workplaces                       419 non-null    float64\n",
      " 6   total_deaths                     419 non-null    float64\n",
      " 7   new_deaths                       419 non-null    float64\n",
      " 8   new_deaths_smoothed              419 non-null    float64\n",
      " 9   total_deaths_per_million         419 non-null    float64\n",
      " 10  new_deaths_per_million           419 non-null    float64\n",
      " 11  new_deaths_smoothed_per_million  419 non-null    float64\n",
      " 12  new_tests                        419 non-null    float64\n",
      " 13  total_tests                      419 non-null    float64\n",
      " 14  total_tests_per_thousand         419 non-null    float64\n",
      " 15  new_tests_per_thousand           419 non-null    float64\n",
      " 16  new_tests_smoothed               419 non-null    float64\n",
      " 17  new_tests_smoothed_per_thousand  419 non-null    float64\n",
      " 18  positive_rate                    419 non-null    float64\n",
      " 19  new_cases                        419 non-null    float64\n",
      "dtypes: float64(20)\n",
      "memory usage: 65.6 KB\n"
     ]
    }
   ],
   "source": [
    "df.info()"
   ]
  },
  {
   "cell_type": "code",
   "execution_count": 47,
   "id": "bc4cb7d5",
   "metadata": {},
   "outputs": [],
   "source": [
    "samples = df.drop(columns = ['new_cases'])"
   ]
  },
  {
   "cell_type": "code",
   "execution_count": 48,
   "id": "b14f8385",
   "metadata": {},
   "outputs": [],
   "source": [
    "labels = df['new_cases']"
   ]
  },
  {
   "cell_type": "code",
   "execution_count": 49,
   "id": "5c6c01b7",
   "metadata": {},
   "outputs": [],
   "source": [
    "from sklearn.model_selection import train_test_split"
   ]
  },
  {
   "cell_type": "code",
   "execution_count": 50,
   "id": "c20211d5",
   "metadata": {},
   "outputs": [],
   "source": [
    "train_samples, valid_samples, train_labels, valid_labels = train_test_split(samples, labels, test_size=0.2)"
   ]
  },
  {
   "cell_type": "code",
   "execution_count": 51,
   "id": "e8e35bd2",
   "metadata": {},
   "outputs": [],
   "source": [
    "train_samples, test_samples, train_labels, test_labels = train_test_split(train_samples, train_labels, test_size=0.2)"
   ]
  },
  {
   "cell_type": "code",
   "execution_count": 52,
   "id": "fe710de1",
   "metadata": {},
   "outputs": [],
   "source": [
    "import sklearn"
   ]
  },
  {
   "cell_type": "code",
   "execution_count": 53,
   "id": "6dde95f5",
   "metadata": {},
   "outputs": [],
   "source": [
    "scaler = sklearn.preprocessing.MinMaxScaler()\n",
    "scaled_train_samples = scaler.fit_transform(train_samples)\n",
    "scaled_train_labels = scaler.fit_transform(train_labels.to_numpy().reshape(-1,1))\n",
    "\n",
    "scaled_valid_samples = scaler.fit_transform(valid_samples)\n",
    "scaled_valid_labels = scaler.fit_transform(valid_labels.to_numpy().reshape(-1,1))\n",
    "\n",
    "scaled_test_samples = scaler.fit_transform(test_samples)\n",
    "scaled_test_labels = scaler.fit_transform(test_labels.to_numpy().reshape(-1,1))"
   ]
  },
  {
   "cell_type": "code",
   "execution_count": 54,
   "id": "5d5df4fd",
   "metadata": {},
   "outputs": [],
   "source": [
    "from tensorflow.keras import models, layers\n",
    "import tensorflow as tf\n",
    "from keras.models import Sequential\n",
    "from keras.layers import Dense\n",
    "from keras.layers import Dropout\n",
    "from keras.layers import LSTM"
   ]
  },
  {
   "cell_type": "code",
   "execution_count": 55,
   "id": "25a5e1a2",
   "metadata": {},
   "outputs": [],
   "source": [
    "scaled_train_samples=scaled_train_samples.reshape(scaled_train_samples.shape[0],scaled_train_samples.shape[1],1)\n",
    "scaled_valid_samples=scaled_valid_samples.reshape(scaled_valid_samples.shape[0],scaled_valid_samples.shape[1],1)\n",
    "scaled_test_samples=scaled_test_samples.reshape(scaled_test_samples.shape[0],scaled_test_samples.shape[1],1)"
   ]
  },
  {
   "cell_type": "code",
   "execution_count": 64,
   "id": "46e33441",
   "metadata": {
    "scrolled": false
   },
   "outputs": [
    {
     "name": "stdout",
     "output_type": "stream",
     "text": [
      "Model: \"sequential_3\"\n",
      "_________________________________________________________________\n",
      " Layer (type)                Output Shape              Param #   \n",
      "=================================================================\n",
      " lstm_3 (LSTM)               (None, 128)               66560     \n",
      "                                                                 \n",
      " dense_11 (Dense)            (None, 128)               16512     \n",
      "                                                                 \n",
      " dense_13 (Dense)            (None, 128)               16512     \n",
      "                                                                 \n",
      " dense_14 (Dense)            (None, 1)                 129       \n",
      "                                                                 \n",
      "=================================================================\n",
      "Total params: 99,713\n",
      "Trainable params: 99,713\n",
      "Non-trainable params: 0\n",
      "_________________________________________________________________\n",
      "Epoch 1/100\n",
      "9/9 [==============================] - 3s 79ms/step - loss: 0.2093 - val_loss: 0.1352\n",
      "Epoch 2/100\n",
      "9/9 [==============================] - 0s 23ms/step - loss: 0.0785 - val_loss: 0.1580\n",
      "Epoch 3/100\n",
      "9/9 [==============================] - 0s 23ms/step - loss: 0.0734 - val_loss: 0.0746\n",
      "Epoch 4/100\n",
      "9/9 [==============================] - 0s 23ms/step - loss: 0.0811 - val_loss: 0.1334\n",
      "Epoch 5/100\n",
      "9/9 [==============================] - 0s 24ms/step - loss: 0.0723 - val_loss: 0.1089\n",
      "Epoch 6/100\n",
      "9/9 [==============================] - 0s 23ms/step - loss: 0.0735 - val_loss: 0.1079\n",
      "Epoch 7/100\n",
      "9/9 [==============================] - 0s 24ms/step - loss: 0.0648 - val_loss: 0.0521\n",
      "Epoch 8/100\n",
      "9/9 [==============================] - 0s 23ms/step - loss: 0.0624 - val_loss: 0.1011\n",
      "Epoch 9/100\n",
      "9/9 [==============================] - 0s 24ms/step - loss: 0.0641 - val_loss: 0.0368\n",
      "Epoch 10/100\n",
      "9/9 [==============================] - 0s 24ms/step - loss: 0.0542 - val_loss: 0.1070\n",
      "Epoch 11/100\n",
      "9/9 [==============================] - 0s 24ms/step - loss: 0.0562 - val_loss: 0.0447\n",
      "Epoch 12/100\n",
      "9/9 [==============================] - 0s 24ms/step - loss: 0.0589 - val_loss: 0.0916\n",
      "Epoch 13/100\n",
      "9/9 [==============================] - 0s 23ms/step - loss: 0.0593 - val_loss: 0.0607\n",
      "Epoch 14/100\n",
      "9/9 [==============================] - 0s 24ms/step - loss: 0.0524 - val_loss: 0.0824\n",
      "Epoch 15/100\n",
      "9/9 [==============================] - 0s 24ms/step - loss: 0.0562 - val_loss: 0.0354\n",
      "Epoch 16/100\n",
      "9/9 [==============================] - 0s 24ms/step - loss: 0.0543 - val_loss: 0.0665\n",
      "Epoch 17/100\n",
      "9/9 [==============================] - 0s 30ms/step - loss: 0.0578 - val_loss: 0.0343\n",
      "Epoch 18/100\n",
      "9/9 [==============================] - 0s 25ms/step - loss: 0.0489 - val_loss: 0.0714\n",
      "Epoch 19/100\n",
      "9/9 [==============================] - 0s 24ms/step - loss: 0.0520 - val_loss: 0.0430\n",
      "Epoch 20/100\n",
      "9/9 [==============================] - 0s 25ms/step - loss: 0.0518 - val_loss: 0.0824\n",
      "Epoch 21/100\n",
      "9/9 [==============================] - 0s 24ms/step - loss: 0.0434 - val_loss: 0.0628\n",
      "Epoch 22/100\n",
      "9/9 [==============================] - 0s 24ms/step - loss: 0.0547 - val_loss: 0.0433\n",
      "Epoch 23/100\n",
      "9/9 [==============================] - 0s 24ms/step - loss: 0.0539 - val_loss: 0.0735\n",
      "Epoch 24/100\n",
      "9/9 [==============================] - 0s 24ms/step - loss: 0.0528 - val_loss: 0.0604\n",
      "Epoch 25/100\n",
      "9/9 [==============================] - 0s 24ms/step - loss: 0.0533 - val_loss: 0.0651\n",
      "Epoch 26/100\n",
      "9/9 [==============================] - 0s 24ms/step - loss: 0.0503 - val_loss: 0.0416\n",
      "Epoch 27/100\n",
      "9/9 [==============================] - 0s 24ms/step - loss: 0.0440 - val_loss: 0.0561\n",
      "Epoch 28/100\n",
      "9/9 [==============================] - 0s 24ms/step - loss: 0.0545 - val_loss: 0.0374\n",
      "Epoch 29/100\n",
      "9/9 [==============================] - 0s 25ms/step - loss: 0.0416 - val_loss: 0.0348\n",
      "Epoch 30/100\n",
      "9/9 [==============================] - 0s 24ms/step - loss: 0.0466 - val_loss: 0.0344\n",
      "Epoch 31/100\n",
      "9/9 [==============================] - 0s 25ms/step - loss: 0.0430 - val_loss: 0.0635\n",
      "Epoch 32/100\n",
      "9/9 [==============================] - 0s 24ms/step - loss: 0.0478 - val_loss: 0.0560\n",
      "Epoch 33/100\n",
      "9/9 [==============================] - 0s 24ms/step - loss: 0.0465 - val_loss: 0.0350\n",
      "Epoch 34/100\n",
      "9/9 [==============================] - 0s 24ms/step - loss: 0.0459 - val_loss: 0.0413\n",
      "Epoch 35/100\n",
      "9/9 [==============================] - 0s 24ms/step - loss: 0.0403 - val_loss: 0.0494\n",
      "Epoch 36/100\n",
      "9/9 [==============================] - 0s 24ms/step - loss: 0.0491 - val_loss: 0.0402\n",
      "Epoch 37/100\n",
      "9/9 [==============================] - 0s 24ms/step - loss: 0.0432 - val_loss: 0.0597\n",
      "Epoch 38/100\n",
      "9/9 [==============================] - 0s 24ms/step - loss: 0.0455 - val_loss: 0.0574\n",
      "Epoch 39/100\n",
      "9/9 [==============================] - 0s 24ms/step - loss: 0.0429 - val_loss: 0.0325\n",
      "Epoch 40/100\n",
      "9/9 [==============================] - 0s 24ms/step - loss: 0.0447 - val_loss: 0.0691\n",
      "Epoch 41/100\n",
      "9/9 [==============================] - 0s 24ms/step - loss: 0.0454 - val_loss: 0.0427\n",
      "Epoch 42/100\n",
      "9/9 [==============================] - 0s 25ms/step - loss: 0.0418 - val_loss: 0.0671\n",
      "Epoch 43/100\n",
      "9/9 [==============================] - 0s 42ms/step - loss: 0.0425 - val_loss: 0.0485\n",
      "Epoch 44/100\n",
      "9/9 [==============================] - 0s 25ms/step - loss: 0.0471 - val_loss: 0.0335\n",
      "Epoch 45/100\n",
      "9/9 [==============================] - 0s 33ms/step - loss: 0.0428 - val_loss: 0.0320\n",
      "Epoch 46/100\n",
      "9/9 [==============================] - 0s 27ms/step - loss: 0.0398 - val_loss: 0.0617\n",
      "Epoch 47/100\n",
      "9/9 [==============================] - 0s 26ms/step - loss: 0.0447 - val_loss: 0.0320\n",
      "Epoch 48/100\n",
      "9/9 [==============================] - 0s 28ms/step - loss: 0.0369 - val_loss: 0.0611\n",
      "Epoch 49/100\n",
      "9/9 [==============================] - 0s 25ms/step - loss: 0.0412 - val_loss: 0.0409\n",
      "Epoch 50/100\n",
      "9/9 [==============================] - 0s 34ms/step - loss: 0.0424 - val_loss: 0.0714\n",
      "Epoch 51/100\n",
      "9/9 [==============================] - 0s 26ms/step - loss: 0.0429 - val_loss: 0.0584\n",
      "Epoch 52/100\n",
      "9/9 [==============================] - 0s 24ms/step - loss: 0.0370 - val_loss: 0.0324\n",
      "Epoch 53/100\n",
      "9/9 [==============================] - 0s 24ms/step - loss: 0.0387 - val_loss: 0.0629\n",
      "Epoch 54/100\n",
      "9/9 [==============================] - 0s 24ms/step - loss: 0.0435 - val_loss: 0.0356\n",
      "Epoch 55/100\n",
      "9/9 [==============================] - 0s 24ms/step - loss: 0.0385 - val_loss: 0.0756\n",
      "Epoch 56/100\n",
      "9/9 [==============================] - 0s 24ms/step - loss: 0.0427 - val_loss: 0.0344\n",
      "Epoch 57/100\n",
      "9/9 [==============================] - 0s 32ms/step - loss: 0.0390 - val_loss: 0.0746\n",
      "Epoch 58/100\n",
      "9/9 [==============================] - 0s 24ms/step - loss: 0.0377 - val_loss: 0.0384\n",
      "Epoch 59/100\n",
      "9/9 [==============================] - 0s 25ms/step - loss: 0.0383 - val_loss: 0.0783\n",
      "Epoch 60/100\n",
      "9/9 [==============================] - 0s 25ms/step - loss: 0.0435 - val_loss: 0.0319\n",
      "Epoch 61/100\n",
      "9/9 [==============================] - 0s 30ms/step - loss: 0.0409 - val_loss: 0.0626\n",
      "Epoch 62/100\n",
      "9/9 [==============================] - 0s 24ms/step - loss: 0.0380 - val_loss: 0.0711\n",
      "Epoch 63/100\n",
      "9/9 [==============================] - 0s 23ms/step - loss: 0.0396 - val_loss: 0.0363\n",
      "Epoch 64/100\n",
      "9/9 [==============================] - 0s 24ms/step - loss: 0.0395 - val_loss: 0.0519\n",
      "Epoch 65/100\n",
      "9/9 [==============================] - 0s 24ms/step - loss: 0.0431 - val_loss: 0.0338\n",
      "Epoch 66/100\n",
      "9/9 [==============================] - 0s 24ms/step - loss: 0.0383 - val_loss: 0.0321\n",
      "Epoch 67/100\n",
      "9/9 [==============================] - 0s 24ms/step - loss: 0.0358 - val_loss: 0.0306\n",
      "Epoch 68/100\n",
      "9/9 [==============================] - 0s 25ms/step - loss: 0.0363 - val_loss: 0.0691\n",
      "Epoch 69/100\n",
      "9/9 [==============================] - 0s 30ms/step - loss: 0.0402 - val_loss: 0.0421\n",
      "Epoch 70/100\n",
      "9/9 [==============================] - 0s 24ms/step - loss: 0.0362 - val_loss: 0.0410\n",
      "Epoch 71/100\n",
      "9/9 [==============================] - 0s 24ms/step - loss: 0.0351 - val_loss: 0.0418\n",
      "Epoch 72/100\n",
      "9/9 [==============================] - 0s 25ms/step - loss: 0.0374 - val_loss: 0.0325\n",
      "Epoch 73/100\n",
      "9/9 [==============================] - 0s 25ms/step - loss: 0.0333 - val_loss: 0.0626\n",
      "Epoch 74/100\n",
      "9/9 [==============================] - 0s 24ms/step - loss: 0.0402 - val_loss: 0.0372\n",
      "Epoch 75/100\n",
      "9/9 [==============================] - 0s 23ms/step - loss: 0.0377 - val_loss: 0.0311\n",
      "Epoch 76/100\n",
      "9/9 [==============================] - 0s 23ms/step - loss: 0.0371 - val_loss: 0.0578\n",
      "Epoch 77/100\n",
      "9/9 [==============================] - 0s 23ms/step - loss: 0.0344 - val_loss: 0.0274\n",
      "Epoch 78/100\n",
      "9/9 [==============================] - 0s 23ms/step - loss: 0.0352 - val_loss: 0.0335\n",
      "Epoch 79/100\n",
      "9/9 [==============================] - 0s 23ms/step - loss: 0.0366 - val_loss: 0.0576\n",
      "Epoch 80/100\n",
      "9/9 [==============================] - 0s 25ms/step - loss: 0.0337 - val_loss: 0.0412\n",
      "Epoch 81/100\n",
      "9/9 [==============================] - 0s 30ms/step - loss: 0.0377 - val_loss: 0.0298\n",
      "Epoch 82/100\n",
      "9/9 [==============================] - 0s 27ms/step - loss: 0.0339 - val_loss: 0.0285\n",
      "Epoch 83/100\n",
      "9/9 [==============================] - 0s 25ms/step - loss: 0.0352 - val_loss: 0.0476\n",
      "Epoch 84/100\n",
      "9/9 [==============================] - 0s 24ms/step - loss: 0.0332 - val_loss: 0.0322\n",
      "Epoch 85/100\n",
      "9/9 [==============================] - 0s 28ms/step - loss: 0.0304 - val_loss: 0.0336\n",
      "Epoch 86/100\n",
      "9/9 [==============================] - 0s 28ms/step - loss: 0.0375 - val_loss: 0.0378\n",
      "Epoch 87/100\n",
      "9/9 [==============================] - 0s 28ms/step - loss: 0.0364 - val_loss: 0.0354\n",
      "Epoch 88/100\n",
      "9/9 [==============================] - 0s 29ms/step - loss: 0.0324 - val_loss: 0.0427\n",
      "Epoch 89/100\n",
      "9/9 [==============================] - 0s 31ms/step - loss: 0.0387 - val_loss: 0.0469\n",
      "Epoch 90/100\n",
      "9/9 [==============================] - 0s 26ms/step - loss: 0.0309 - val_loss: 0.0523\n",
      "Epoch 91/100\n",
      "9/9 [==============================] - 0s 27ms/step - loss: 0.0391 - val_loss: 0.0502\n",
      "Epoch 92/100\n",
      "9/9 [==============================] - 0s 27ms/step - loss: 0.0307 - val_loss: 0.0322\n",
      "Epoch 93/100\n",
      "9/9 [==============================] - 0s 27ms/step - loss: 0.0316 - val_loss: 0.0519\n",
      "Epoch 94/100\n",
      "9/9 [==============================] - 0s 24ms/step - loss: 0.0345 - val_loss: 0.0302\n",
      "Epoch 95/100\n",
      "9/9 [==============================] - 0s 25ms/step - loss: 0.0342 - val_loss: 0.0457\n",
      "Epoch 96/100\n",
      "9/9 [==============================] - 0s 25ms/step - loss: 0.0344 - val_loss: 0.0354\n",
      "Epoch 97/100\n",
      "9/9 [==============================] - 0s 31ms/step - loss: 0.0313 - val_loss: 0.0382\n",
      "Epoch 98/100\n",
      "9/9 [==============================] - 0s 25ms/step - loss: 0.0365 - val_loss: 0.0360\n",
      "Epoch 99/100\n",
      "9/9 [==============================] - 0s 25ms/step - loss: 0.0349 - val_loss: 0.0490\n",
      "Epoch 100/100\n",
      "9/9 [==============================] - 0s 28ms/step - loss: 0.0359 - val_loss: 0.0280\n"
     ]
    }
   ],
   "source": [
    "lstm_model = Sequential()\n",
    "    #lstm_model.add(LSTM(i, return_sequences=False, input_shape=(hist_window,3,)))\n",
    "lstm_model.add(LSTM(128, return_sequences=False, input_shape=(scaled_train_samples.shape[1],scaled_train_samples.shape[2])))\n",
    "    #lstm_model.add(LSTM(i, return_sequences=False, input_shape=(hist_window,2,)))\n",
    "    #lstm_model.add(Dense(units=i, activation='tanh'))\n",
    "lstm_model.add(Dense(units=128, activation='tanh'))\n",
    "    #lstm_model.add(Dropout(0.5))\n",
    "    \n",
    "attention = layers.Attention()([lstm_model.output, lstm_model.output])\n",
    "attended_output = layers.Dense(128, activation='tanh')(attention)\n",
    "attended_output = layers.BatchNormalization(epsilon=0.0001)(attended_output)\n",
    "    \n",
    "lstm_model.add(Dense(units=128, activation='tanh'))\n",
    "lstm_model.add(Dense(1, activation='linear'))\n",
    "lstm_model.compile(optimizer='rmsprop', loss='mae')\n",
    "lstm_model.summary()\n",
    "model_path = 'Bidirectional_LSTM_Multivariate.h5'\n",
    "early_stopings = tf.keras.callbacks.EarlyStopping(monitor='val_loss', min_delta=0, patience=10, verbose=1, mode='min')\n",
    "checkpoint =  tf.keras.callbacks.ModelCheckpoint(model_path, monitor='val_loss', save_best_only=True, mode='min', verbose=0)\n",
    "callbacks=[early_stopings,checkpoint]\n",
    "history = lstm_model.fit(scaled_train_samples,scaled_train_labels,epochs=100,verbose=1,validation_data=(scaled_valid_samples, scaled_valid_labels))"
   ]
  },
  {
   "cell_type": "code",
   "execution_count": 65,
   "id": "13757c07",
   "metadata": {},
   "outputs": [
    {
     "name": "stdout",
     "output_type": "stream",
     "text": [
      "1/1 [==============================] - 0s 35ms/step - loss: 0.0959\n"
     ]
    }
   ],
   "source": [
    "results = lstm_model.evaluate(scaled_test_samples, scaled_test_labels, batch_size=128)"
   ]
  },
  {
   "cell_type": "code",
   "execution_count": 66,
   "id": "5b173c00",
   "metadata": {
    "scrolled": false
   },
   "outputs": [
    {
     "name": "stdout",
     "output_type": "stream",
     "text": [
      "3/3 [==============================] - 1s 7ms/step\n"
     ]
    }
   ],
   "source": [
    "prediction = lstm_model.predict(scaled_test_samples)"
   ]
  },
  {
   "cell_type": "code",
   "execution_count": 67,
   "id": "02f321b5",
   "metadata": {},
   "outputs": [],
   "source": [
    "unscale_res = scaler.inverse_transform(prediction)"
   ]
  },
  {
   "cell_type": "code",
   "execution_count": 68,
   "id": "87603547",
   "metadata": {},
   "outputs": [],
   "source": [
    "unboxcox_res = pt_labels.inverse_transform(unscale_res)"
   ]
  },
  {
   "cell_type": "code",
   "execution_count": 69,
   "id": "e5deda22",
   "metadata": {},
   "outputs": [],
   "source": [
    "unscale_labels = scaler.inverse_transform(scaled_test_labels)"
   ]
  },
  {
   "cell_type": "code",
   "execution_count": 70,
   "id": "2675ba00",
   "metadata": {},
   "outputs": [],
   "source": [
    "unboxcox_labels = pt_labels.inverse_transform(unscale_labels.reshape(-1,1))"
   ]
  },
  {
   "cell_type": "code",
   "execution_count": 71,
   "id": "31761620",
   "metadata": {},
   "outputs": [
    {
     "data": {
      "text/plain": [
       "29530.50151984415"
      ]
     },
     "execution_count": 71,
     "metadata": {},
     "output_type": "execute_result"
    }
   ],
   "source": [
    "from sklearn.metrics import mean_squared_error\n",
    "rms = mean_squared_error(unboxcox_labels, unboxcox_res, squared=False)\n",
    "rms"
   ]
  },
  {
   "cell_type": "code",
   "execution_count": null,
   "id": "8a2f23b0",
   "metadata": {},
   "outputs": [],
   "source": []
  },
  {
   "cell_type": "code",
   "execution_count": null,
   "id": "1f0be863",
   "metadata": {},
   "outputs": [],
   "source": []
  }
 ],
 "metadata": {
  "kernelspec": {
   "display_name": "Python 3 (ipykernel)",
   "language": "python",
   "name": "python3"
  },
  "language_info": {
   "codemirror_mode": {
    "name": "ipython",
    "version": 3
   },
   "file_extension": ".py",
   "mimetype": "text/x-python",
   "name": "python",
   "nbconvert_exporter": "python",
   "pygments_lexer": "ipython3",
   "version": "3.9.13"
  }
 },
 "nbformat": 4,
 "nbformat_minor": 5
}
