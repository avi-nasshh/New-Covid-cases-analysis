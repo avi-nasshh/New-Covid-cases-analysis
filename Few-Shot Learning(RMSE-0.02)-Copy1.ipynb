{
 "cells": [
  {
   "cell_type": "code",
   "execution_count": 1,
   "id": "e28e5284",
   "metadata": {},
   "outputs": [],
   "source": [
    "import numpy as np\n",
    "import pandas as pd\n",
    "import matplotlib.pyplot as plt\n",
    "import seaborn as sns\n",
    "%matplotlib inline\n",
    "import sys\n",
    "import random\n",
    "from pprint import pprint"
   ]
  },
  {
   "cell_type": "code",
   "execution_count": 2,
   "id": "ddb4b826",
   "metadata": {},
   "outputs": [],
   "source": [
    "df = pd.read_csv('file2.csv')"
   ]
  },
  {
   "cell_type": "code",
   "execution_count": 3,
   "id": "cd132164",
   "metadata": {},
   "outputs": [],
   "source": [
    "samples = df.drop(columns = {'new_cases'})"
   ]
  },
  {
   "cell_type": "code",
   "execution_count": 4,
   "id": "209a7996",
   "metadata": {},
   "outputs": [],
   "source": [
    "labels = df['new_cases']"
   ]
  },
  {
   "cell_type": "code",
   "execution_count": 5,
   "id": "7fd7c63b",
   "metadata": {},
   "outputs": [],
   "source": [
    "from sklearn.model_selection import train_test_split"
   ]
  },
  {
   "cell_type": "code",
   "execution_count": 6,
   "id": "433504fe",
   "metadata": {},
   "outputs": [],
   "source": [
    "train_samples, valid_samples, train_labels, valid_labels = train_test_split(samples, labels, test_size=0.2)"
   ]
  },
  {
   "cell_type": "code",
   "execution_count": 7,
   "id": "7dc7b1d5",
   "metadata": {},
   "outputs": [],
   "source": [
    "train_samples, test_samples, train_labels, test_labels = train_test_split(train_samples, train_labels, test_size=0.2)"
   ]
  },
  {
   "cell_type": "code",
   "execution_count": 8,
   "id": "528b7edc",
   "metadata": {},
   "outputs": [],
   "source": [
    "# train = pd.concat((train_samples,train_labels), axis = 1)\n",
    "# test = pd.concat((test_samples, test_labels), axis = 1)\n",
    "# valid = pd.concat((valid_samples, valid_labels), axis = 1)"
   ]
  },
  {
   "cell_type": "code",
   "execution_count": 9,
   "id": "71e621db",
   "metadata": {},
   "outputs": [],
   "source": [
    "# train.to_csv('train.csv',index=False)\n",
    "# test.to_csv('test.csv',index=False)\n",
    "# valid.to_csv('valid.csv',index=False)"
   ]
  },
  {
   "cell_type": "code",
   "execution_count": 10,
   "id": "faa2f6a6",
   "metadata": {},
   "outputs": [],
   "source": [
    "# train = pd.read_csv('train.csv')"
   ]
  },
  {
   "cell_type": "code",
   "execution_count": 11,
   "id": "c19b716a",
   "metadata": {},
   "outputs": [],
   "source": [
    "# columns = train.columns"
   ]
  },
  {
   "cell_type": "code",
   "execution_count": 12,
   "id": "8a25fdd0",
   "metadata": {},
   "outputs": [],
   "source": [
    "from sklearn.preprocessing import StandardScaler\n",
    "# from sklearn import preprocessing"
   ]
  },
  {
   "cell_type": "code",
   "execution_count": 13,
   "id": "cc287466",
   "metadata": {},
   "outputs": [],
   "source": [
    "# stand= StandardScaler()\n",
    "# train = stand.fit_transform(train)\n",
    "# train = pd.DataFrame(train, columns = columns)"
   ]
  },
  {
   "cell_type": "code",
   "execution_count": 14,
   "id": "8e98f0df",
   "metadata": {},
   "outputs": [],
   "source": [
    "# train = preprocessing.normalize(train)\n",
    "# train = pd.DataFrame(train, columns = columns)"
   ]
  },
  {
   "cell_type": "code",
   "execution_count": 15,
   "id": "9bccc151",
   "metadata": {},
   "outputs": [],
   "source": [
    "# train_samples = train.drop(columns = {'new_cases'})\n",
    "# train_labels = train['new_cases']"
   ]
  },
  {
   "cell_type": "code",
   "execution_count": 31,
   "id": "cd07214b",
   "metadata": {},
   "outputs": [
    {
     "data": {
      "text/plain": [
       "(267, 1)"
      ]
     },
     "execution_count": 31,
     "metadata": {},
     "output_type": "execute_result"
    }
   ],
   "source": [
    "train_labels.to_numpy().reshape(-1,1).shape"
   ]
  },
  {
   "cell_type": "code",
   "execution_count": 16,
   "id": "b110c771",
   "metadata": {},
   "outputs": [],
   "source": [
    "scale = StandardScaler()\n",
    "scaled_train_samples = scale.fit_transform(train_samples)\n",
    "scaled_train_labels = scale.fit_transform(train_labels.to_numpy().reshape(-1,1))"
   ]
  },
  {
   "cell_type": "code",
   "execution_count": 17,
   "id": "27d57b0e",
   "metadata": {
    "scrolled": true
   },
   "outputs": [
    {
     "data": {
      "text/html": [
       "<div>\n",
       "<style scoped>\n",
       "    .dataframe tbody tr th:only-of-type {\n",
       "        vertical-align: middle;\n",
       "    }\n",
       "\n",
       "    .dataframe tbody tr th {\n",
       "        vertical-align: top;\n",
       "    }\n",
       "\n",
       "    .dataframe thead th {\n",
       "        text-align: right;\n",
       "    }\n",
       "</style>\n",
       "<table border=\"1\" class=\"dataframe\">\n",
       "  <thead>\n",
       "    <tr style=\"text-align: right;\">\n",
       "      <th></th>\n",
       "      <th>retail_and_recreation</th>\n",
       "      <th>residential</th>\n",
       "      <th>transit_stations</th>\n",
       "      <th>parks</th>\n",
       "      <th>workplaces</th>\n",
       "      <th>total_cases</th>\n",
       "      <th>new_cases_smoothed</th>\n",
       "      <th>total_deaths</th>\n",
       "      <th>new_deaths</th>\n",
       "      <th>new_deaths_smoothed</th>\n",
       "      <th>...</th>\n",
       "      <th>reproduction_rate</th>\n",
       "      <th>new_tests</th>\n",
       "      <th>total_tests</th>\n",
       "      <th>total_tests_per_thousand</th>\n",
       "      <th>new_tests_per_thousand</th>\n",
       "      <th>new_tests_smoothed</th>\n",
       "      <th>new_tests_smoothed_per_thousand</th>\n",
       "      <th>positive_rate</th>\n",
       "      <th>tests_per_case</th>\n",
       "      <th>stringency_index</th>\n",
       "    </tr>\n",
       "  </thead>\n",
       "  <tbody>\n",
       "    <tr>\n",
       "      <th>417</th>\n",
       "      <td>-60.143</td>\n",
       "      <td>23.286</td>\n",
       "      <td>-48.286</td>\n",
       "      <td>-38.000</td>\n",
       "      <td>-43.429</td>\n",
       "      <td>28175044.0</td>\n",
       "      <td>175167.143</td>\n",
       "      <td>331895.0</td>\n",
       "      <td>2795.0</td>\n",
       "      <td>3523.429</td>\n",
       "      <td>...</td>\n",
       "      <td>0.74</td>\n",
       "      <td>1683135.0</td>\n",
       "      <td>344866883.0</td>\n",
       "      <td>249.903</td>\n",
       "      <td>1.220</td>\n",
       "      <td>2047260.0</td>\n",
       "      <td>1.484</td>\n",
       "      <td>0.086</td>\n",
       "      <td>11.7</td>\n",
       "      <td>81.94</td>\n",
       "    </tr>\n",
       "    <tr>\n",
       "      <th>139</th>\n",
       "      <td>-50.857</td>\n",
       "      <td>13.286</td>\n",
       "      <td>-38.714</td>\n",
       "      <td>-52.714</td>\n",
       "      <td>-30.143</td>\n",
       "      <td>2767253.0</td>\n",
       "      <td>62516.429</td>\n",
       "      <td>52888.0</td>\n",
       "      <td>1091.0</td>\n",
       "      <td>971.000</td>\n",
       "      <td>...</td>\n",
       "      <td>1.08</td>\n",
       "      <td>899864.0</td>\n",
       "      <td>30941264.0</td>\n",
       "      <td>22.421</td>\n",
       "      <td>0.652</td>\n",
       "      <td>808488.0</td>\n",
       "      <td>0.586</td>\n",
       "      <td>0.077</td>\n",
       "      <td>12.9</td>\n",
       "      <td>85.65</td>\n",
       "    </tr>\n",
       "    <tr>\n",
       "      <th>56</th>\n",
       "      <td>-71.714</td>\n",
       "      <td>19.429</td>\n",
       "      <td>-48.143</td>\n",
       "      <td>-56.571</td>\n",
       "      <td>-39.857</td>\n",
       "      <td>158086.0</td>\n",
       "      <td>6579.714</td>\n",
       "      <td>4534.0</td>\n",
       "      <td>190.0</td>\n",
       "      <td>157.143</td>\n",
       "      <td>...</td>\n",
       "      <td>1.27</td>\n",
       "      <td>116041.0</td>\n",
       "      <td>3242160.0</td>\n",
       "      <td>2.349</td>\n",
       "      <td>0.084</td>\n",
       "      <td>104253.0</td>\n",
       "      <td>0.076</td>\n",
       "      <td>0.063</td>\n",
       "      <td>15.8</td>\n",
       "      <td>81.94</td>\n",
       "    </tr>\n",
       "    <tr>\n",
       "      <th>11</th>\n",
       "      <td>-76.857</td>\n",
       "      <td>28.000</td>\n",
       "      <td>-71.286</td>\n",
       "      <td>-50.714</td>\n",
       "      <td>-63.143</td>\n",
       "      <td>5916.0</td>\n",
       "      <td>559.714</td>\n",
       "      <td>178.0</td>\n",
       "      <td>28.0</td>\n",
       "      <td>17.143</td>\n",
       "      <td>...</td>\n",
       "      <td>1.91</td>\n",
       "      <td>13904.0</td>\n",
       "      <td>127919.0</td>\n",
       "      <td>0.093</td>\n",
       "      <td>0.010</td>\n",
       "      <td>11906.0</td>\n",
       "      <td>0.009</td>\n",
       "      <td>0.047</td>\n",
       "      <td>21.3</td>\n",
       "      <td>100.00</td>\n",
       "    </tr>\n",
       "    <tr>\n",
       "      <th>262</th>\n",
       "      <td>-28.143</td>\n",
       "      <td>11.714</td>\n",
       "      <td>-9.143</td>\n",
       "      <td>-17.571</td>\n",
       "      <td>-14.571</td>\n",
       "      <td>10075116.0</td>\n",
       "      <td>24135.857</td>\n",
       "      <td>146111.0</td>\n",
       "      <td>301.0</td>\n",
       "      <td>343.143</td>\n",
       "      <td>...</td>\n",
       "      <td>0.86</td>\n",
       "      <td>900134.0</td>\n",
       "      <td>162098329.0</td>\n",
       "      <td>117.462</td>\n",
       "      <td>0.652</td>\n",
       "      <td>1075906.0</td>\n",
       "      <td>0.780</td>\n",
       "      <td>0.022</td>\n",
       "      <td>44.6</td>\n",
       "      <td>68.98</td>\n",
       "    </tr>\n",
       "  </tbody>\n",
       "</table>\n",
       "<p>5 rows × 26 columns</p>\n",
       "</div>"
      ],
      "text/plain": [
       "     retail_and_recreation  residential  transit_stations   parks  workplaces  \\\n",
       "417                -60.143       23.286           -48.286 -38.000     -43.429   \n",
       "139                -50.857       13.286           -38.714 -52.714     -30.143   \n",
       "56                 -71.714       19.429           -48.143 -56.571     -39.857   \n",
       "11                 -76.857       28.000           -71.286 -50.714     -63.143   \n",
       "262                -28.143       11.714            -9.143 -17.571     -14.571   \n",
       "\n",
       "     total_cases  new_cases_smoothed  total_deaths  new_deaths  \\\n",
       "417   28175044.0          175167.143      331895.0      2795.0   \n",
       "139    2767253.0           62516.429       52888.0      1091.0   \n",
       "56      158086.0            6579.714        4534.0       190.0   \n",
       "11        5916.0             559.714         178.0        28.0   \n",
       "262   10075116.0           24135.857      146111.0       301.0   \n",
       "\n",
       "     new_deaths_smoothed  ...  reproduction_rate  new_tests  total_tests  \\\n",
       "417             3523.429  ...               0.74  1683135.0  344866883.0   \n",
       "139              971.000  ...               1.08   899864.0   30941264.0   \n",
       "56               157.143  ...               1.27   116041.0    3242160.0   \n",
       "11                17.143  ...               1.91    13904.0     127919.0   \n",
       "262              343.143  ...               0.86   900134.0  162098329.0   \n",
       "\n",
       "     total_tests_per_thousand  new_tests_per_thousand  new_tests_smoothed  \\\n",
       "417                   249.903                   1.220           2047260.0   \n",
       "139                    22.421                   0.652            808488.0   \n",
       "56                      2.349                   0.084            104253.0   \n",
       "11                      0.093                   0.010             11906.0   \n",
       "262                   117.462                   0.652           1075906.0   \n",
       "\n",
       "     new_tests_smoothed_per_thousand  positive_rate  tests_per_case  \\\n",
       "417                            1.484          0.086            11.7   \n",
       "139                            0.586          0.077            12.9   \n",
       "56                             0.076          0.063            15.8   \n",
       "11                             0.009          0.047            21.3   \n",
       "262                            0.780          0.022            44.6   \n",
       "\n",
       "     stringency_index  \n",
       "417             81.94  \n",
       "139             85.65  \n",
       "56              81.94  \n",
       "11             100.00  \n",
       "262             68.98  \n",
       "\n",
       "[5 rows x 26 columns]"
      ]
     },
     "execution_count": 17,
     "metadata": {},
     "output_type": "execute_result"
    }
   ],
   "source": [
    "train_samples.head()"
   ]
  },
  {
   "cell_type": "code",
   "execution_count": 18,
   "id": "423f7fe8",
   "metadata": {},
   "outputs": [],
   "source": [
    "# pip install tensorflow"
   ]
  },
  {
   "cell_type": "code",
   "execution_count": 19,
   "id": "503d9041",
   "metadata": {},
   "outputs": [],
   "source": [
    "from tensorflow.keras import models, layers\n",
    "import tensorflow as tf"
   ]
  },
  {
   "cell_type": "code",
   "execution_count": 20,
   "id": "5a89ab1f",
   "metadata": {},
   "outputs": [],
   "source": [
    "# Feature Extractor\n",
    "def getFeatureRepresentation(x):\n",
    "    tensors = tf.convert_to_tensor(x, dtype = float)\n",
    "    model = models.Sequential()\n",
    "    model.add(tf.keras.Input(shape=(26,)))\n",
    "    model.add(layers.Dense(60, activation='tanh'))\n",
    "    model.add(layers.Dense(128, activation = 'tanh'))\n",
    "    model.add(layers.Dense(60, activation = 'tanh'))\n",
    "    model.compile()\n",
    "    feature_representation = model.predict(x = tensors)\n",
    "    return feature_representation"
   ]
  },
  {
   "cell_type": "code",
   "execution_count": 21,
   "id": "478a63e0",
   "metadata": {},
   "outputs": [
    {
     "name": "stdout",
     "output_type": "stream",
     "text": [
      "9/9 [==============================] - 0s 3ms/step\n"
     ]
    }
   ],
   "source": [
    "train_feature_repr = getFeatureRepresentation(scaled_train_samples)\n",
    "# val_feature_repr = getFeatureRepresentation(valid_samples)\n",
    "# test_feature_repr = getFeatureRepresentation(test_samples)"
   ]
  },
  {
   "cell_type": "code",
   "execution_count": 22,
   "id": "337f85ea",
   "metadata": {},
   "outputs": [
    {
     "data": {
      "text/plain": [
       "(267, 60)"
      ]
     },
     "execution_count": 22,
     "metadata": {},
     "output_type": "execute_result"
    }
   ],
   "source": [
    "train_feature_repr.shape"
   ]
  },
  {
   "cell_type": "code",
   "execution_count": 29,
   "id": "3c4513b0",
   "metadata": {},
   "outputs": [
    {
     "data": {
      "text/plain": [
       "267"
      ]
     },
     "execution_count": 29,
     "metadata": {},
     "output_type": "execute_result"
    }
   ],
   "source": [
    "scaled_train_labels.size"
   ]
  },
  {
   "cell_type": "code",
   "execution_count": 27,
   "id": "199738ba",
   "metadata": {},
   "outputs": [],
   "source": [
    "#Task Label Generator\n",
    "def taskLabelGenerator(feature_repr, labels):\n",
    "    \n",
    "    labels = np.reshape(labels, (labels.size, 1))\n",
    "    print(labels.shape)\n",
    "    feaRepLabel = np.concatenate((feature_repr, labels), axis = 1)\n",
    "    tensors = tf.convert_to_tensor(feaRepLabel, dtype = float)\n",
    "    \n",
    "    model = models.Sequential()\n",
    "    model.add(tf.keras.Input(shape=(61,)))\n",
    "    model.add(layers.Dense(128))\n",
    "    model.add(layers.Dense(256))\n",
    "    model.add(layers.Dense(128))\n",
    "    model.add(layers.Dense(60))\n",
    "    model.compile()\n",
    "    task_labels = model.predict(x = tensors)\n",
    "    task_label_mean = np.average(task_labels, axis = 0)\n",
    "    print(task_label_mean)\n",
    "    task_label = tf.keras.activations.sigmoid(task_label_mean)\n",
    "    return task_label"
   ]
  },
  {
   "cell_type": "code",
   "execution_count": 28,
   "id": "1d83e271",
   "metadata": {
    "scrolled": true
   },
   "outputs": [
    {
     "name": "stdout",
     "output_type": "stream",
     "text": [
      "(267, 1)\n",
      "9/9 [==============================] - 0s 3ms/step\n",
      "[-0.01992447  0.00496221 -0.03411863  0.01968615 -0.02552442 -0.03774665\n",
      " -0.00500588  0.04772207 -0.07418428 -0.02433455 -0.09111973  0.0239384\n",
      "  0.06868155  0.00821153 -0.03178158 -0.0122079  -0.00541717 -0.02411699\n",
      "  0.00184896 -0.0155035   0.04683812  0.04850907  0.00398424 -0.01815405\n",
      "  0.03367265 -0.02831156 -0.02343228 -0.06194454  0.02375529 -0.05900317\n",
      "  0.04306082  0.03436428 -0.05123675 -0.05312964  0.00736935  0.02023826\n",
      "  0.02515413 -0.01663342 -0.0076221   0.05456482 -0.07881723  0.03946211\n",
      "  0.01341752 -0.04080233 -0.01950396 -0.0249821   0.00436023 -0.05879458\n",
      " -0.00217525 -0.01592738  0.00233761  0.04206393  0.05521156 -0.01710947\n",
      "  0.04669772  0.00851528 -0.00201486 -0.00181215 -0.005932   -0.04350811]\n"
     ]
    }
   ],
   "source": [
    "train_task_label = taskLabelGenerator(train_feature_repr, scaled_train_labels)"
   ]
  },
  {
   "cell_type": "code",
   "execution_count": 26,
   "id": "a6b73ebf",
   "metadata": {},
   "outputs": [
    {
     "data": {
      "text/plain": [
       "<tf.Tensor: shape=(60,), dtype=float32, numpy=\n",
       "array([0.5132062 , 0.5190997 , 0.49908933, 0.50263536, 0.4997008 ,\n",
       "       0.4952689 , 0.47461796, 0.50745904, 0.4860393 , 0.500226  ,\n",
       "       0.4992364 , 0.48719874, 0.48992905, 0.50317234, 0.51177764,\n",
       "       0.5211032 , 0.5204305 , 0.5077482 , 0.50832975, 0.48777062,\n",
       "       0.5117642 , 0.49018914, 0.51840174, 0.5035096 , 0.4956466 ,\n",
       "       0.47401887, 0.5077276 , 0.51462734, 0.4947219 , 0.5014126 ,\n",
       "       0.5114862 , 0.5120846 , 0.5219123 , 0.5004596 , 0.50510406,\n",
       "       0.5160289 , 0.4926571 , 0.508424  , 0.50553614, 0.48473194,\n",
       "       0.5058138 , 0.48695564, 0.47535416, 0.49418333, 0.4986304 ,\n",
       "       0.5106003 , 0.49410033, 0.5067023 , 0.49908113, 0.49115595,\n",
       "       0.49814895, 0.48157182, 0.5121464 , 0.5097366 , 0.50813335,\n",
       "       0.48171026, 0.4892957 , 0.5104917 , 0.49739113, 0.5014418 ],\n",
       "      dtype=float32)>"
      ]
     },
     "execution_count": 26,
     "metadata": {},
     "output_type": "execute_result"
    }
   ],
   "source": [
    "train_task_label"
   ]
  },
  {
   "cell_type": "code",
   "execution_count": 2000,
   "id": "79433b2c",
   "metadata": {},
   "outputs": [
    {
     "data": {
      "text/plain": [
       "TensorShape([60])"
      ]
     },
     "execution_count": 2000,
     "metadata": {},
     "output_type": "execute_result"
    }
   ],
   "source": [
    "train_task_label.shape"
   ]
  },
  {
   "cell_type": "code",
   "execution_count": 2001,
   "id": "504843ac",
   "metadata": {},
   "outputs": [],
   "source": [
    "#Weights Generator\n",
    "def weightsGenerator(feature_repr, labels, task_label):\n",
    "    \n",
    "    labels = np.reshape(labels, (labels.size, 1))\n",
    "    \n",
    "    task_label = np.reshape(task_label, (1,60))\n",
    "    task_label = np.tile(task_label, (labels.size, 1))\n",
    "    \n",
    "    feaRepLabelTaskLabel = np.concatenate((feature_repr, labels, task_label), axis = 1)\n",
    "    tensor = tf.convert_to_tensor(feaRepLabelTaskLabel, dtype = float)\n",
    "    \n",
    "    model = models.Sequential()\n",
    "    model.add(tf.keras.Input(shape=(121,)))\n",
    "    model.add(layers.Dense(128, activation = 'tanh'))\n",
    "#     model.add(layers.Dense(420, activation = 'tanh'))\n",
    "#     model.add(layers.Dense(526, activation = 'tanh'))\n",
    "#     model.add(layers.Dense(1024, activation = 'tanh'))\n",
    "#     model.add(layers.Dense(1024, activation = 'tanh')) \n",
    "#     model.add(layers.Dense(526, activation = 'tanh'))\n",
    "#     model.add(layers.Dense(420, activation = 'tanh'))\n",
    "    model.add(layers.Dense(128, activation = 'tanh'))\n",
    "    model.add(layers.Dense(60, activation = 'tanh'))\n",
    "    model.compile()\n",
    "    weights = model.predict(x = tensor)\n",
    "    weight_mean = np.average(weights, axis = 0)\n",
    "    return weight_mean"
   ]
  },
  {
   "cell_type": "code",
   "execution_count": 2002,
   "id": "11602b6e",
   "metadata": {},
   "outputs": [
    {
     "name": "stdout",
     "output_type": "stream",
     "text": [
      "9/9 [==============================] - 0s 2ms/step\n"
     ]
    }
   ],
   "source": [
    "weights = weightsGenerator(train_feature_repr, scaled_train_labels, train_task_label)"
   ]
  },
  {
   "cell_type": "code",
   "execution_count": 2003,
   "id": "bd0081ad",
   "metadata": {},
   "outputs": [],
   "source": [
    "result = np.dot(train_feature_repr, weights)"
   ]
  },
  {
   "cell_type": "code",
   "execution_count": 2004,
   "id": "2be30881",
   "metadata": {},
   "outputs": [],
   "source": [
    "unscale_res = scale.inverse_transform(result.reshape(-1,1))"
   ]
  },
  {
   "cell_type": "code",
   "execution_count": 2005,
   "id": "b5d54161",
   "metadata": {},
   "outputs": [],
   "source": [
    "unscale_labels = scale.inverse_transform(scaled_train_labels)"
   ]
  },
  {
   "cell_type": "code",
   "execution_count": 2006,
   "id": "33aa3039",
   "metadata": {},
   "outputs": [],
   "source": [
    "from sklearn.metrics import mean_squared_error"
   ]
  },
  {
   "cell_type": "code",
   "execution_count": 2007,
   "id": "7611f029",
   "metadata": {},
   "outputs": [
    {
     "data": {
      "text/plain": [
       "104226.75294943272"
      ]
     },
     "execution_count": 2007,
     "metadata": {},
     "output_type": "execute_result"
    }
   ],
   "source": [
    "rms = mean_squared_error(unscale_labels, unscale_res, squared=False)\n",
    "rms"
   ]
  },
  {
   "cell_type": "markdown",
   "id": "8d72c9da",
   "metadata": {},
   "source": [
    "Adding Self Attention Block"
   ]
  },
  {
   "cell_type": "code",
   "execution_count": 1862,
   "id": "50e6eef8",
   "metadata": {},
   "outputs": [
    {
     "name": "stdout",
     "output_type": "stream",
     "text": [
      "Requirement already satisfied: keras_self_attention in c:\\programdata\\anaconda3\\lib\\site-packages (0.51.0)\n",
      "Requirement already satisfied: numpy in c:\\programdata\\anaconda3\\lib\\site-packages (from keras_self_attention) (1.23.5)\n",
      "Note: you may need to restart the kernel to use updated packages.\n"
     ]
    }
   ],
   "source": [
    "pip install keras_self_attention"
   ]
  },
  {
   "cell_type": "code",
   "execution_count": 1863,
   "id": "6b650d14",
   "metadata": {},
   "outputs": [],
   "source": [
    "import keras\n",
    "from keras_self_attention import SeqSelfAttention"
   ]
  },
  {
   "cell_type": "code",
   "execution_count": 1864,
   "id": "fe604058",
   "metadata": {},
   "outputs": [],
   "source": [
    "def selfAttentionBlock(model, embedding, residual_connection):\n",
    "    model.add(SeqSelfAttention(attention_activation = 'sigmoid'))\n",
    "    model.add(layers.Dense(128, activation = 'relu'))\n",
    "    model.add(layers.Dense(64))\n",
    "    output = model.add(layers.LayerNormalization(axis=1))\n",
    "    model.layers.Add()([embedding, output])\n",
    "    model.compile()\n",
    "    output = model.predict(embedding)\n",
    "    return output"
   ]
  },
  {
   "cell_type": "code",
   "execution_count": 1865,
   "id": "061064e4",
   "metadata": {},
   "outputs": [],
   "source": [
    "#Task Label Generator\n",
    "def taskLabelGenerator(feature_repr, labels):\n",
    "    \n",
    "    labels = labels.to_numpy()\n",
    "    labels = np.reshape(labels, (labels.size, 1))\n",
    "    \n",
    "    feaRepLabel = np.concatenate((feature_repr, labels), axis = 1)\n",
    "    tensor = tf.convert_to_tensor(feaRepLabel, dtype = float)\n",
    "    \n",
    "    model = models.Sequential()\n",
    "    \n",
    "    #First Layer\n",
    "    model.add(tf.keras.Input(shape=(41,)))\n",
    "    \n",
    "    #Second Layer\n",
    "    embedding = model.add(layers.Dense(64))\n",
    "    \n",
    "    #First Self-Attention Block\n",
    "    tensor = selfAttentionBlock(model, embedding, embedding)\n",
    "    \n",
    "    #Second Self-Attention Block\n",
    "    tensor = selfAttentionBlock(model, tensor, embedding)\n",
    "    \n",
    "    #Third Self-Attention Block\n",
    "    tensor = selfAttentionBlock(model, tensor, embedding)\n",
    "    \n",
    "    #Final Layer\n",
    "    model.add(layer.Dense(40))\n",
    "    \n",
    "    model.compile()\n",
    "    task_labels = model.predict(x = tensor)\n",
    "    \n",
    "    #Taking mean of all task labels\n",
    "    task_label_mean = np.average(task_labels, axis = 0)\n",
    "    \n",
    "    #Applying Softmax\n",
    "    layer = layers.Softmax()\n",
    "    task_label = layer(task_label_mean).numpy()\n",
    "    return task_label"
   ]
  },
  {
   "cell_type": "code",
   "execution_count": 1866,
   "id": "c37fa054",
   "metadata": {},
   "outputs": [
    {
     "ename": "IndexError",
     "evalue": "tuple index out of range",
     "output_type": "error",
     "traceback": [
      "\u001b[1;31m---------------------------------------------------------------------------\u001b[0m",
      "\u001b[1;31mIndexError\u001b[0m                                Traceback (most recent call last)",
      "\u001b[1;32m~\\AppData\\Local\\Temp\\ipykernel_11844\\1998495473.py\u001b[0m in \u001b[0;36m<module>\u001b[1;34m\u001b[0m\n\u001b[1;32m----> 1\u001b[1;33m \u001b[0mtrain_task_label\u001b[0m \u001b[1;33m=\u001b[0m \u001b[0mtaskLabelGenerator\u001b[0m\u001b[1;33m(\u001b[0m\u001b[0mtrain_feature_repr\u001b[0m\u001b[1;33m,\u001b[0m \u001b[0mtrain_labels\u001b[0m\u001b[1;33m)\u001b[0m\u001b[1;33m\u001b[0m\u001b[1;33m\u001b[0m\u001b[0m\n\u001b[0m",
      "\u001b[1;32m~\\AppData\\Local\\Temp\\ipykernel_11844\\396945333.py\u001b[0m in \u001b[0;36mtaskLabelGenerator\u001b[1;34m(feature_repr, labels)\u001b[0m\n\u001b[0;32m     17\u001b[0m \u001b[1;33m\u001b[0m\u001b[0m\n\u001b[0;32m     18\u001b[0m     \u001b[1;31m#First Self-Attention Block\u001b[0m\u001b[1;33m\u001b[0m\u001b[1;33m\u001b[0m\u001b[0m\n\u001b[1;32m---> 19\u001b[1;33m     \u001b[0mtensor\u001b[0m \u001b[1;33m=\u001b[0m \u001b[0mselfAttentionBlock\u001b[0m\u001b[1;33m(\u001b[0m\u001b[0mmodel\u001b[0m\u001b[1;33m,\u001b[0m \u001b[0membedding\u001b[0m\u001b[1;33m,\u001b[0m \u001b[0membedding\u001b[0m\u001b[1;33m)\u001b[0m\u001b[1;33m\u001b[0m\u001b[1;33m\u001b[0m\u001b[0m\n\u001b[0m\u001b[0;32m     20\u001b[0m \u001b[1;33m\u001b[0m\u001b[0m\n\u001b[0;32m     21\u001b[0m     \u001b[1;31m#Second Self-Attention Block\u001b[0m\u001b[1;33m\u001b[0m\u001b[1;33m\u001b[0m\u001b[0m\n",
      "\u001b[1;32m~\\AppData\\Local\\Temp\\ipykernel_11844\\3737324142.py\u001b[0m in \u001b[0;36mselfAttentionBlock\u001b[1;34m(model, embedding, residual_connection)\u001b[0m\n\u001b[0;32m      1\u001b[0m \u001b[1;32mdef\u001b[0m \u001b[0mselfAttentionBlock\u001b[0m\u001b[1;33m(\u001b[0m\u001b[0mmodel\u001b[0m\u001b[1;33m,\u001b[0m \u001b[0membedding\u001b[0m\u001b[1;33m,\u001b[0m \u001b[0mresidual_connection\u001b[0m\u001b[1;33m)\u001b[0m\u001b[1;33m:\u001b[0m\u001b[1;33m\u001b[0m\u001b[1;33m\u001b[0m\u001b[0m\n\u001b[1;32m----> 2\u001b[1;33m     \u001b[0mmodel\u001b[0m\u001b[1;33m.\u001b[0m\u001b[0madd\u001b[0m\u001b[1;33m(\u001b[0m\u001b[0mSeqSelfAttention\u001b[0m\u001b[1;33m(\u001b[0m\u001b[0mattention_activation\u001b[0m \u001b[1;33m=\u001b[0m \u001b[1;34m'sigmoid'\u001b[0m\u001b[1;33m)\u001b[0m\u001b[1;33m)\u001b[0m\u001b[1;33m\u001b[0m\u001b[1;33m\u001b[0m\u001b[0m\n\u001b[0m\u001b[0;32m      3\u001b[0m     \u001b[0mmodel\u001b[0m\u001b[1;33m.\u001b[0m\u001b[0madd\u001b[0m\u001b[1;33m(\u001b[0m\u001b[0mlayers\u001b[0m\u001b[1;33m.\u001b[0m\u001b[0mDense\u001b[0m\u001b[1;33m(\u001b[0m\u001b[1;36m128\u001b[0m\u001b[1;33m,\u001b[0m \u001b[0mactivation\u001b[0m \u001b[1;33m=\u001b[0m \u001b[1;34m'relu'\u001b[0m\u001b[1;33m)\u001b[0m\u001b[1;33m)\u001b[0m\u001b[1;33m\u001b[0m\u001b[1;33m\u001b[0m\u001b[0m\n\u001b[0;32m      4\u001b[0m     \u001b[0mmodel\u001b[0m\u001b[1;33m.\u001b[0m\u001b[0madd\u001b[0m\u001b[1;33m(\u001b[0m\u001b[0mlayers\u001b[0m\u001b[1;33m.\u001b[0m\u001b[0mDense\u001b[0m\u001b[1;33m(\u001b[0m\u001b[1;36m64\u001b[0m\u001b[1;33m)\u001b[0m\u001b[1;33m)\u001b[0m\u001b[1;33m\u001b[0m\u001b[1;33m\u001b[0m\u001b[0m\n\u001b[0;32m      5\u001b[0m     \u001b[0moutput\u001b[0m \u001b[1;33m=\u001b[0m \u001b[0mmodel\u001b[0m\u001b[1;33m.\u001b[0m\u001b[0madd\u001b[0m\u001b[1;33m(\u001b[0m\u001b[0mlayers\u001b[0m\u001b[1;33m.\u001b[0m\u001b[0mLayerNormalization\u001b[0m\u001b[1;33m(\u001b[0m\u001b[0maxis\u001b[0m\u001b[1;33m=\u001b[0m\u001b[1;36m1\u001b[0m\u001b[1;33m)\u001b[0m\u001b[1;33m)\u001b[0m\u001b[1;33m\u001b[0m\u001b[1;33m\u001b[0m\u001b[0m\n",
      "\u001b[1;32mC:\\ProgramData\\Anaconda3\\lib\\site-packages\\tensorflow\\python\\trackable\\base.py\u001b[0m in \u001b[0;36m_method_wrapper\u001b[1;34m(self, *args, **kwargs)\u001b[0m\n\u001b[0;32m    203\u001b[0m     \u001b[0mself\u001b[0m\u001b[1;33m.\u001b[0m\u001b[0m_self_setattr_tracking\u001b[0m \u001b[1;33m=\u001b[0m \u001b[1;32mFalse\u001b[0m  \u001b[1;31m# pylint: disable=protected-access\u001b[0m\u001b[1;33m\u001b[0m\u001b[1;33m\u001b[0m\u001b[0m\n\u001b[0;32m    204\u001b[0m     \u001b[1;32mtry\u001b[0m\u001b[1;33m:\u001b[0m\u001b[1;33m\u001b[0m\u001b[1;33m\u001b[0m\u001b[0m\n\u001b[1;32m--> 205\u001b[1;33m       \u001b[0mresult\u001b[0m \u001b[1;33m=\u001b[0m \u001b[0mmethod\u001b[0m\u001b[1;33m(\u001b[0m\u001b[0mself\u001b[0m\u001b[1;33m,\u001b[0m \u001b[1;33m*\u001b[0m\u001b[0margs\u001b[0m\u001b[1;33m,\u001b[0m \u001b[1;33m**\u001b[0m\u001b[0mkwargs\u001b[0m\u001b[1;33m)\u001b[0m\u001b[1;33m\u001b[0m\u001b[1;33m\u001b[0m\u001b[0m\n\u001b[0m\u001b[0;32m    206\u001b[0m     \u001b[1;32mfinally\u001b[0m\u001b[1;33m:\u001b[0m\u001b[1;33m\u001b[0m\u001b[1;33m\u001b[0m\u001b[0m\n\u001b[0;32m    207\u001b[0m       \u001b[0mself\u001b[0m\u001b[1;33m.\u001b[0m\u001b[0m_self_setattr_tracking\u001b[0m \u001b[1;33m=\u001b[0m \u001b[0mprevious_value\u001b[0m  \u001b[1;31m# pylint: disable=protected-access\u001b[0m\u001b[1;33m\u001b[0m\u001b[1;33m\u001b[0m\u001b[0m\n",
      "\u001b[1;32mC:\\ProgramData\\Anaconda3\\lib\\site-packages\\keras\\utils\\traceback_utils.py\u001b[0m in \u001b[0;36merror_handler\u001b[1;34m(*args, **kwargs)\u001b[0m\n\u001b[0;32m     68\u001b[0m             \u001b[1;31m# To get the full stack trace, call:\u001b[0m\u001b[1;33m\u001b[0m\u001b[1;33m\u001b[0m\u001b[0m\n\u001b[0;32m     69\u001b[0m             \u001b[1;31m# `tf.debugging.disable_traceback_filtering()`\u001b[0m\u001b[1;33m\u001b[0m\u001b[1;33m\u001b[0m\u001b[0m\n\u001b[1;32m---> 70\u001b[1;33m             \u001b[1;32mraise\u001b[0m \u001b[0me\u001b[0m\u001b[1;33m.\u001b[0m\u001b[0mwith_traceback\u001b[0m\u001b[1;33m(\u001b[0m\u001b[0mfiltered_tb\u001b[0m\u001b[1;33m)\u001b[0m \u001b[1;32mfrom\u001b[0m \u001b[1;32mNone\u001b[0m\u001b[1;33m\u001b[0m\u001b[1;33m\u001b[0m\u001b[0m\n\u001b[0m\u001b[0;32m     71\u001b[0m         \u001b[1;32mfinally\u001b[0m\u001b[1;33m:\u001b[0m\u001b[1;33m\u001b[0m\u001b[1;33m\u001b[0m\u001b[0m\n\u001b[0;32m     72\u001b[0m             \u001b[1;32mdel\u001b[0m \u001b[0mfiltered_tb\u001b[0m\u001b[1;33m\u001b[0m\u001b[1;33m\u001b[0m\u001b[0m\n",
      "\u001b[1;32mC:\\ProgramData\\Anaconda3\\lib\\site-packages\\tensorflow\\python\\framework\\tensor_shape.py\u001b[0m in \u001b[0;36m__getitem__\u001b[1;34m(self, key)\u001b[0m\n\u001b[0;32m    955\u001b[0m       \u001b[1;32melse\u001b[0m\u001b[1;33m:\u001b[0m\u001b[1;33m\u001b[0m\u001b[1;33m\u001b[0m\u001b[0m\n\u001b[0;32m    956\u001b[0m         \u001b[1;32mif\u001b[0m \u001b[0mself\u001b[0m\u001b[1;33m.\u001b[0m\u001b[0m_v2_behavior\u001b[0m\u001b[1;33m:\u001b[0m\u001b[1;33m\u001b[0m\u001b[1;33m\u001b[0m\u001b[0m\n\u001b[1;32m--> 957\u001b[1;33m           \u001b[1;32mreturn\u001b[0m \u001b[0mself\u001b[0m\u001b[1;33m.\u001b[0m\u001b[0m_dims\u001b[0m\u001b[1;33m[\u001b[0m\u001b[0mkey\u001b[0m\u001b[1;33m]\u001b[0m\u001b[1;33m\u001b[0m\u001b[1;33m\u001b[0m\u001b[0m\n\u001b[0m\u001b[0;32m    958\u001b[0m         \u001b[1;32melse\u001b[0m\u001b[1;33m:\u001b[0m\u001b[1;33m\u001b[0m\u001b[1;33m\u001b[0m\u001b[0m\n\u001b[0;32m    959\u001b[0m           \u001b[1;32mreturn\u001b[0m \u001b[0mself\u001b[0m\u001b[1;33m.\u001b[0m\u001b[0mdims\u001b[0m\u001b[1;33m[\u001b[0m\u001b[0mkey\u001b[0m\u001b[1;33m]\u001b[0m\u001b[1;33m\u001b[0m\u001b[1;33m\u001b[0m\u001b[0m\n",
      "\u001b[1;31mIndexError\u001b[0m: tuple index out of range"
     ]
    }
   ],
   "source": [
    "train_task_label = taskLabelGenerator(train_feature_repr, train_labels)"
   ]
  },
  {
   "cell_type": "code",
   "execution_count": null,
   "id": "9bda4285",
   "metadata": {},
   "outputs": [],
   "source": []
  },
  {
   "cell_type": "code",
   "execution_count": null,
   "id": "0e13e696",
   "metadata": {},
   "outputs": [],
   "source": [
    "#Weights Generator\n",
    "def weightsGenerator(feature_repr, labels, task_label):\n",
    "    \n",
    "    labels = labels.to_numpy()\n",
    "    labels = np.reshape(labels, (labels.size, 1))\n",
    "    \n",
    "    task_label = np.reshape(task_label, (1,40))\n",
    "    task_label = np.tile(task_label, (labels.size, 1))\n",
    "    \n",
    "    feaRepLabelTaskLabel = np.concatenate((feature_repr, labels, task_label), axis = 1)\n",
    "    tensor = tf.convert_to_tensor(feaRepLabelTaskLabel, dtype = float)\n",
    "    \n",
    "    model = models.Sequential()\n",
    "    \n",
    "    #First Layer\n",
    "    model.add(tf.keras.Input(shape=(81,)))\n",
    "    \n",
    "    #Second Layer\n",
    "    embedding = model.add(layers.Dense(64))\n",
    "    \n",
    "    #First Self-Attention Block\n",
    "    tensor = selfAttentionBlock(embedding, embedding)\n",
    "    \n",
    "    #Second Self-Attention Block\n",
    "    tensor = selfAttentionBlock(tensor, embedding)\n",
    "    \n",
    "    #Third Self-Attention Block\n",
    "    tensor = selfAttentionBlock(tensor, embedding)\n",
    "    \n",
    "    #Final Layer\n",
    "    model.add(layers.Dense(40))\n",
    "    \n",
    "    model.compile()\n",
    "    weights = model.predict(x = tensor)\n",
    "    \n",
    "    #Taking mean of all the weights\n",
    "    weight_mean = np.average(weights, axis = 0)\n",
    "    return weight_mean"
   ]
  },
  {
   "cell_type": "code",
   "execution_count": null,
   "id": "6f3885ca",
   "metadata": {},
   "outputs": [],
   "source": []
  },
  {
   "cell_type": "code",
   "execution_count": null,
   "id": "c339ded3",
   "metadata": {},
   "outputs": [],
   "source": []
  },
  {
   "cell_type": "code",
   "execution_count": null,
   "id": "552b6ac8",
   "metadata": {},
   "outputs": [],
   "source": []
  },
  {
   "cell_type": "code",
   "execution_count": null,
   "id": "ef7a23de",
   "metadata": {},
   "outputs": [],
   "source": []
  },
  {
   "cell_type": "code",
   "execution_count": null,
   "id": "2e90d0f4",
   "metadata": {},
   "outputs": [],
   "source": []
  },
  {
   "cell_type": "code",
   "execution_count": null,
   "id": "be2e44a0",
   "metadata": {},
   "outputs": [],
   "source": []
  },
  {
   "cell_type": "code",
   "execution_count": null,
   "id": "b59316a9",
   "metadata": {},
   "outputs": [],
   "source": []
  },
  {
   "cell_type": "code",
   "execution_count": null,
   "id": "fad7c9c2",
   "metadata": {},
   "outputs": [],
   "source": []
  },
  {
   "cell_type": "code",
   "execution_count": null,
   "id": "5a6100b7",
   "metadata": {},
   "outputs": [],
   "source": []
  }
 ],
 "metadata": {
  "kernelspec": {
   "display_name": "Python 3 (ipykernel)",
   "language": "python",
   "name": "python3"
  },
  "language_info": {
   "codemirror_mode": {
    "name": "ipython",
    "version": 3
   },
   "file_extension": ".py",
   "mimetype": "text/x-python",
   "name": "python",
   "nbconvert_exporter": "python",
   "pygments_lexer": "ipython3",
   "version": "3.9.13"
  }
 },
 "nbformat": 4,
 "nbformat_minor": 5
}
