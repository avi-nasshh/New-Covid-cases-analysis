{
 "cells": [
  {
   "cell_type": "code",
   "execution_count": 1,
   "id": "62b0813e",
   "metadata": {},
   "outputs": [],
   "source": [
    "import numpy as np\n",
    "import pandas as pd\n",
    "import matplotlib.pyplot as plt\n",
    "import seaborn as sns\n",
    "%matplotlib inline\n",
    "import sys\n",
    "import random\n",
    "from pprint import pprint"
   ]
  },
  {
   "cell_type": "code",
   "execution_count": 40,
   "id": "dbc33fd6",
   "metadata": {},
   "outputs": [],
   "source": [
    "df = pd.read_csv(\"file2.csv\")"
   ]
  },
  {
   "cell_type": "code",
   "execution_count": 41,
   "id": "73a06847",
   "metadata": {
    "scrolled": true
   },
   "outputs": [
    {
     "data": {
      "text/html": [
       "<div>\n",
       "<style scoped>\n",
       "    .dataframe tbody tr th:only-of-type {\n",
       "        vertical-align: middle;\n",
       "    }\n",
       "\n",
       "    .dataframe tbody tr th {\n",
       "        vertical-align: top;\n",
       "    }\n",
       "\n",
       "    .dataframe thead th {\n",
       "        text-align: right;\n",
       "    }\n",
       "</style>\n",
       "<table border=\"1\" class=\"dataframe\">\n",
       "  <thead>\n",
       "    <tr style=\"text-align: right;\">\n",
       "      <th></th>\n",
       "      <th>Unnamed: 0</th>\n",
       "      <th>date</th>\n",
       "      <th>retail_and_recreation</th>\n",
       "      <th>residential</th>\n",
       "      <th>transit_stations</th>\n",
       "      <th>parks</th>\n",
       "      <th>workplaces</th>\n",
       "      <th>iso_code</th>\n",
       "      <th>continent</th>\n",
       "      <th>location</th>\n",
       "      <th>...</th>\n",
       "      <th>new_tests</th>\n",
       "      <th>total_tests</th>\n",
       "      <th>total_tests_per_thousand</th>\n",
       "      <th>new_tests_per_thousand</th>\n",
       "      <th>new_tests_smoothed</th>\n",
       "      <th>new_tests_smoothed_per_thousand</th>\n",
       "      <th>positive_rate</th>\n",
       "      <th>tests_per_case</th>\n",
       "      <th>tests_units</th>\n",
       "      <th>stringency_index</th>\n",
       "    </tr>\n",
       "  </thead>\n",
       "  <tbody>\n",
       "    <tr>\n",
       "      <th>0</th>\n",
       "      <td>32</td>\n",
       "      <td>2020-03-20</td>\n",
       "      <td>-13.000</td>\n",
       "      <td>4.143</td>\n",
       "      <td>-10.286</td>\n",
       "      <td>-5.857</td>\n",
       "      <td>-7.143</td>\n",
       "      <td>IND</td>\n",
       "      <td>Asia</td>\n",
       "      <td>India</td>\n",
       "      <td>...</td>\n",
       "      <td>1060.0</td>\n",
       "      <td>14376.0</td>\n",
       "      <td>0.010</td>\n",
       "      <td>0.001</td>\n",
       "      <td>1125.0</td>\n",
       "      <td>0.001</td>\n",
       "      <td>0.021</td>\n",
       "      <td>48.6</td>\n",
       "      <td>samples tested</td>\n",
       "      <td>70.83</td>\n",
       "    </tr>\n",
       "    <tr>\n",
       "      <th>1</th>\n",
       "      <td>33</td>\n",
       "      <td>2020-03-21</td>\n",
       "      <td>-16.286</td>\n",
       "      <td>4.714</td>\n",
       "      <td>-12.714</td>\n",
       "      <td>-8.286</td>\n",
       "      <td>-8.857</td>\n",
       "      <td>IND</td>\n",
       "      <td>Asia</td>\n",
       "      <td>India</td>\n",
       "      <td>...</td>\n",
       "      <td>1325.0</td>\n",
       "      <td>15701.0</td>\n",
       "      <td>0.011</td>\n",
       "      <td>0.001</td>\n",
       "      <td>1125.0</td>\n",
       "      <td>0.001</td>\n",
       "      <td>0.029</td>\n",
       "      <td>34.5</td>\n",
       "      <td>samples tested</td>\n",
       "      <td>76.39</td>\n",
       "    </tr>\n",
       "    <tr>\n",
       "      <th>2</th>\n",
       "      <td>34</td>\n",
       "      <td>2020-03-22</td>\n",
       "      <td>-25.857</td>\n",
       "      <td>7.286</td>\n",
       "      <td>-21.714</td>\n",
       "      <td>-15.714</td>\n",
       "      <td>-16.143</td>\n",
       "      <td>IND</td>\n",
       "      <td>Asia</td>\n",
       "      <td>India</td>\n",
       "      <td>...</td>\n",
       "      <td>1298.0</td>\n",
       "      <td>16999.0</td>\n",
       "      <td>0.012</td>\n",
       "      <td>0.001</td>\n",
       "      <td>1121.0</td>\n",
       "      <td>0.001</td>\n",
       "      <td>0.036</td>\n",
       "      <td>27.7</td>\n",
       "      <td>samples tested</td>\n",
       "      <td>100.00</td>\n",
       "    </tr>\n",
       "    <tr>\n",
       "      <th>3</th>\n",
       "      <td>35</td>\n",
       "      <td>2020-03-23</td>\n",
       "      <td>-32.429</td>\n",
       "      <td>9.714</td>\n",
       "      <td>-28.286</td>\n",
       "      <td>-20.571</td>\n",
       "      <td>-22.714</td>\n",
       "      <td>IND</td>\n",
       "      <td>Asia</td>\n",
       "      <td>India</td>\n",
       "      <td>...</td>\n",
       "      <td>3708.0</td>\n",
       "      <td>20707.0</td>\n",
       "      <td>0.015</td>\n",
       "      <td>0.003</td>\n",
       "      <td>1462.0</td>\n",
       "      <td>0.001</td>\n",
       "      <td>0.037</td>\n",
       "      <td>26.9</td>\n",
       "      <td>samples tested</td>\n",
       "      <td>86.57</td>\n",
       "    </tr>\n",
       "    <tr>\n",
       "      <th>4</th>\n",
       "      <td>36</td>\n",
       "      <td>2020-03-24</td>\n",
       "      <td>-40.571</td>\n",
       "      <td>12.857</td>\n",
       "      <td>-36.143</td>\n",
       "      <td>-26.571</td>\n",
       "      <td>-30.857</td>\n",
       "      <td>IND</td>\n",
       "      <td>Asia</td>\n",
       "      <td>India</td>\n",
       "      <td>...</td>\n",
       "      <td>157.0</td>\n",
       "      <td>20864.0</td>\n",
       "      <td>0.015</td>\n",
       "      <td>0.000</td>\n",
       "      <td>1295.0</td>\n",
       "      <td>0.001</td>\n",
       "      <td>0.043</td>\n",
       "      <td>23.0</td>\n",
       "      <td>samples tested</td>\n",
       "      <td>86.57</td>\n",
       "    </tr>\n",
       "  </tbody>\n",
       "</table>\n",
       "<p>5 rows × 33 columns</p>\n",
       "</div>"
      ],
      "text/plain": [
       "   Unnamed: 0        date  retail_and_recreation  residential  \\\n",
       "0          32  2020-03-20                -13.000        4.143   \n",
       "1          33  2020-03-21                -16.286        4.714   \n",
       "2          34  2020-03-22                -25.857        7.286   \n",
       "3          35  2020-03-23                -32.429        9.714   \n",
       "4          36  2020-03-24                -40.571       12.857   \n",
       "\n",
       "   transit_stations   parks  workplaces iso_code continent location  ...  \\\n",
       "0           -10.286  -5.857      -7.143      IND      Asia    India  ...   \n",
       "1           -12.714  -8.286      -8.857      IND      Asia    India  ...   \n",
       "2           -21.714 -15.714     -16.143      IND      Asia    India  ...   \n",
       "3           -28.286 -20.571     -22.714      IND      Asia    India  ...   \n",
       "4           -36.143 -26.571     -30.857      IND      Asia    India  ...   \n",
       "\n",
       "   new_tests  total_tests  total_tests_per_thousand  new_tests_per_thousand  \\\n",
       "0     1060.0      14376.0                     0.010                   0.001   \n",
       "1     1325.0      15701.0                     0.011                   0.001   \n",
       "2     1298.0      16999.0                     0.012                   0.001   \n",
       "3     3708.0      20707.0                     0.015                   0.003   \n",
       "4      157.0      20864.0                     0.015                   0.000   \n",
       "\n",
       "   new_tests_smoothed  new_tests_smoothed_per_thousand  positive_rate  \\\n",
       "0              1125.0                            0.001          0.021   \n",
       "1              1125.0                            0.001          0.029   \n",
       "2              1121.0                            0.001          0.036   \n",
       "3              1462.0                            0.001          0.037   \n",
       "4              1295.0                            0.001          0.043   \n",
       "\n",
       "   tests_per_case     tests_units  stringency_index  \n",
       "0            48.6  samples tested             70.83  \n",
       "1            34.5  samples tested             76.39  \n",
       "2            27.7  samples tested            100.00  \n",
       "3            26.9  samples tested             86.57  \n",
       "4            23.0  samples tested             86.57  \n",
       "\n",
       "[5 rows x 33 columns]"
      ]
     },
     "execution_count": 41,
     "metadata": {},
     "output_type": "execute_result"
    }
   ],
   "source": [
    "df.head()"
   ]
  },
  {
   "cell_type": "code",
   "execution_count": 42,
   "id": "1cb03f4b",
   "metadata": {},
   "outputs": [
    {
     "name": "stdout",
     "output_type": "stream",
     "text": [
      "<class 'pandas.core.frame.DataFrame'>\n",
      "RangeIndex: 418 entries, 0 to 417\n",
      "Data columns (total 33 columns):\n",
      " #   Column                           Non-Null Count  Dtype  \n",
      "---  ------                           --------------  -----  \n",
      " 0   Unnamed: 0                       418 non-null    int64  \n",
      " 1   date                             418 non-null    object \n",
      " 2   retail_and_recreation            418 non-null    float64\n",
      " 3   residential                      418 non-null    float64\n",
      " 4   transit_stations                 418 non-null    float64\n",
      " 5   parks                            418 non-null    float64\n",
      " 6   workplaces                       418 non-null    float64\n",
      " 7   iso_code                         418 non-null    object \n",
      " 8   continent                        418 non-null    object \n",
      " 9   location                         418 non-null    object \n",
      " 10  total_cases                      418 non-null    float64\n",
      " 11  new_cases                        418 non-null    float64\n",
      " 12  new_cases_smoothed               418 non-null    float64\n",
      " 13  total_deaths                     418 non-null    float64\n",
      " 14  new_deaths                       418 non-null    float64\n",
      " 15  new_deaths_smoothed              418 non-null    float64\n",
      " 16  total_cases_per_million          418 non-null    float64\n",
      " 17  new_cases_per_million            418 non-null    float64\n",
      " 18  new_cases_smoothed_per_million   418 non-null    float64\n",
      " 19  total_deaths_per_million         418 non-null    float64\n",
      " 20  new_deaths_per_million           418 non-null    float64\n",
      " 21  new_deaths_smoothed_per_million  418 non-null    float64\n",
      " 22  reproduction_rate                418 non-null    float64\n",
      " 23  new_tests                        418 non-null    float64\n",
      " 24  total_tests                      418 non-null    float64\n",
      " 25  total_tests_per_thousand         418 non-null    float64\n",
      " 26  new_tests_per_thousand           418 non-null    float64\n",
      " 27  new_tests_smoothed               418 non-null    float64\n",
      " 28  new_tests_smoothed_per_thousand  418 non-null    float64\n",
      " 29  positive_rate                    418 non-null    float64\n",
      " 30  tests_per_case                   418 non-null    float64\n",
      " 31  tests_units                      418 non-null    object \n",
      " 32  stringency_index                 418 non-null    float64\n",
      "dtypes: float64(27), int64(1), object(5)\n",
      "memory usage: 107.9+ KB\n"
     ]
    }
   ],
   "source": [
    "df.info()"
   ]
  },
  {
   "cell_type": "code",
   "execution_count": 43,
   "id": "7747969b",
   "metadata": {},
   "outputs": [],
   "source": [
    "df.drop(columns = ['Unnamed: 0','date','iso_code','continent','location','tests_units'], inplace = True)"
   ]
  },
  {
   "cell_type": "code",
   "execution_count": 44,
   "id": "de291ca6",
   "metadata": {},
   "outputs": [
    {
     "data": {
      "text/html": [
       "<div>\n",
       "<style scoped>\n",
       "    .dataframe tbody tr th:only-of-type {\n",
       "        vertical-align: middle;\n",
       "    }\n",
       "\n",
       "    .dataframe tbody tr th {\n",
       "        vertical-align: top;\n",
       "    }\n",
       "\n",
       "    .dataframe thead th {\n",
       "        text-align: right;\n",
       "    }\n",
       "</style>\n",
       "<table border=\"1\" class=\"dataframe\">\n",
       "  <thead>\n",
       "    <tr style=\"text-align: right;\">\n",
       "      <th></th>\n",
       "      <th>retail_and_recreation</th>\n",
       "      <th>residential</th>\n",
       "      <th>transit_stations</th>\n",
       "      <th>parks</th>\n",
       "      <th>workplaces</th>\n",
       "      <th>total_cases</th>\n",
       "      <th>new_cases</th>\n",
       "      <th>new_cases_smoothed</th>\n",
       "      <th>total_deaths</th>\n",
       "      <th>new_deaths</th>\n",
       "      <th>...</th>\n",
       "      <th>reproduction_rate</th>\n",
       "      <th>new_tests</th>\n",
       "      <th>total_tests</th>\n",
       "      <th>total_tests_per_thousand</th>\n",
       "      <th>new_tests_per_thousand</th>\n",
       "      <th>new_tests_smoothed</th>\n",
       "      <th>new_tests_smoothed_per_thousand</th>\n",
       "      <th>positive_rate</th>\n",
       "      <th>tests_per_case</th>\n",
       "      <th>stringency_index</th>\n",
       "    </tr>\n",
       "  </thead>\n",
       "  <tbody>\n",
       "    <tr>\n",
       "      <th>0</th>\n",
       "      <td>-13.000</td>\n",
       "      <td>4.143</td>\n",
       "      <td>-10.286</td>\n",
       "      <td>-5.857</td>\n",
       "      <td>-7.143</td>\n",
       "      <td>244.0</td>\n",
       "      <td>50.0</td>\n",
       "      <td>23.143</td>\n",
       "      <td>5.0</td>\n",
       "      <td>1.0</td>\n",
       "      <td>...</td>\n",
       "      <td>2.07</td>\n",
       "      <td>1060.0</td>\n",
       "      <td>14376.0</td>\n",
       "      <td>0.010</td>\n",
       "      <td>0.001</td>\n",
       "      <td>1125.0</td>\n",
       "      <td>0.001</td>\n",
       "      <td>0.021</td>\n",
       "      <td>48.6</td>\n",
       "      <td>70.83</td>\n",
       "    </tr>\n",
       "    <tr>\n",
       "      <th>1</th>\n",
       "      <td>-16.286</td>\n",
       "      <td>4.714</td>\n",
       "      <td>-12.714</td>\n",
       "      <td>-8.286</td>\n",
       "      <td>-8.857</td>\n",
       "      <td>330.0</td>\n",
       "      <td>86.0</td>\n",
       "      <td>32.571</td>\n",
       "      <td>4.0</td>\n",
       "      <td>-1.0</td>\n",
       "      <td>...</td>\n",
       "      <td>2.12</td>\n",
       "      <td>1325.0</td>\n",
       "      <td>15701.0</td>\n",
       "      <td>0.011</td>\n",
       "      <td>0.001</td>\n",
       "      <td>1125.0</td>\n",
       "      <td>0.001</td>\n",
       "      <td>0.029</td>\n",
       "      <td>34.5</td>\n",
       "      <td>76.39</td>\n",
       "    </tr>\n",
       "    <tr>\n",
       "      <th>2</th>\n",
       "      <td>-25.857</td>\n",
       "      <td>7.286</td>\n",
       "      <td>-21.714</td>\n",
       "      <td>-15.714</td>\n",
       "      <td>-16.143</td>\n",
       "      <td>396.0</td>\n",
       "      <td>66.0</td>\n",
       "      <td>40.429</td>\n",
       "      <td>7.0</td>\n",
       "      <td>3.0</td>\n",
       "      <td>...</td>\n",
       "      <td>2.12</td>\n",
       "      <td>1298.0</td>\n",
       "      <td>16999.0</td>\n",
       "      <td>0.012</td>\n",
       "      <td>0.001</td>\n",
       "      <td>1121.0</td>\n",
       "      <td>0.001</td>\n",
       "      <td>0.036</td>\n",
       "      <td>27.7</td>\n",
       "      <td>100.00</td>\n",
       "    </tr>\n",
       "    <tr>\n",
       "      <th>3</th>\n",
       "      <td>-32.429</td>\n",
       "      <td>9.714</td>\n",
       "      <td>-28.286</td>\n",
       "      <td>-20.571</td>\n",
       "      <td>-22.714</td>\n",
       "      <td>499.0</td>\n",
       "      <td>103.0</td>\n",
       "      <td>54.286</td>\n",
       "      <td>10.0</td>\n",
       "      <td>3.0</td>\n",
       "      <td>...</td>\n",
       "      <td>2.11</td>\n",
       "      <td>3708.0</td>\n",
       "      <td>20707.0</td>\n",
       "      <td>0.015</td>\n",
       "      <td>0.003</td>\n",
       "      <td>1462.0</td>\n",
       "      <td>0.001</td>\n",
       "      <td>0.037</td>\n",
       "      <td>26.9</td>\n",
       "      <td>86.57</td>\n",
       "    </tr>\n",
       "    <tr>\n",
       "      <th>4</th>\n",
       "      <td>-40.571</td>\n",
       "      <td>12.857</td>\n",
       "      <td>-36.143</td>\n",
       "      <td>-26.571</td>\n",
       "      <td>-30.857</td>\n",
       "      <td>536.0</td>\n",
       "      <td>37.0</td>\n",
       "      <td>56.286</td>\n",
       "      <td>10.0</td>\n",
       "      <td>0.0</td>\n",
       "      <td>...</td>\n",
       "      <td>2.09</td>\n",
       "      <td>157.0</td>\n",
       "      <td>20864.0</td>\n",
       "      <td>0.015</td>\n",
       "      <td>0.000</td>\n",
       "      <td>1295.0</td>\n",
       "      <td>0.001</td>\n",
       "      <td>0.043</td>\n",
       "      <td>23.0</td>\n",
       "      <td>86.57</td>\n",
       "    </tr>\n",
       "  </tbody>\n",
       "</table>\n",
       "<p>5 rows × 27 columns</p>\n",
       "</div>"
      ],
      "text/plain": [
       "   retail_and_recreation  residential  transit_stations   parks  workplaces  \\\n",
       "0                -13.000        4.143           -10.286  -5.857      -7.143   \n",
       "1                -16.286        4.714           -12.714  -8.286      -8.857   \n",
       "2                -25.857        7.286           -21.714 -15.714     -16.143   \n",
       "3                -32.429        9.714           -28.286 -20.571     -22.714   \n",
       "4                -40.571       12.857           -36.143 -26.571     -30.857   \n",
       "\n",
       "   total_cases  new_cases  new_cases_smoothed  total_deaths  new_deaths  ...  \\\n",
       "0        244.0       50.0              23.143           5.0         1.0  ...   \n",
       "1        330.0       86.0              32.571           4.0        -1.0  ...   \n",
       "2        396.0       66.0              40.429           7.0         3.0  ...   \n",
       "3        499.0      103.0              54.286          10.0         3.0  ...   \n",
       "4        536.0       37.0              56.286          10.0         0.0  ...   \n",
       "\n",
       "   reproduction_rate  new_tests  total_tests  total_tests_per_thousand  \\\n",
       "0               2.07     1060.0      14376.0                     0.010   \n",
       "1               2.12     1325.0      15701.0                     0.011   \n",
       "2               2.12     1298.0      16999.0                     0.012   \n",
       "3               2.11     3708.0      20707.0                     0.015   \n",
       "4               2.09      157.0      20864.0                     0.015   \n",
       "\n",
       "   new_tests_per_thousand  new_tests_smoothed  \\\n",
       "0                   0.001              1125.0   \n",
       "1                   0.001              1125.0   \n",
       "2                   0.001              1121.0   \n",
       "3                   0.003              1462.0   \n",
       "4                   0.000              1295.0   \n",
       "\n",
       "   new_tests_smoothed_per_thousand  positive_rate  tests_per_case  \\\n",
       "0                            0.001          0.021            48.6   \n",
       "1                            0.001          0.029            34.5   \n",
       "2                            0.001          0.036            27.7   \n",
       "3                            0.001          0.037            26.9   \n",
       "4                            0.001          0.043            23.0   \n",
       "\n",
       "   stringency_index  \n",
       "0             70.83  \n",
       "1             76.39  \n",
       "2            100.00  \n",
       "3             86.57  \n",
       "4             86.57  \n",
       "\n",
       "[5 rows x 27 columns]"
      ]
     },
     "execution_count": 44,
     "metadata": {},
     "output_type": "execute_result"
    }
   ],
   "source": [
    "df.head()"
   ]
  },
  {
   "cell_type": "code",
   "execution_count": 45,
   "id": "5350d6cf",
   "metadata": {},
   "outputs": [],
   "source": [
    "x = df.drop(columns = ['new_cases'])\n",
    "y = df['new_cases']"
   ]
  },
  {
   "cell_type": "code",
   "execution_count": 46,
   "id": "a0da5467",
   "metadata": {},
   "outputs": [],
   "source": [
    "from sklearn.model_selection import train_test_split"
   ]
  },
  {
   "cell_type": "code",
   "execution_count": 47,
   "id": "e0915d40",
   "metadata": {},
   "outputs": [],
   "source": [
    "X_train, X_test, y_train, y_test = train_test_split(x,y,test_size=0.2)"
   ]
  },
  {
   "cell_type": "code",
   "execution_count": 48,
   "id": "c342f55a",
   "metadata": {},
   "outputs": [],
   "source": [
    "X_train, X_valid, y_train, y_valid = train_test_split(X_train,y_train,test_size=0.2)"
   ]
  },
  {
   "cell_type": "code",
   "execution_count": 68,
   "id": "f62c1c85",
   "metadata": {},
   "outputs": [
    {
     "ename": "AttributeError",
     "evalue": "'Series' object has no attribute 'reshape'",
     "output_type": "error",
     "traceback": [
      "\u001b[1;31m---------------------------------------------------------------------------\u001b[0m",
      "\u001b[1;31mAttributeError\u001b[0m                            Traceback (most recent call last)",
      "\u001b[1;32m~\\AppData\\Local\\Temp\\ipykernel_24564\\3893845643.py\u001b[0m in \u001b[0;36m<module>\u001b[1;34m\u001b[0m\n\u001b[1;32m----> 1\u001b[1;33m \u001b[0my_train\u001b[0m \u001b[1;33m=\u001b[0m \u001b[0my_train\u001b[0m\u001b[1;33m.\u001b[0m\u001b[0mreshape\u001b[0m\u001b[1;33m(\u001b[0m\u001b[1;33m-\u001b[0m\u001b[1;36m1\u001b[0m\u001b[1;33m,\u001b[0m\u001b[1;36m1\u001b[0m\u001b[1;33m)\u001b[0m\u001b[1;33m\u001b[0m\u001b[1;33m\u001b[0m\u001b[0m\n\u001b[0m\u001b[0;32m      2\u001b[0m \u001b[0my_valid\u001b[0m \u001b[1;33m=\u001b[0m \u001b[0my_valid\u001b[0m\u001b[1;33m.\u001b[0m\u001b[0mreshape\u001b[0m\u001b[1;33m(\u001b[0m\u001b[1;33m-\u001b[0m\u001b[1;36m1\u001b[0m\u001b[1;33m,\u001b[0m\u001b[1;36m1\u001b[0m\u001b[1;33m)\u001b[0m\u001b[1;33m\u001b[0m\u001b[1;33m\u001b[0m\u001b[0m\n\u001b[0;32m      3\u001b[0m \u001b[0my_test\u001b[0m \u001b[1;33m=\u001b[0m \u001b[0my_test\u001b[0m\u001b[1;33m.\u001b[0m\u001b[0mreshape\u001b[0m\u001b[1;33m(\u001b[0m\u001b[1;33m-\u001b[0m\u001b[1;36m1\u001b[0m\u001b[1;33m,\u001b[0m\u001b[1;36m1\u001b[0m\u001b[1;33m)\u001b[0m\u001b[1;33m\u001b[0m\u001b[1;33m\u001b[0m\u001b[0m\n",
      "\u001b[1;32mC:\\ProgramData\\Anaconda3\\lib\\site-packages\\pandas\\core\\generic.py\u001b[0m in \u001b[0;36m__getattr__\u001b[1;34m(self, name)\u001b[0m\n\u001b[0;32m   5573\u001b[0m         ):\n\u001b[0;32m   5574\u001b[0m             \u001b[1;32mreturn\u001b[0m \u001b[0mself\u001b[0m\u001b[1;33m[\u001b[0m\u001b[0mname\u001b[0m\u001b[1;33m]\u001b[0m\u001b[1;33m\u001b[0m\u001b[1;33m\u001b[0m\u001b[0m\n\u001b[1;32m-> 5575\u001b[1;33m         \u001b[1;32mreturn\u001b[0m \u001b[0mobject\u001b[0m\u001b[1;33m.\u001b[0m\u001b[0m__getattribute__\u001b[0m\u001b[1;33m(\u001b[0m\u001b[0mself\u001b[0m\u001b[1;33m,\u001b[0m \u001b[0mname\u001b[0m\u001b[1;33m)\u001b[0m\u001b[1;33m\u001b[0m\u001b[1;33m\u001b[0m\u001b[0m\n\u001b[0m\u001b[0;32m   5576\u001b[0m \u001b[1;33m\u001b[0m\u001b[0m\n\u001b[0;32m   5577\u001b[0m     \u001b[1;32mdef\u001b[0m \u001b[0m__setattr__\u001b[0m\u001b[1;33m(\u001b[0m\u001b[0mself\u001b[0m\u001b[1;33m,\u001b[0m \u001b[0mname\u001b[0m\u001b[1;33m:\u001b[0m \u001b[0mstr\u001b[0m\u001b[1;33m,\u001b[0m \u001b[0mvalue\u001b[0m\u001b[1;33m)\u001b[0m \u001b[1;33m->\u001b[0m \u001b[1;32mNone\u001b[0m\u001b[1;33m:\u001b[0m\u001b[1;33m\u001b[0m\u001b[1;33m\u001b[0m\u001b[0m\n",
      "\u001b[1;31mAttributeError\u001b[0m: 'Series' object has no attribute 'reshape'"
     ]
    }
   ],
   "source": [
    "y_train = y_train.reshape(-1,1)\n",
    "y_valid = y_valid.reshape(-1,1)\n",
    "y_test = y_test.reshape(-1,1)"
   ]
  },
  {
   "cell_type": "code",
   "execution_count": 49,
   "id": "1f38ae93",
   "metadata": {},
   "outputs": [],
   "source": [
    "from sklearn.preprocessing import MinMaxScaler"
   ]
  },
  {
   "cell_type": "code",
   "execution_count": 50,
   "id": "fbf43a80",
   "metadata": {},
   "outputs": [],
   "source": [
    "scaler = MinMaxScaler()"
   ]
  },
  {
   "cell_type": "code",
   "execution_count": 51,
   "id": "6e51bc61",
   "metadata": {},
   "outputs": [],
   "source": [
    "X_train = scaler.fit_transform(X_train)"
   ]
  },
  {
   "cell_type": "code",
   "execution_count": 52,
   "id": "4e2ae1e3",
   "metadata": {},
   "outputs": [],
   "source": [
    "X_valid = scaler.transform(X_valid)"
   ]
  },
  {
   "cell_type": "code",
   "execution_count": 69,
   "id": "cd51758c",
   "metadata": {},
   "outputs": [],
   "source": [
    "from sklearn.svm import SVR"
   ]
  },
  {
   "cell_type": "code",
   "execution_count": 70,
   "id": "e4d7f5df",
   "metadata": {},
   "outputs": [],
   "source": [
    "regressor = SVR(kernel = 'rbf')"
   ]
  },
  {
   "cell_type": "code",
   "execution_count": 71,
   "id": "10db3b4b",
   "metadata": {},
   "outputs": [
    {
     "data": {
      "text/plain": [
       "SVR()"
      ]
     },
     "execution_count": 71,
     "metadata": {},
     "output_type": "execute_result"
    }
   ],
   "source": [
    "regressor.fit(X_train, y_train)"
   ]
  },
  {
   "cell_type": "code",
   "execution_count": 72,
   "id": "7ffb3d86",
   "metadata": {},
   "outputs": [],
   "source": [
    "prediction = regressor.predict(X_valid)"
   ]
  },
  {
   "cell_type": "code",
   "execution_count": 73,
   "id": "19676800",
   "metadata": {},
   "outputs": [
    {
     "name": "stdout",
     "output_type": "stream",
     "text": [
      "93442.36116937666\n"
     ]
    }
   ],
   "source": [
    "MSE = np.square(np.subtract(y_valid,prediction)).mean()   \n",
    "rsme = math.sqrt(MSE)  \n",
    "print(rsme)"
   ]
  },
  {
   "cell_type": "code",
   "execution_count": 63,
   "id": "ac3238a5",
   "metadata": {},
   "outputs": [],
   "source": [
    "model = SVC(kernel = 'poly', degree = 3, C = 0.1, coef0 = 0.0, gamma = 1, max_iter = -1, shrinking = True,\n",
    "            tol = 0.001, verbose = False)"
   ]
  },
  {
   "cell_type": "code",
   "execution_count": 64,
   "id": "acad4d6c",
   "metadata": {},
   "outputs": [
    {
     "data": {
      "text/plain": [
       "SVC(C=0.1, gamma=1, kernel='poly')"
      ]
     },
     "execution_count": 64,
     "metadata": {},
     "output_type": "execute_result"
    }
   ],
   "source": [
    "model.fit(X_train, y_train)"
   ]
  },
  {
   "cell_type": "code",
   "execution_count": 65,
   "id": "5960399e",
   "metadata": {},
   "outputs": [],
   "source": [
    "predictions = model.predict(X_valid)"
   ]
  },
  {
   "cell_type": "code",
   "execution_count": 66,
   "id": "d143db6b",
   "metadata": {},
   "outputs": [],
   "source": [
    "import math"
   ]
  },
  {
   "cell_type": "code",
   "execution_count": 67,
   "id": "0d31b189",
   "metadata": {},
   "outputs": [
    {
     "name": "stdout",
     "output_type": "stream",
     "text": [
      "11008.925700295504\n"
     ]
    }
   ],
   "source": [
    "MSE = np.square(np.subtract(y_valid,predictions)).mean()   \n",
    "rsme = math.sqrt(MSE)  \n",
    "print(rsme)"
   ]
  },
  {
   "cell_type": "code",
   "execution_count": null,
   "id": "c064e119",
   "metadata": {},
   "outputs": [],
   "source": []
  }
 ],
 "metadata": {
  "kernelspec": {
   "display_name": "Python 3 (ipykernel)",
   "language": "python",
   "name": "python3"
  },
  "language_info": {
   "codemirror_mode": {
    "name": "ipython",
    "version": 3
   },
   "file_extension": ".py",
   "mimetype": "text/x-python",
   "name": "python",
   "nbconvert_exporter": "python",
   "pygments_lexer": "ipython3",
   "version": "3.9.13"
  }
 },
 "nbformat": 4,
 "nbformat_minor": 5
}
