{
 "cells": [
  {
   "cell_type": "code",
   "execution_count": 4,
   "id": "e28e5284",
   "metadata": {},
   "outputs": [],
   "source": [
    "import numpy as np\n",
    "import pandas as pd\n",
    "import matplotlib.pyplot as plt\n",
    "import seaborn as sns\n",
    "%matplotlib inline\n",
    "import sys\n",
    "import random\n",
    "from pprint import pprint"
   ]
  },
  {
   "cell_type": "code",
   "execution_count": 3,
   "id": "ddb4b826",
   "metadata": {},
   "outputs": [],
   "source": [
    "df = pd.read_csv('file2.csv')"
   ]
  },
  {
   "cell_type": "code",
   "execution_count": 91,
   "id": "cd132164",
   "metadata": {},
   "outputs": [],
   "source": [
    "# samples = df.drop(columns = {'new_cases'})"
   ]
  },
  {
   "cell_type": "code",
   "execution_count": 92,
   "id": "209a7996",
   "metadata": {},
   "outputs": [],
   "source": [
    "# labels = df['new_cases']"
   ]
  },
  {
   "cell_type": "code",
   "execution_count": 93,
   "id": "7fd7c63b",
   "metadata": {},
   "outputs": [],
   "source": [
    "# from sklearn.model_selection import train_test_split"
   ]
  },
  {
   "cell_type": "code",
   "execution_count": 94,
   "id": "433504fe",
   "metadata": {},
   "outputs": [],
   "source": [
    "# train_samples, valid_samples, train_labels, valid_labels = train_test_split(samples, labels, test_size=0.2)"
   ]
  },
  {
   "cell_type": "code",
   "execution_count": 95,
   "id": "7dc7b1d5",
   "metadata": {},
   "outputs": [],
   "source": [
    "# train_samples, test_samples, train_labels, test_labels = train_test_split(train_samples, train_labels, test_size=0.2)"
   ]
  },
  {
   "cell_type": "code",
   "execution_count": 96,
   "id": "528b7edc",
   "metadata": {},
   "outputs": [],
   "source": [
    "# train = pd.concat((train_samples,train_labels), axis = 1)\n",
    "# test = pd.concat((test_samples, test_labels), axis = 1)\n",
    "# valid = pd.concat((valid_samples, valid_labels), axis = 1)"
   ]
  },
  {
   "cell_type": "code",
   "execution_count": 97,
   "id": "71e621db",
   "metadata": {},
   "outputs": [],
   "source": [
    "# train.to_csv('train.csv',index=False)\n",
    "# test.to_csv('test.csv',index=False)\n",
    "# valid.to_csv('valid.csv',index=False)"
   ]
  },
  {
   "cell_type": "code",
   "execution_count": 5,
   "id": "faa2f6a6",
   "metadata": {},
   "outputs": [],
   "source": [
    "train = pd.read_csv('train.csv')"
   ]
  },
  {
   "cell_type": "code",
   "execution_count": 6,
   "id": "299b0bf9",
   "metadata": {},
   "outputs": [
    {
     "data": {
      "text/html": [
       "<div>\n",
       "<style scoped>\n",
       "    .dataframe tbody tr th:only-of-type {\n",
       "        vertical-align: middle;\n",
       "    }\n",
       "\n",
       "    .dataframe tbody tr th {\n",
       "        vertical-align: top;\n",
       "    }\n",
       "\n",
       "    .dataframe thead th {\n",
       "        text-align: right;\n",
       "    }\n",
       "</style>\n",
       "<table border=\"1\" class=\"dataframe\">\n",
       "  <thead>\n",
       "    <tr style=\"text-align: right;\">\n",
       "      <th></th>\n",
       "      <th>retail_and_recreation</th>\n",
       "      <th>residential</th>\n",
       "      <th>transit_stations</th>\n",
       "      <th>parks</th>\n",
       "      <th>workplaces</th>\n",
       "      <th>total_cases</th>\n",
       "      <th>new_cases_smoothed</th>\n",
       "      <th>total_deaths</th>\n",
       "      <th>new_deaths</th>\n",
       "      <th>new_deaths_smoothed</th>\n",
       "      <th>...</th>\n",
       "      <th>new_tests</th>\n",
       "      <th>total_tests</th>\n",
       "      <th>total_tests_per_thousand</th>\n",
       "      <th>new_tests_per_thousand</th>\n",
       "      <th>new_tests_smoothed</th>\n",
       "      <th>new_tests_smoothed_per_thousand</th>\n",
       "      <th>positive_rate</th>\n",
       "      <th>tests_per_case</th>\n",
       "      <th>stringency_index</th>\n",
       "      <th>new_cases</th>\n",
       "    </tr>\n",
       "  </thead>\n",
       "  <tbody>\n",
       "    <tr>\n",
       "      <th>0</th>\n",
       "      <td>-21.143</td>\n",
       "      <td>7.143</td>\n",
       "      <td>-5.143</td>\n",
       "      <td>-11.143</td>\n",
       "      <td>-11.286</td>\n",
       "      <td>11210799.0</td>\n",
       "      <td>16295.429</td>\n",
       "      <td>157756.0</td>\n",
       "      <td>100.0</td>\n",
       "      <td>100.714</td>\n",
       "      <td>...</td>\n",
       "      <td>751935.0</td>\n",
       "      <td>220692677.0</td>\n",
       "      <td>159.922</td>\n",
       "      <td>0.545</td>\n",
       "      <td>751042.0</td>\n",
       "      <td>0.544</td>\n",
       "      <td>0.022</td>\n",
       "      <td>46.1</td>\n",
       "      <td>63.43</td>\n",
       "      <td>18754.0</td>\n",
       "    </tr>\n",
       "    <tr>\n",
       "      <th>1</th>\n",
       "      <td>-60.857</td>\n",
       "      <td>24.000</td>\n",
       "      <td>-46.571</td>\n",
       "      <td>-44.000</td>\n",
       "      <td>-46.714</td>\n",
       "      <td>22296081.0</td>\n",
       "      <td>391232.000</td>\n",
       "      <td>242347.0</td>\n",
       "      <td>4077.0</td>\n",
       "      <td>3829.286</td>\n",
       "      <td>...</td>\n",
       "      <td>1808344.0</td>\n",
       "      <td>300410043.0</td>\n",
       "      <td>217.688</td>\n",
       "      <td>1.310</td>\n",
       "      <td>1724665.0</td>\n",
       "      <td>1.250</td>\n",
       "      <td>0.227</td>\n",
       "      <td>4.4</td>\n",
       "      <td>73.61</td>\n",
       "      <td>403405.0</td>\n",
       "    </tr>\n",
       "    <tr>\n",
       "      <th>2</th>\n",
       "      <td>-54.571</td>\n",
       "      <td>13.714</td>\n",
       "      <td>-40.286</td>\n",
       "      <td>-52.000</td>\n",
       "      <td>-32.286</td>\n",
       "      <td>2153010.0</td>\n",
       "      <td>57469.571</td>\n",
       "      <td>43379.0</td>\n",
       "      <td>861.0</td>\n",
       "      <td>859.286</td>\n",
       "      <td>...</td>\n",
       "      <td>598778.0</td>\n",
       "      <td>23387171.0</td>\n",
       "      <td>16.947</td>\n",
       "      <td>0.434</td>\n",
       "      <td>575502.0</td>\n",
       "      <td>0.417</td>\n",
       "      <td>0.100</td>\n",
       "      <td>10.0</td>\n",
       "      <td>85.65</td>\n",
       "      <td>64399.0</td>\n",
       "    </tr>\n",
       "    <tr>\n",
       "      <th>3</th>\n",
       "      <td>-35.286</td>\n",
       "      <td>12.857</td>\n",
       "      <td>-23.286</td>\n",
       "      <td>-42.857</td>\n",
       "      <td>-21.714</td>\n",
       "      <td>7370468.0</td>\n",
       "      <td>66331.000</td>\n",
       "      <td>112161.0</td>\n",
       "      <td>895.0</td>\n",
       "      <td>810.143</td>\n",
       "      <td>...</td>\n",
       "      <td>1136183.0</td>\n",
       "      <td>91226305.0</td>\n",
       "      <td>66.106</td>\n",
       "      <td>0.823</td>\n",
       "      <td>1108619.0</td>\n",
       "      <td>0.803</td>\n",
       "      <td>0.060</td>\n",
       "      <td>16.7</td>\n",
       "      <td>64.35</td>\n",
       "      <td>63371.0</td>\n",
       "    </tr>\n",
       "    <tr>\n",
       "      <th>4</th>\n",
       "      <td>-28.286</td>\n",
       "      <td>9.000</td>\n",
       "      <td>-14.857</td>\n",
       "      <td>-18.429</td>\n",
       "      <td>-19.857</td>\n",
       "      <td>9796744.0</td>\n",
       "      <td>32169.286</td>\n",
       "      <td>142185.0</td>\n",
       "      <td>413.0</td>\n",
       "      <td>428.143</td>\n",
       "      <td>...</td>\n",
       "      <td>922959.0</td>\n",
       "      <td>150759726.0</td>\n",
       "      <td>109.246</td>\n",
       "      <td>0.669</td>\n",
       "      <td>1028868.0</td>\n",
       "      <td>0.746</td>\n",
       "      <td>0.031</td>\n",
       "      <td>32.0</td>\n",
       "      <td>68.98</td>\n",
       "      <td>29373.0</td>\n",
       "    </tr>\n",
       "  </tbody>\n",
       "</table>\n",
       "<p>5 rows × 27 columns</p>\n",
       "</div>"
      ],
      "text/plain": [
       "   retail_and_recreation  residential  transit_stations   parks  workplaces  \\\n",
       "0                -21.143        7.143            -5.143 -11.143     -11.286   \n",
       "1                -60.857       24.000           -46.571 -44.000     -46.714   \n",
       "2                -54.571       13.714           -40.286 -52.000     -32.286   \n",
       "3                -35.286       12.857           -23.286 -42.857     -21.714   \n",
       "4                -28.286        9.000           -14.857 -18.429     -19.857   \n",
       "\n",
       "   total_cases  new_cases_smoothed  total_deaths  new_deaths  \\\n",
       "0   11210799.0           16295.429      157756.0       100.0   \n",
       "1   22296081.0          391232.000      242347.0      4077.0   \n",
       "2    2153010.0           57469.571       43379.0       861.0   \n",
       "3    7370468.0           66331.000      112161.0       895.0   \n",
       "4    9796744.0           32169.286      142185.0       413.0   \n",
       "\n",
       "   new_deaths_smoothed  ...  new_tests  total_tests  total_tests_per_thousand  \\\n",
       "0              100.714  ...   751935.0  220692677.0                   159.922   \n",
       "1             3829.286  ...  1808344.0  300410043.0                   217.688   \n",
       "2              859.286  ...   598778.0   23387171.0                    16.947   \n",
       "3              810.143  ...  1136183.0   91226305.0                    66.106   \n",
       "4              428.143  ...   922959.0  150759726.0                   109.246   \n",
       "\n",
       "   new_tests_per_thousand  new_tests_smoothed  \\\n",
       "0                   0.545            751042.0   \n",
       "1                   1.310           1724665.0   \n",
       "2                   0.434            575502.0   \n",
       "3                   0.823           1108619.0   \n",
       "4                   0.669           1028868.0   \n",
       "\n",
       "   new_tests_smoothed_per_thousand  positive_rate  tests_per_case  \\\n",
       "0                            0.544          0.022            46.1   \n",
       "1                            1.250          0.227             4.4   \n",
       "2                            0.417          0.100            10.0   \n",
       "3                            0.803          0.060            16.7   \n",
       "4                            0.746          0.031            32.0   \n",
       "\n",
       "   stringency_index  new_cases  \n",
       "0             63.43    18754.0  \n",
       "1             73.61   403405.0  \n",
       "2             85.65    64399.0  \n",
       "3             64.35    63371.0  \n",
       "4             68.98    29373.0  \n",
       "\n",
       "[5 rows x 27 columns]"
      ]
     },
     "execution_count": 6,
     "metadata": {},
     "output_type": "execute_result"
    }
   ],
   "source": [
    "train.head()"
   ]
  },
  {
   "cell_type": "code",
   "execution_count": 7,
   "id": "010caee0",
   "metadata": {},
   "outputs": [],
   "source": [
    "columns = train.columns"
   ]
  },
  {
   "cell_type": "code",
   "execution_count": 8,
   "id": "06f37fb9",
   "metadata": {},
   "outputs": [],
   "source": [
    "from sklearn import preprocessing"
   ]
  },
  {
   "cell_type": "code",
   "execution_count": 9,
   "id": "a2a58704",
   "metadata": {},
   "outputs": [],
   "source": [
    "train = preprocessing.normalize(train)\n",
    "train = pd.DataFrame(train, columns = columns)"
   ]
  },
  {
   "cell_type": "code",
   "execution_count": 10,
   "id": "9bccc151",
   "metadata": {},
   "outputs": [],
   "source": [
    "train_samples = train.drop(columns = {'new_cases'})\n",
    "train_labels = train['new_cases']"
   ]
  },
  {
   "cell_type": "code",
   "execution_count": 11,
   "id": "27d57b0e",
   "metadata": {
    "scrolled": true
   },
   "outputs": [
    {
     "data": {
      "text/html": [
       "<div>\n",
       "<style scoped>\n",
       "    .dataframe tbody tr th:only-of-type {\n",
       "        vertical-align: middle;\n",
       "    }\n",
       "\n",
       "    .dataframe tbody tr th {\n",
       "        vertical-align: top;\n",
       "    }\n",
       "\n",
       "    .dataframe thead th {\n",
       "        text-align: right;\n",
       "    }\n",
       "</style>\n",
       "<table border=\"1\" class=\"dataframe\">\n",
       "  <thead>\n",
       "    <tr style=\"text-align: right;\">\n",
       "      <th></th>\n",
       "      <th>retail_and_recreation</th>\n",
       "      <th>residential</th>\n",
       "      <th>transit_stations</th>\n",
       "      <th>parks</th>\n",
       "      <th>workplaces</th>\n",
       "      <th>total_cases</th>\n",
       "      <th>new_cases_smoothed</th>\n",
       "      <th>total_deaths</th>\n",
       "      <th>new_deaths</th>\n",
       "      <th>new_deaths_smoothed</th>\n",
       "      <th>...</th>\n",
       "      <th>reproduction_rate</th>\n",
       "      <th>new_tests</th>\n",
       "      <th>total_tests</th>\n",
       "      <th>total_tests_per_thousand</th>\n",
       "      <th>new_tests_per_thousand</th>\n",
       "      <th>new_tests_smoothed</th>\n",
       "      <th>new_tests_smoothed_per_thousand</th>\n",
       "      <th>positive_rate</th>\n",
       "      <th>tests_per_case</th>\n",
       "      <th>stringency_index</th>\n",
       "    </tr>\n",
       "  </thead>\n",
       "  <tbody>\n",
       "    <tr>\n",
       "      <th>0</th>\n",
       "      <td>-9.567841e-08</td>\n",
       "      <td>3.232421e-08</td>\n",
       "      <td>-2.327362e-08</td>\n",
       "      <td>-5.042541e-08</td>\n",
       "      <td>-5.107253e-08</td>\n",
       "      <td>0.050732</td>\n",
       "      <td>0.000074</td>\n",
       "      <td>0.000714</td>\n",
       "      <td>4.525299e-07</td>\n",
       "      <td>4.557610e-07</td>\n",
       "      <td>...</td>\n",
       "      <td>5.385106e-09</td>\n",
       "      <td>0.003403</td>\n",
       "      <td>0.998700</td>\n",
       "      <td>7.236949e-07</td>\n",
       "      <td>2.466288e-09</td>\n",
       "      <td>0.003399</td>\n",
       "      <td>2.461763e-09</td>\n",
       "      <td>9.955659e-11</td>\n",
       "      <td>2.086163e-07</td>\n",
       "      <td>2.870397e-07</td>\n",
       "    </tr>\n",
       "    <tr>\n",
       "      <th>1</th>\n",
       "      <td>-2.020168e-07</td>\n",
       "      <td>7.966877e-08</td>\n",
       "      <td>-1.545939e-07</td>\n",
       "      <td>-1.460594e-07</td>\n",
       "      <td>-1.550686e-07</td>\n",
       "      <td>0.074013</td>\n",
       "      <td>0.001299</td>\n",
       "      <td>0.000804</td>\n",
       "      <td>1.353373e-05</td>\n",
       "      <td>1.271144e-05</td>\n",
       "      <td>...</td>\n",
       "      <td>3.452313e-09</td>\n",
       "      <td>0.006003</td>\n",
       "      <td>0.997221</td>\n",
       "      <td>7.226223e-07</td>\n",
       "      <td>4.348587e-09</td>\n",
       "      <td>0.005725</td>\n",
       "      <td>4.149415e-09</td>\n",
       "      <td>7.535338e-10</td>\n",
       "      <td>1.460594e-08</td>\n",
       "      <td>2.443507e-07</td>\n",
       "    </tr>\n",
       "    <tr>\n",
       "      <th>2</th>\n",
       "      <td>-2.322077e-06</td>\n",
       "      <td>5.835511e-07</td>\n",
       "      <td>-1.714229e-06</td>\n",
       "      <td>-2.212677e-06</td>\n",
       "      <td>-1.373817e-06</td>\n",
       "      <td>0.091614</td>\n",
       "      <td>0.002445</td>\n",
       "      <td>0.001846</td>\n",
       "      <td>3.663683e-05</td>\n",
       "      <td>3.656390e-05</td>\n",
       "      <td>...</td>\n",
       "      <td>4.808318e-08</td>\n",
       "      <td>0.025479</td>\n",
       "      <td>0.995159</td>\n",
       "      <td>7.211200e-07</td>\n",
       "      <td>1.846734e-08</td>\n",
       "      <td>0.024488</td>\n",
       "      <td>1.774397e-08</td>\n",
       "      <td>4.255149e-09</td>\n",
       "      <td>4.255149e-07</td>\n",
       "      <td>3.644535e-06</td>\n",
       "    </tr>\n",
       "    <tr>\n",
       "      <th>3</th>\n",
       "      <td>-3.854816e-07</td>\n",
       "      <td>1.404562e-07</td>\n",
       "      <td>-2.543877e-07</td>\n",
       "      <td>-4.681909e-07</td>\n",
       "      <td>-2.372144e-07</td>\n",
       "      <td>0.080519</td>\n",
       "      <td>0.000725</td>\n",
       "      <td>0.001225</td>\n",
       "      <td>9.777420e-06</td>\n",
       "      <td>8.850400e-06</td>\n",
       "      <td>...</td>\n",
       "      <td>9.722797e-09</td>\n",
       "      <td>0.012412</td>\n",
       "      <td>0.996601</td>\n",
       "      <td>7.221744e-07</td>\n",
       "      <td>8.990856e-09</td>\n",
       "      <td>0.012111</td>\n",
       "      <td>8.772367e-09</td>\n",
       "      <td>6.554695e-10</td>\n",
       "      <td>1.824390e-07</td>\n",
       "      <td>7.029910e-07</td>\n",
       "    </tr>\n",
       "    <tr>\n",
       "      <th>4</th>\n",
       "      <td>-1.872202e-07</td>\n",
       "      <td>5.956947e-08</td>\n",
       "      <td>-9.833596e-08</td>\n",
       "      <td>-1.219784e-07</td>\n",
       "      <td>-1.314301e-07</td>\n",
       "      <td>0.064843</td>\n",
       "      <td>0.000213</td>\n",
       "      <td>0.000941</td>\n",
       "      <td>2.733577e-06</td>\n",
       "      <td>2.833806e-06</td>\n",
       "      <td>...</td>\n",
       "      <td>5.692194e-09</td>\n",
       "      <td>0.006109</td>\n",
       "      <td>0.997853</td>\n",
       "      <td>7.230807e-07</td>\n",
       "      <td>4.427998e-09</td>\n",
       "      <td>0.006810</td>\n",
       "      <td>4.937647e-09</td>\n",
       "      <td>2.051837e-10</td>\n",
       "      <td>2.118026e-07</td>\n",
       "      <td>4.565669e-07</td>\n",
       "    </tr>\n",
       "  </tbody>\n",
       "</table>\n",
       "<p>5 rows × 26 columns</p>\n",
       "</div>"
      ],
      "text/plain": [
       "   retail_and_recreation   residential  transit_stations         parks  \\\n",
       "0          -9.567841e-08  3.232421e-08     -2.327362e-08 -5.042541e-08   \n",
       "1          -2.020168e-07  7.966877e-08     -1.545939e-07 -1.460594e-07   \n",
       "2          -2.322077e-06  5.835511e-07     -1.714229e-06 -2.212677e-06   \n",
       "3          -3.854816e-07  1.404562e-07     -2.543877e-07 -4.681909e-07   \n",
       "4          -1.872202e-07  5.956947e-08     -9.833596e-08 -1.219784e-07   \n",
       "\n",
       "     workplaces  total_cases  new_cases_smoothed  total_deaths    new_deaths  \\\n",
       "0 -5.107253e-08     0.050732            0.000074      0.000714  4.525299e-07   \n",
       "1 -1.550686e-07     0.074013            0.001299      0.000804  1.353373e-05   \n",
       "2 -1.373817e-06     0.091614            0.002445      0.001846  3.663683e-05   \n",
       "3 -2.372144e-07     0.080519            0.000725      0.001225  9.777420e-06   \n",
       "4 -1.314301e-07     0.064843            0.000213      0.000941  2.733577e-06   \n",
       "\n",
       "   new_deaths_smoothed  ...  reproduction_rate  new_tests  total_tests  \\\n",
       "0         4.557610e-07  ...       5.385106e-09   0.003403     0.998700   \n",
       "1         1.271144e-05  ...       3.452313e-09   0.006003     0.997221   \n",
       "2         3.656390e-05  ...       4.808318e-08   0.025479     0.995159   \n",
       "3         8.850400e-06  ...       9.722797e-09   0.012412     0.996601   \n",
       "4         2.833806e-06  ...       5.692194e-09   0.006109     0.997853   \n",
       "\n",
       "   total_tests_per_thousand  new_tests_per_thousand  new_tests_smoothed  \\\n",
       "0              7.236949e-07            2.466288e-09            0.003399   \n",
       "1              7.226223e-07            4.348587e-09            0.005725   \n",
       "2              7.211200e-07            1.846734e-08            0.024488   \n",
       "3              7.221744e-07            8.990856e-09            0.012111   \n",
       "4              7.230807e-07            4.427998e-09            0.006810   \n",
       "\n",
       "   new_tests_smoothed_per_thousand  positive_rate  tests_per_case  \\\n",
       "0                     2.461763e-09   9.955659e-11    2.086163e-07   \n",
       "1                     4.149415e-09   7.535338e-10    1.460594e-08   \n",
       "2                     1.774397e-08   4.255149e-09    4.255149e-07   \n",
       "3                     8.772367e-09   6.554695e-10    1.824390e-07   \n",
       "4                     4.937647e-09   2.051837e-10    2.118026e-07   \n",
       "\n",
       "   stringency_index  \n",
       "0      2.870397e-07  \n",
       "1      2.443507e-07  \n",
       "2      3.644535e-06  \n",
       "3      7.029910e-07  \n",
       "4      4.565669e-07  \n",
       "\n",
       "[5 rows x 26 columns]"
      ]
     },
     "execution_count": 11,
     "metadata": {},
     "output_type": "execute_result"
    }
   ],
   "source": [
    "train_samples.head()"
   ]
  },
  {
   "cell_type": "code",
   "execution_count": 12,
   "id": "423f7fe8",
   "metadata": {},
   "outputs": [],
   "source": [
    "# pip install tensorflow"
   ]
  },
  {
   "cell_type": "code",
   "execution_count": 13,
   "id": "503d9041",
   "metadata": {},
   "outputs": [],
   "source": [
    "from tensorflow.keras import models, layers\n",
    "import tensorflow as tf"
   ]
  },
  {
   "cell_type": "code",
   "execution_count": 14,
   "id": "5a89ab1f",
   "metadata": {},
   "outputs": [],
   "source": [
    "# Feature Extractor\n",
    "def getFeatureRepresentation(x):\n",
    "    tensors = tf.convert_to_tensor(x, dtype = float)\n",
    "    model = models.Sequential()\n",
    "    model.add(tf.keras.Input(shape=(26,)))\n",
    "    model.add(layers.Dense(40, activation='tanh'))\n",
    "    model.add(layers.Dense(128, activation = 'tanh'))\n",
    "    model.add(layers.Dense(40, activation='tanh'))\n",
    "    model.compile()\n",
    "    feature_representation = model.predict(x = tensors)\n",
    "    return feature_representation"
   ]
  },
  {
   "cell_type": "code",
   "execution_count": 15,
   "id": "478a63e0",
   "metadata": {},
   "outputs": [
    {
     "name": "stdout",
     "output_type": "stream",
     "text": [
      "9/9 [==============================] - 0s 3ms/step\n"
     ]
    }
   ],
   "source": [
    "train_feature_repr = getFeatureRepresentation(train_samples)\n",
    "# val_feature_repr = getFeatureRepresentation(valid_samples)\n",
    "# test_feature_repr = getFeatureRepresentation(test_samples)"
   ]
  },
  {
   "cell_type": "code",
   "execution_count": 16,
   "id": "337f85ea",
   "metadata": {},
   "outputs": [
    {
     "data": {
      "text/plain": [
       "(267, 40)"
      ]
     },
     "execution_count": 16,
     "metadata": {},
     "output_type": "execute_result"
    }
   ],
   "source": [
    "train_feature_repr.shape"
   ]
  },
  {
   "cell_type": "code",
   "execution_count": 19,
   "id": "199738ba",
   "metadata": {},
   "outputs": [],
   "source": [
    "#Task Label Generator\n",
    "def taskLabelGenerator(feature_repr, labels):\n",
    "    \n",
    "    labels = labels.to_numpy()\n",
    "    labels = np.reshape(labels, (labels.size, 1))\n",
    "    \n",
    "    feaRepLabel = np.concatenate((feature_repr, labels), axis = 1)\n",
    "    tensors = tf.convert_to_tensor(feaRepLabel, dtype = float)\n",
    "    \n",
    "    model = models.Sequential()\n",
    "    model.add(tf.keras.Input(shape=(41,)))\n",
    "    model.add(layers.Dense(64))\n",
    "    model.add(layers.Dense(40))\n",
    "    model.compile()\n",
    "    task_labels = model.predict(x = tensors)\n",
    "    task_label_mean = np.average(task_labels, axis = 0)\n",
    "    layer = layers.Softmax()\n",
    "    task_label = layer(task_label_mean).numpy()\n",
    "    return task_label"
   ]
  },
  {
   "cell_type": "code",
   "execution_count": 20,
   "id": "1d83e271",
   "metadata": {},
   "outputs": [
    {
     "name": "stdout",
     "output_type": "stream",
     "text": [
      "9/9 [==============================] - 0s 808us/step\n"
     ]
    }
   ],
   "source": [
    "train_task_label = taskLabelGenerator(train_feature_repr, train_labels)"
   ]
  },
  {
   "cell_type": "code",
   "execution_count": 21,
   "id": "79433b2c",
   "metadata": {},
   "outputs": [
    {
     "data": {
      "text/plain": [
       "(40,)"
      ]
     },
     "execution_count": 21,
     "metadata": {},
     "output_type": "execute_result"
    }
   ],
   "source": [
    "train_task_label.shape"
   ]
  },
  {
   "cell_type": "code",
   "execution_count": 22,
   "id": "504843ac",
   "metadata": {},
   "outputs": [],
   "source": [
    "#Weights Generator\n",
    "def weightsGenerator(feature_repr, labels, task_label):\n",
    "    \n",
    "    labels = labels.to_numpy()\n",
    "    labels = np.reshape(labels, (labels.size, 1))\n",
    "    \n",
    "    task_label = np.reshape(task_label, (1,40))\n",
    "    task_label = np.tile(task_label, (labels.size, 1))\n",
    "    \n",
    "    feaRepLabelTaskLabel = np.concatenate((feature_repr, labels, task_label), axis = 1)\n",
    "    tensor = tf.convert_to_tensor(feaRepLabelTaskLabel, dtype = float)\n",
    "    \n",
    "    model = models.Sequential()\n",
    "    model.add(tf.keras.Input(shape=(81,)))\n",
    "    model.add(layers.Dense(64))\n",
    "    model.add(layers.Dense(40))\n",
    "    model.compile()\n",
    "    weights = model.predict(x = tensor)\n",
    "    weight_mean = np.average(weights, axis = 0)\n",
    "    return weight_mean"
   ]
  },
  {
   "cell_type": "code",
   "execution_count": 23,
   "id": "11602b6e",
   "metadata": {},
   "outputs": [
    {
     "name": "stdout",
     "output_type": "stream",
     "text": [
      "9/9 [==============================] - 0s 975us/step\n"
     ]
    }
   ],
   "source": [
    "weights = weightsGenerator(train_feature_repr, train_labels, train_task_label)"
   ]
  },
  {
   "cell_type": "code",
   "execution_count": 24,
   "id": "bd0081ad",
   "metadata": {},
   "outputs": [],
   "source": [
    "result = np.dot(train_feature_repr, weights)"
   ]
  },
  {
   "cell_type": "code",
   "execution_count": 25,
   "id": "33aa3039",
   "metadata": {},
   "outputs": [],
   "source": [
    "from sklearn.metrics import mean_squared_error"
   ]
  },
  {
   "cell_type": "code",
   "execution_count": 26,
   "id": "7611f029",
   "metadata": {},
   "outputs": [
    {
     "data": {
      "text/plain": [
       "0.05055870985538222"
      ]
     },
     "execution_count": 26,
     "metadata": {},
     "output_type": "execute_result"
    }
   ],
   "source": [
    "rms = mean_squared_error(train_labels, result, squared=False)\n",
    "rms"
   ]
  },
  {
   "cell_type": "code",
   "execution_count": 26,
   "id": "2cbb98b3",
   "metadata": {},
   "outputs": [],
   "source": [
    "valid = pd.read_csv('valid.csv')"
   ]
  },
  {
   "cell_type": "code",
   "execution_count": 27,
   "id": "3c688cb3",
   "metadata": {},
   "outputs": [],
   "source": [
    "valid = preprocessing.normalize(valid)\n",
    "valid = pd.DataFrame(valid, columns = columns)"
   ]
  },
  {
   "cell_type": "code",
   "execution_count": 28,
   "id": "f4cdd795",
   "metadata": {},
   "outputs": [],
   "source": [
    "valid_samples = valid.drop(columns = {'new_cases'})\n",
    "valid_labels = valid['new_cases']"
   ]
  },
  {
   "cell_type": "code",
   "execution_count": 29,
   "id": "e6cb0b9e",
   "metadata": {},
   "outputs": [
    {
     "name": "stdout",
     "output_type": "stream",
     "text": [
      "3/3 [==============================] - 0s 8ms/step\n"
     ]
    }
   ],
   "source": [
    "val_feature_repr = getFeatureRepresentation(valid_samples)"
   ]
  },
  {
   "cell_type": "code",
   "execution_count": 30,
   "id": "12ebb615",
   "metadata": {},
   "outputs": [],
   "source": [
    "result = np.dot(val_feature_repr, weights)"
   ]
  },
  {
   "cell_type": "code",
   "execution_count": 32,
   "id": "bafd6c8c",
   "metadata": {},
   "outputs": [
    {
     "data": {
      "text/plain": [
       "0.006477517271545071"
      ]
     },
     "execution_count": 32,
     "metadata": {},
     "output_type": "execute_result"
    }
   ],
   "source": [
    "valid_rms = mean_squared_error(valid_labels, result, squared=False)\n",
    "valid_rms"
   ]
  },
  {
   "cell_type": "code",
   "execution_count": 27,
   "id": "bd9991ef",
   "metadata": {},
   "outputs": [],
   "source": [
    "test = pd.read_csv('test.csv')"
   ]
  },
  {
   "cell_type": "code",
   "execution_count": 28,
   "id": "8aaada87",
   "metadata": {},
   "outputs": [],
   "source": [
    "test = preprocessing.normalize(test)\n",
    "test = pd.DataFrame(test, columns = columns)"
   ]
  },
  {
   "cell_type": "code",
   "execution_count": 29,
   "id": "51386a87",
   "metadata": {},
   "outputs": [],
   "source": [
    "test_samples = test.drop(columns = {'new_cases'})\n",
    "test_labels = test['new_cases']"
   ]
  },
  {
   "cell_type": "code",
   "execution_count": 30,
   "id": "e17627d1",
   "metadata": {},
   "outputs": [
    {
     "name": "stdout",
     "output_type": "stream",
     "text": [
      "3/3 [==============================] - 0s 6ms/step\n"
     ]
    }
   ],
   "source": [
    "test_feature_repr = getFeatureRepresentation(test_samples)"
   ]
  },
  {
   "cell_type": "code",
   "execution_count": 31,
   "id": "686687d3",
   "metadata": {},
   "outputs": [],
   "source": [
    "result = np.dot(test_feature_repr, weights)"
   ]
  },
  {
   "cell_type": "code",
   "execution_count": 32,
   "id": "26fda6b4",
   "metadata": {},
   "outputs": [
    {
     "data": {
      "text/plain": [
       "0.05120367906505811"
      ]
     },
     "execution_count": 32,
     "metadata": {},
     "output_type": "execute_result"
    }
   ],
   "source": [
    "test_rms = mean_squared_error(test_labels, result, squared=False)\n",
    "test_rms"
   ]
  },
  {
   "cell_type": "code",
   "execution_count": null,
   "id": "32ac06dc",
   "metadata": {},
   "outputs": [],
   "source": []
  },
  {
   "cell_type": "markdown",
   "id": "8d72c9da",
   "metadata": {},
   "source": [
    "Adding Self Attention Block"
   ]
  },
  {
   "cell_type": "code",
   "execution_count": 19,
   "id": "50e6eef8",
   "metadata": {},
   "outputs": [
    {
     "name": "stdout",
     "output_type": "stream",
     "text": [
      "Collecting keras_self_attention\n",
      "  Downloading keras-self-attention-0.51.0.tar.gz (11 kB)\n",
      "Requirement already satisfied: numpy in e:\\anaconda3\\inst\\lib\\site-packages (from keras_self_attention) (1.22.4)\n",
      "Building wheels for collected packages: keras-self-attention\n",
      "  Building wheel for keras-self-attention (setup.py): started\n",
      "  Building wheel for keras-self-attention (setup.py): finished with status 'done'\n",
      "  Created wheel for keras-self-attention: filename=keras_self_attention-0.51.0-py3-none-any.whl size=18912 sha256=f02d341df3753634894f249600b2f7441af813bfadf3310fe6ee4ae5899c8217\n",
      "  Stored in directory: c:\\users\\cad lab c_27\\appdata\\local\\pip\\cache\\wheels\\78\\c1\\84\\b83a2fd6f1d63e136cba74bac4126bee3b8705eef6486635fd\n",
      "Successfully built keras-self-attention\n",
      "Installing collected packages: keras-self-attention\n",
      "Successfully installed keras-self-attention-0.51.0\n",
      "Note: you may need to restart the kernel to use updated packages.\n"
     ]
    }
   ],
   "source": [
    "pip install keras_self_attention"
   ]
  },
  {
   "cell_type": "code",
   "execution_count": 20,
   "id": "6b650d14",
   "metadata": {},
   "outputs": [],
   "source": [
    "import keras\n",
    "from keras_self_attention import SeqSelfAttention"
   ]
  },
  {
   "cell_type": "code",
   "execution_count": 33,
   "id": "fe604058",
   "metadata": {},
   "outputs": [],
   "source": [
    "def selfAttentionBlock(model, embedding, residual_connection):\n",
    "    model.add(SeqSelfAttention(attention_activation = 'sigmoid'))\n",
    "    model.add(layers.Dense(128, activation = 'relu'))\n",
    "    model.add(layers.Dense(64))\n",
    "    output = model.add(layers.LayerNormalization(axis=1))\n",
    "    model.layers.Add()([embedding, output])\n",
    "    model.compile()\n",
    "    output = model.predict(embedding)\n",
    "    return output"
   ]
  },
  {
   "cell_type": "code",
   "execution_count": 34,
   "id": "061064e4",
   "metadata": {},
   "outputs": [],
   "source": [
    "#Task Label Generator\n",
    "def taskLabelGenerator(feature_repr, labels):\n",
    "    \n",
    "    labels = labels.to_numpy()\n",
    "    labels = np.reshape(labels, (labels.size, 1))\n",
    "    \n",
    "    feaRepLabel = np.concatenate((feature_repr, labels), axis = 1)\n",
    "    tensor = tf.convert_to_tensor(feaRepLabel, dtype = float)\n",
    "    \n",
    "    model = models.Sequential()\n",
    "    \n",
    "    #First Layer\n",
    "    model.add(tf.keras.Input(shape=(41,)))\n",
    "    \n",
    "    #Second Layer\n",
    "    embedding = model.add(layers.Dense(64))\n",
    "    \n",
    "    #First Self-Attention Block\n",
    "    tensor = selfAttentionBlock(model, embedding, embedding)\n",
    "    \n",
    "    #Second Self-Attention Block\n",
    "    tensor = selfAttentionBlock(model, tensor, embedding)\n",
    "    \n",
    "    #Third Self-Attention Block\n",
    "    tensor = selfAttentionBlock(model, tensor, embedding)\n",
    "    \n",
    "    #Final Layer\n",
    "    model.add(layer.Dense(40))\n",
    "    \n",
    "    model.compile()\n",
    "    task_labels = model.predict(x = tensor)\n",
    "    \n",
    "    #Taking mean of all task labels\n",
    "    task_label_mean = np.average(task_labels, axis = 0)\n",
    "    \n",
    "    #Applying Softmax\n",
    "    layer = layers.Softmax()\n",
    "    task_label = layer(task_label_mean).numpy()\n",
    "    return task_label"
   ]
  },
  {
   "cell_type": "code",
   "execution_count": 32,
   "id": "c37fa054",
   "metadata": {},
   "outputs": [
    {
     "ename": "IndexError",
     "evalue": "tuple index out of range",
     "output_type": "error",
     "traceback": [
      "\u001b[1;31m---------------------------------------------------------------------------\u001b[0m",
      "\u001b[1;31mIndexError\u001b[0m                                Traceback (most recent call last)",
      "\u001b[1;32m~\\AppData\\Local\\Temp\\ipykernel_21128\\1998495473.py\u001b[0m in \u001b[0;36m<module>\u001b[1;34m\u001b[0m\n\u001b[1;32m----> 1\u001b[1;33m \u001b[0mtrain_task_label\u001b[0m \u001b[1;33m=\u001b[0m \u001b[0mtaskLabelGenerator\u001b[0m\u001b[1;33m(\u001b[0m\u001b[0mtrain_feature_repr\u001b[0m\u001b[1;33m,\u001b[0m \u001b[0mtrain_labels\u001b[0m\u001b[1;33m)\u001b[0m\u001b[1;33m\u001b[0m\u001b[1;33m\u001b[0m\u001b[0m\n\u001b[0m",
      "\u001b[1;32m~\\AppData\\Local\\Temp\\ipykernel_21128\\396945333.py\u001b[0m in \u001b[0;36mtaskLabelGenerator\u001b[1;34m(feature_repr, labels)\u001b[0m\n\u001b[0;32m     17\u001b[0m \u001b[1;33m\u001b[0m\u001b[0m\n\u001b[0;32m     18\u001b[0m     \u001b[1;31m#First Self-Attention Block\u001b[0m\u001b[1;33m\u001b[0m\u001b[1;33m\u001b[0m\u001b[0m\n\u001b[1;32m---> 19\u001b[1;33m     \u001b[0mtensor\u001b[0m \u001b[1;33m=\u001b[0m \u001b[0mselfAttentionBlock\u001b[0m\u001b[1;33m(\u001b[0m\u001b[0mmodel\u001b[0m\u001b[1;33m,\u001b[0m \u001b[0membedding\u001b[0m\u001b[1;33m,\u001b[0m \u001b[0membedding\u001b[0m\u001b[1;33m)\u001b[0m\u001b[1;33m\u001b[0m\u001b[1;33m\u001b[0m\u001b[0m\n\u001b[0m\u001b[0;32m     20\u001b[0m \u001b[1;33m\u001b[0m\u001b[0m\n\u001b[0;32m     21\u001b[0m     \u001b[1;31m#Second Self-Attention Block\u001b[0m\u001b[1;33m\u001b[0m\u001b[1;33m\u001b[0m\u001b[0m\n",
      "\u001b[1;32m~\\AppData\\Local\\Temp\\ipykernel_21128\\3737324142.py\u001b[0m in \u001b[0;36mselfAttentionBlock\u001b[1;34m(model, embedding, residual_connection)\u001b[0m\n\u001b[0;32m      1\u001b[0m \u001b[1;32mdef\u001b[0m \u001b[0mselfAttentionBlock\u001b[0m\u001b[1;33m(\u001b[0m\u001b[0mmodel\u001b[0m\u001b[1;33m,\u001b[0m \u001b[0membedding\u001b[0m\u001b[1;33m,\u001b[0m \u001b[0mresidual_connection\u001b[0m\u001b[1;33m)\u001b[0m\u001b[1;33m:\u001b[0m\u001b[1;33m\u001b[0m\u001b[1;33m\u001b[0m\u001b[0m\n\u001b[1;32m----> 2\u001b[1;33m     \u001b[0mmodel\u001b[0m\u001b[1;33m.\u001b[0m\u001b[0madd\u001b[0m\u001b[1;33m(\u001b[0m\u001b[0mSeqSelfAttention\u001b[0m\u001b[1;33m(\u001b[0m\u001b[0mattention_activation\u001b[0m \u001b[1;33m=\u001b[0m \u001b[1;34m'sigmoid'\u001b[0m\u001b[1;33m)\u001b[0m\u001b[1;33m)\u001b[0m\u001b[1;33m\u001b[0m\u001b[1;33m\u001b[0m\u001b[0m\n\u001b[0m\u001b[0;32m      3\u001b[0m     \u001b[0mmodel\u001b[0m\u001b[1;33m.\u001b[0m\u001b[0madd\u001b[0m\u001b[1;33m(\u001b[0m\u001b[0mlayers\u001b[0m\u001b[1;33m.\u001b[0m\u001b[0mDense\u001b[0m\u001b[1;33m(\u001b[0m\u001b[1;36m128\u001b[0m\u001b[1;33m,\u001b[0m \u001b[0mactivation\u001b[0m \u001b[1;33m=\u001b[0m \u001b[1;34m'relu'\u001b[0m\u001b[1;33m)\u001b[0m\u001b[1;33m)\u001b[0m\u001b[1;33m\u001b[0m\u001b[1;33m\u001b[0m\u001b[0m\n\u001b[0;32m      4\u001b[0m     \u001b[0mmodel\u001b[0m\u001b[1;33m.\u001b[0m\u001b[0madd\u001b[0m\u001b[1;33m(\u001b[0m\u001b[0mlayers\u001b[0m\u001b[1;33m.\u001b[0m\u001b[0mDense\u001b[0m\u001b[1;33m(\u001b[0m\u001b[1;36m64\u001b[0m\u001b[1;33m)\u001b[0m\u001b[1;33m)\u001b[0m\u001b[1;33m\u001b[0m\u001b[1;33m\u001b[0m\u001b[0m\n\u001b[0;32m      5\u001b[0m     \u001b[0moutput\u001b[0m \u001b[1;33m=\u001b[0m \u001b[0mmodel\u001b[0m\u001b[1;33m.\u001b[0m\u001b[0madd\u001b[0m\u001b[1;33m(\u001b[0m\u001b[0mlayers\u001b[0m\u001b[1;33m.\u001b[0m\u001b[0mLayerNormalization\u001b[0m\u001b[1;33m(\u001b[0m\u001b[0maxis\u001b[0m\u001b[1;33m=\u001b[0m\u001b[1;36m1\u001b[0m\u001b[1;33m)\u001b[0m\u001b[1;33m)\u001b[0m\u001b[1;33m\u001b[0m\u001b[1;33m\u001b[0m\u001b[0m\n",
      "\u001b[1;32mC:\\ProgramData\\Anaconda3\\lib\\site-packages\\tensorflow\\python\\trackable\\base.py\u001b[0m in \u001b[0;36m_method_wrapper\u001b[1;34m(self, *args, **kwargs)\u001b[0m\n\u001b[0;32m    203\u001b[0m     \u001b[0mself\u001b[0m\u001b[1;33m.\u001b[0m\u001b[0m_self_setattr_tracking\u001b[0m \u001b[1;33m=\u001b[0m \u001b[1;32mFalse\u001b[0m  \u001b[1;31m# pylint: disable=protected-access\u001b[0m\u001b[1;33m\u001b[0m\u001b[1;33m\u001b[0m\u001b[0m\n\u001b[0;32m    204\u001b[0m     \u001b[1;32mtry\u001b[0m\u001b[1;33m:\u001b[0m\u001b[1;33m\u001b[0m\u001b[1;33m\u001b[0m\u001b[0m\n\u001b[1;32m--> 205\u001b[1;33m       \u001b[0mresult\u001b[0m \u001b[1;33m=\u001b[0m \u001b[0mmethod\u001b[0m\u001b[1;33m(\u001b[0m\u001b[0mself\u001b[0m\u001b[1;33m,\u001b[0m \u001b[1;33m*\u001b[0m\u001b[0margs\u001b[0m\u001b[1;33m,\u001b[0m \u001b[1;33m**\u001b[0m\u001b[0mkwargs\u001b[0m\u001b[1;33m)\u001b[0m\u001b[1;33m\u001b[0m\u001b[1;33m\u001b[0m\u001b[0m\n\u001b[0m\u001b[0;32m    206\u001b[0m     \u001b[1;32mfinally\u001b[0m\u001b[1;33m:\u001b[0m\u001b[1;33m\u001b[0m\u001b[1;33m\u001b[0m\u001b[0m\n\u001b[0;32m    207\u001b[0m       \u001b[0mself\u001b[0m\u001b[1;33m.\u001b[0m\u001b[0m_self_setattr_tracking\u001b[0m \u001b[1;33m=\u001b[0m \u001b[0mprevious_value\u001b[0m  \u001b[1;31m# pylint: disable=protected-access\u001b[0m\u001b[1;33m\u001b[0m\u001b[1;33m\u001b[0m\u001b[0m\n",
      "\u001b[1;32mC:\\ProgramData\\Anaconda3\\lib\\site-packages\\keras\\utils\\traceback_utils.py\u001b[0m in \u001b[0;36merror_handler\u001b[1;34m(*args, **kwargs)\u001b[0m\n\u001b[0;32m     68\u001b[0m             \u001b[1;31m# To get the full stack trace, call:\u001b[0m\u001b[1;33m\u001b[0m\u001b[1;33m\u001b[0m\u001b[0m\n\u001b[0;32m     69\u001b[0m             \u001b[1;31m# `tf.debugging.disable_traceback_filtering()`\u001b[0m\u001b[1;33m\u001b[0m\u001b[1;33m\u001b[0m\u001b[0m\n\u001b[1;32m---> 70\u001b[1;33m             \u001b[1;32mraise\u001b[0m \u001b[0me\u001b[0m\u001b[1;33m.\u001b[0m\u001b[0mwith_traceback\u001b[0m\u001b[1;33m(\u001b[0m\u001b[0mfiltered_tb\u001b[0m\u001b[1;33m)\u001b[0m \u001b[1;32mfrom\u001b[0m \u001b[1;32mNone\u001b[0m\u001b[1;33m\u001b[0m\u001b[1;33m\u001b[0m\u001b[0m\n\u001b[0m\u001b[0;32m     71\u001b[0m         \u001b[1;32mfinally\u001b[0m\u001b[1;33m:\u001b[0m\u001b[1;33m\u001b[0m\u001b[1;33m\u001b[0m\u001b[0m\n\u001b[0;32m     72\u001b[0m             \u001b[1;32mdel\u001b[0m \u001b[0mfiltered_tb\u001b[0m\u001b[1;33m\u001b[0m\u001b[1;33m\u001b[0m\u001b[0m\n",
      "\u001b[1;32mC:\\ProgramData\\Anaconda3\\lib\\site-packages\\tensorflow\\python\\framework\\tensor_shape.py\u001b[0m in \u001b[0;36m__getitem__\u001b[1;34m(self, key)\u001b[0m\n\u001b[0;32m    955\u001b[0m       \u001b[1;32melse\u001b[0m\u001b[1;33m:\u001b[0m\u001b[1;33m\u001b[0m\u001b[1;33m\u001b[0m\u001b[0m\n\u001b[0;32m    956\u001b[0m         \u001b[1;32mif\u001b[0m \u001b[0mself\u001b[0m\u001b[1;33m.\u001b[0m\u001b[0m_v2_behavior\u001b[0m\u001b[1;33m:\u001b[0m\u001b[1;33m\u001b[0m\u001b[1;33m\u001b[0m\u001b[0m\n\u001b[1;32m--> 957\u001b[1;33m           \u001b[1;32mreturn\u001b[0m \u001b[0mself\u001b[0m\u001b[1;33m.\u001b[0m\u001b[0m_dims\u001b[0m\u001b[1;33m[\u001b[0m\u001b[0mkey\u001b[0m\u001b[1;33m]\u001b[0m\u001b[1;33m\u001b[0m\u001b[1;33m\u001b[0m\u001b[0m\n\u001b[0m\u001b[0;32m    958\u001b[0m         \u001b[1;32melse\u001b[0m\u001b[1;33m:\u001b[0m\u001b[1;33m\u001b[0m\u001b[1;33m\u001b[0m\u001b[0m\n\u001b[0;32m    959\u001b[0m           \u001b[1;32mreturn\u001b[0m \u001b[0mself\u001b[0m\u001b[1;33m.\u001b[0m\u001b[0mdims\u001b[0m\u001b[1;33m[\u001b[0m\u001b[0mkey\u001b[0m\u001b[1;33m]\u001b[0m\u001b[1;33m\u001b[0m\u001b[1;33m\u001b[0m\u001b[0m\n",
      "\u001b[1;31mIndexError\u001b[0m: tuple index out of range"
     ]
    }
   ],
   "source": [
    "train_task_label = taskLabelGenerator(train_feature_repr, train_labels)"
   ]
  },
  {
   "cell_type": "code",
   "execution_count": null,
   "id": "9bda4285",
   "metadata": {},
   "outputs": [],
   "source": []
  },
  {
   "cell_type": "code",
   "execution_count": null,
   "id": "0e13e696",
   "metadata": {},
   "outputs": [],
   "source": [
    "#Weights Generator\n",
    "def weightsGenerator(feature_repr, labels, task_label):\n",
    "    \n",
    "    labels = labels.to_numpy()\n",
    "    labels = np.reshape(labels, (labels.size, 1))\n",
    "    \n",
    "    task_label = np.reshape(task_label, (1,40))\n",
    "    task_label = np.tile(task_label, (labels.size, 1))\n",
    "    \n",
    "    feaRepLabelTaskLabel = np.concatenate((feature_repr, labels, task_label), axis = 1)\n",
    "    tensor = tf.convert_to_tensor(feaRepLabelTaskLabel, dtype = float)\n",
    "    \n",
    "    model = models.Sequential()\n",
    "    \n",
    "    #First Layer\n",
    "    model.add(tf.keras.Input(shape=(81,)))\n",
    "    \n",
    "    #Second Layer\n",
    "    embedding = model.add(layers.Dense(64))\n",
    "    \n",
    "    #First Self-Attention Block\n",
    "    tensor = selfAttentionBlock(embedding, embedding)\n",
    "    \n",
    "    #Second Self-Attention Block\n",
    "    tensor = selfAttentionBlock(tensor, embedding)\n",
    "    \n",
    "    #Third Self-Attention Block\n",
    "    tensor = selfAttentionBlock(tensor, embedding)\n",
    "    \n",
    "    #Final Layer\n",
    "    model.add(layers.Dense(40))\n",
    "    \n",
    "    model.compile()\n",
    "    weights = model.predict(x = tensor)\n",
    "    \n",
    "    #Taking mean of all the weights\n",
    "    weight_mean = np.average(weights, axis = 0)\n",
    "    return weight_mean"
   ]
  },
  {
   "cell_type": "code",
   "execution_count": null,
   "id": "6f3885ca",
   "metadata": {},
   "outputs": [],
   "source": []
  },
  {
   "cell_type": "code",
   "execution_count": null,
   "id": "c339ded3",
   "metadata": {},
   "outputs": [],
   "source": []
  }
 ],
 "metadata": {
  "kernelspec": {
   "display_name": "Python 3 (ipykernel)",
   "language": "python",
   "name": "python3"
  },
  "language_info": {
   "codemirror_mode": {
    "name": "ipython",
    "version": 3
   },
   "file_extension": ".py",
   "mimetype": "text/x-python",
   "name": "python",
   "nbconvert_exporter": "python",
   "pygments_lexer": "ipython3",
   "version": "3.9.13"
  }
 },
 "nbformat": 4,
 "nbformat_minor": 5
}
